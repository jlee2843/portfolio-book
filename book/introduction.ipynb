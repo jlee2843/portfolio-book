{
 "cells": [
  {
   "cell_type": "markdown",
   "id": "978499c3-45c6-428c-a820-3485c0cf7623",
   "metadata": {},
   "source": [
    "# Introduction"
   ]
  },
  {
   "cell_type": "markdown",
   "id": "147c0bcc-d195-4011-be2c-ee7fb2b43b03",
   "metadata": {},
   "source": [
    "![info](hub_new.gif \"segment\")\n"
   ]
  },
  {
   "cell_type": "markdown",
   "id": "41a34e80",
   "metadata": {},
   "source": [
    "\n",
    "<center>\n",
    "<html>\n",
    "<head>\n",
    "<link rel=\"stylesheet\" href=\"https://cdnjs.cloudflare.com/ajax/libs/font-awesome/4.7.0/css/font-awesome.min.css\">\n",
    "</head>\n",
    "<body>\n",
    "<!-- <p style=\"color:salmon;\">Lorem ipsum...</p> -->\n",
    "\n",
    "<a href=\"https://github.com/jlee2843\"> <i class=\"fa fa-github\" style=\"font-size:30px;color:PaleVioletRed;\"></i> jlee2843</a>\n",
    "$| $\n",
    "<a href=\"www.linkedin.com/in/jennyjeeun\"> <i class=\"fa fa-linkedin\" style=\"font-size:30px;color:PaleVioletRed;\"></i> jennyjeeun</a>\n",
    "$| $\n",
    "<a href=\"www.linkedin.com/in/jennyjeeun\"> <i class=\"fa fa-inbox\" style=\"font-size:30px;color:PaleVioletRed;\"></i>  jennyjeeun@gmail.com</a>\n",
    "<!-- \n",
    "</p> -->\n",
    "</body>\n",
    "</center>"
   ]
  },
  {
   "cell_type": "markdown",
   "id": "accb7e2a",
   "metadata": {},
   "source": [
    "## List of Projects"
   ]
  },
  {
   "cell_type": "markdown",
   "id": "78f21a5e",
   "metadata": {},
   "source": [
    "### Individual Projects"
   ]
  },
  {
   "cell_type": "code",
   "execution_count": null,
   "id": "5e6d3dbf",
   "metadata": {},
   "outputs": [],
   "source": []
  },
  {
   "cell_type": "markdown",
   "id": "b5994a86",
   "metadata": {
    "tags": [
     "full-width"
    ]
   },
   "source": [
    "\n",
    "| Title   | Date | Skills Used       | Language | \n",
    "| :-------------        | ----------------------- | ----------------------- | ----------------------- | \n",
    "| [Alternative Recipe](../alternative-recipe.ipynb)| 05/2023  | ‧ Data wrangling and cleaning <br/> ‧ Web application development and deployment <br/> ‧ Statistical comparison using MSE | Python |\n",
    "| [Misinformation Analysis](../misinformation-analysis.ipynb)| 04/2023  | ‧ Natural language processing (NLP) <br/> ‧ Sentimental Analysis <br/> ‧ Text characteristic exploration <br/> ‧ Feature selection <br/> ‧ Classification modeling comparison | Python |\n"
   ]
  },
  {
   "cell_type": "markdown",
   "id": "3760d29e",
   "metadata": {},
   "source": [
    "### Research Projects"
   ]
  },
  {
   "cell_type": "markdown",
   "id": "8d814947",
   "metadata": {},
   "source": [
    "\n",
    "| Title   | Date | Skills Used       | Language | \n",
    "| :-------------        | ----------------------- | ----------------------- | ----------------------- | \n",
    "| [SCOPE Algorithm](../alternative-recipe.ipynb)| 05/2023  | ‧ Data wrangling and cleaning <br/> ‧ Web application development and deployment <br/> ‧ Statistical comparison using MSE | Python |\n",
    "| [Peer Review](../misinformation-analysis.ipynb)| 04/2023  | ‧ Natural language processing (NLP) <br/> ‧ Sentimental Analysis <br/> ‧ Text characteristic exploration <br/> ‧ Feature selection <br/> ‧ Classification modeling comparison | Python |"
   ]
  },
  {
   "cell_type": "markdown",
   "id": "c253cd59",
   "metadata": {},
   "source": []
  }
 ],
 "metadata": {
  "kernelspec": {
   "display_name": "Python 3 (ipykernel)",
   "language": "python",
   "name": "python3"
  },
  "language_info": {
   "codemirror_mode": {
    "name": "ipython",
    "version": 3
   },
   "file_extension": ".py",
   "mimetype": "text/x-python",
   "name": "python",
   "nbconvert_exporter": "python",
   "pygments_lexer": "ipython3",
   "version": "3.11.7"
  }
 },
 "nbformat": 4,
 "nbformat_minor": 5
}
