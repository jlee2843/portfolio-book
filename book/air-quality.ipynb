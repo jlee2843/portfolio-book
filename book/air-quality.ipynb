{
 "cells": [
  {
   "cell_type": "markdown",
   "metadata": {},
   "source": [
    "# Understanding Air Quality in Canada and Its Impact on Environment\n",
    "Jenny Lee, September 2022"
   ]
  },
  {
   "cell_type": "markdown",
   "metadata": {},
   "source": [
    "```{note}\n",
    "Kindly note that this web page solely offers a synopsis of the **Air Quality in Canada** project. The comprehensive set of scripts and codes used in the project is available in the corresponding [GitHub repository](https://github.com/jlee2843/data-visualizations-portfolio/tree/main/air-quality).\n",
    "```"
   ]
  },
  {
   "cell_type": "markdown",
   "metadata": {},
   "source": [
    "## Project Outline"
   ]
  },
  {
   "cell_type": "code",
   "execution_count": 27,
   "metadata": {
    "tags": [
     "remove-input"
    ]
   },
   "outputs": [],
   "source": [
    "import pandas as pd \n",
    "import numpy as np\n",
    "import IPython\n",
    "from IPython.display import YouTubeVideo\n",
    "from IPython.display import HTML\n",
    "from myst_nb import glue\n",
    "from schemdraw.flow import *\n",
    "from schemdraw import flow\n",
    "import plotly.io as pio\n",
    "import plotly\n",
    "import plotly.express as px\n",
    "import plotly.graph_objects as go\n",
    "import plotly.figure_factory as ff\n",
    "import matplotlib.pyplot as plt\n",
    "from plotly.subplots import make_subplots\n",
    "import plotly.offline as py\n",
    "from IPython import display\n",
    "import scipy.stats as stats"
   ]
  },
  {
   "cell_type": "markdown",
   "metadata": {},
   "source": [
    "```{admonition} Data science toolbox used in this project\n",
    ":class: tip, dropdown\n",
    "- Data analysis\n",
    "- Data cleaning and wrangling\n",
    "- Interactive visualizations with `Plotly`\n",
    "```"
   ]
  },
  {
   "cell_type": "markdown",
   "metadata": {},
   "source": [
    "In this project, I integrated three different types of datasets: air pollutant emissions, wildfires in Canada, and Canadian population estimates. The original data sources were as follows:\n",
    "\n",
    "- **Air Pollution Emissions Across Provinces**: Canada's Air Pollutant Emissions Inventory[^ref1]\n",
    "- **Wildfires in Canada**: Canadian National Fire Database[^ref2]\n",
    "- **Canadian Population Estimates**: Population Estimates from Statistics Canada[^ref3]\n",
    "\n",
    "The Government of Canada[^ref4]  had identified sulfur oxides, nitrogen oxides, volatile organic compounds, particulate matter, carbon monoxide, ammonia, and ground-level ozone as the most common air contaminants in Canada.\n",
    "\n",
    "Canada's Air Pollutant Inventory[^ref5] listed a total of thirteen air pollutants. For this project, the focus was on sulfur oxides, nitrogen oxides, volatile organic compounds, carbon monoxide, and ammonia—the pollutants recognized as the most common in Canada."
   ]
  },
  {
   "cell_type": "markdown",
   "metadata": {},
   "source": [
    "## Overall Process"
   ]
  },
  {
   "cell_type": "markdown",
   "metadata": {},
   "source": [
    "### Gathering Provincial Pollutant Emissions per Capita"
   ]
  },
  {
   "cell_type": "markdown",
   "metadata": {},
   "source": [
    "To investigate the air quality in Canada from the past to the present, we start by identifying pollutants that significantly impact air quality and health. We have chosen $\\text{NO}_X$, $\\text{NH}_3$, $\\text{CO}$, $\\text{SO}_X$, and $\\text{VOC}$ as major pollutants for closer examination. \n",
    "\n",
    "First, we start by gathering data from Statistics Canada's Air Pollutant Emissions Inventory [^ref1] across all provinces in Canada. Data is collected from 1990 to 2020. "
   ]
  },
  {
   "cell_type": "code",
   "execution_count": 5,
   "metadata": {
    "tags": [
     "remove-input",
     "output_scroll",
     "full-width"
    ]
   },
   "outputs": [
    {
     "data": {
      "text/html": [
       "<div>\n",
       "<style scoped>\n",
       "    .dataframe tbody tr th:only-of-type {\n",
       "        vertical-align: middle;\n",
       "    }\n",
       "\n",
       "    .dataframe tbody tr th {\n",
       "        vertical-align: top;\n",
       "    }\n",
       "\n",
       "    .dataframe thead th {\n",
       "        text-align: right;\n",
       "    }\n",
       "</style>\n",
       "<table border=\"1\" class=\"dataframe\">\n",
       "  <thead>\n",
       "    <tr style=\"text-align: right;\">\n",
       "      <th></th>\n",
       "      <th>Province</th>\n",
       "      <th>Pollutant</th>\n",
       "      <th>1990</th>\n",
       "      <th>1991</th>\n",
       "      <th>1992</th>\n",
       "      <th>1993</th>\n",
       "      <th>1994</th>\n",
       "      <th>1995</th>\n",
       "      <th>1996</th>\n",
       "      <th>1997</th>\n",
       "      <th>...</th>\n",
       "      <th>2011</th>\n",
       "      <th>2012</th>\n",
       "      <th>2013</th>\n",
       "      <th>2014</th>\n",
       "      <th>2015</th>\n",
       "      <th>2016</th>\n",
       "      <th>2017</th>\n",
       "      <th>2018</th>\n",
       "      <th>2019</th>\n",
       "      <th>2020</th>\n",
       "    </tr>\n",
       "  </thead>\n",
       "  <tbody>\n",
       "    <tr>\n",
       "      <th>0</th>\n",
       "      <td>AB</td>\n",
       "      <td>NH3</td>\n",
       "      <td>9.526164e+04</td>\n",
       "      <td>9.639261e+04</td>\n",
       "      <td>1.008097e+05</td>\n",
       "      <td>1.028888e+05</td>\n",
       "      <td>1.089093e+05</td>\n",
       "      <td>1.178732e+05</td>\n",
       "      <td>1.236291e+05</td>\n",
       "      <td>1.262743e+05</td>\n",
       "      <td>...</td>\n",
       "      <td>1.326415e+05</td>\n",
       "      <td>1.376306e+05</td>\n",
       "      <td>1.397076e+05</td>\n",
       "      <td>1.410951e+05</td>\n",
       "      <td>1.399376e+05</td>\n",
       "      <td>1.326195e+05</td>\n",
       "      <td>1.240209e+05</td>\n",
       "      <td>1.304921e+05</td>\n",
       "      <td>1.314405e+05</td>\n",
       "      <td>1.331618e+05</td>\n",
       "    </tr>\n",
       "    <tr>\n",
       "      <th>1</th>\n",
       "      <td>AB</td>\n",
       "      <td>CO</td>\n",
       "      <td>1.810389e+06</td>\n",
       "      <td>1.674240e+06</td>\n",
       "      <td>1.694347e+06</td>\n",
       "      <td>1.670384e+06</td>\n",
       "      <td>1.713860e+06</td>\n",
       "      <td>1.699242e+06</td>\n",
       "      <td>1.707362e+06</td>\n",
       "      <td>1.747507e+06</td>\n",
       "      <td>...</td>\n",
       "      <td>1.015160e+06</td>\n",
       "      <td>1.020173e+06</td>\n",
       "      <td>1.044806e+06</td>\n",
       "      <td>1.083451e+06</td>\n",
       "      <td>9.855169e+05</td>\n",
       "      <td>9.504380e+05</td>\n",
       "      <td>1.009270e+06</td>\n",
       "      <td>1.001194e+06</td>\n",
       "      <td>9.920628e+05</td>\n",
       "      <td>8.902351e+05</td>\n",
       "    </tr>\n",
       "    <tr>\n",
       "      <th>2</th>\n",
       "      <td>AB</td>\n",
       "      <td>SOX</td>\n",
       "      <td>5.124052e+05</td>\n",
       "      <td>5.241442e+05</td>\n",
       "      <td>5.647178e+05</td>\n",
       "      <td>5.714739e+05</td>\n",
       "      <td>5.949002e+05</td>\n",
       "      <td>5.692126e+05</td>\n",
       "      <td>5.566791e+05</td>\n",
       "      <td>5.229893e+05</td>\n",
       "      <td>...</td>\n",
       "      <td>3.431343e+05</td>\n",
       "      <td>3.338778e+05</td>\n",
       "      <td>3.141877e+05</td>\n",
       "      <td>2.915925e+05</td>\n",
       "      <td>2.597254e+05</td>\n",
       "      <td>2.395688e+05</td>\n",
       "      <td>2.414400e+05</td>\n",
       "      <td>2.257589e+05</td>\n",
       "      <td>2.212878e+05</td>\n",
       "      <td>1.825363e+05</td>\n",
       "    </tr>\n",
       "    <tr>\n",
       "      <th>3</th>\n",
       "      <td>AB</td>\n",
       "      <td>NOX</td>\n",
       "      <td>6.132843e+05</td>\n",
       "      <td>5.857053e+05</td>\n",
       "      <td>6.094636e+05</td>\n",
       "      <td>6.408844e+05</td>\n",
       "      <td>6.925471e+05</td>\n",
       "      <td>7.181249e+05</td>\n",
       "      <td>7.493965e+05</td>\n",
       "      <td>8.158733e+05</td>\n",
       "      <td>...</td>\n",
       "      <td>6.919385e+05</td>\n",
       "      <td>6.490507e+05</td>\n",
       "      <td>6.437103e+05</td>\n",
       "      <td>6.567357e+05</td>\n",
       "      <td>6.309796e+05</td>\n",
       "      <td>6.032689e+05</td>\n",
       "      <td>6.272719e+05</td>\n",
       "      <td>6.259764e+05</td>\n",
       "      <td>6.256367e+05</td>\n",
       "      <td>5.676972e+05</td>\n",
       "    </tr>\n",
       "    <tr>\n",
       "      <th>4</th>\n",
       "      <td>AB</td>\n",
       "      <td>VOC</td>\n",
       "      <td>6.437522e+05</td>\n",
       "      <td>6.246338e+05</td>\n",
       "      <td>6.424776e+05</td>\n",
       "      <td>6.543844e+05</td>\n",
       "      <td>6.695575e+05</td>\n",
       "      <td>6.797924e+05</td>\n",
       "      <td>7.085224e+05</td>\n",
       "      <td>6.783623e+05</td>\n",
       "      <td>...</td>\n",
       "      <td>4.786803e+05</td>\n",
       "      <td>5.188245e+05</td>\n",
       "      <td>5.564111e+05</td>\n",
       "      <td>5.726153e+05</td>\n",
       "      <td>5.174218e+05</td>\n",
       "      <td>4.767401e+05</td>\n",
       "      <td>4.743014e+05</td>\n",
       "      <td>5.010748e+05</td>\n",
       "      <td>4.926366e+05</td>\n",
       "      <td>4.569326e+05</td>\n",
       "    </tr>\n",
       "    <tr>\n",
       "      <th>5</th>\n",
       "      <td>BC</td>\n",
       "      <td>NH3</td>\n",
       "      <td>2.299599e+04</td>\n",
       "      <td>2.231089e+04</td>\n",
       "      <td>2.288312e+04</td>\n",
       "      <td>2.342389e+04</td>\n",
       "      <td>2.344615e+04</td>\n",
       "      <td>2.427614e+04</td>\n",
       "      <td>2.431375e+04</td>\n",
       "      <td>2.426103e+04</td>\n",
       "      <td>...</td>\n",
       "      <td>1.967345e+04</td>\n",
       "      <td>1.959705e+04</td>\n",
       "      <td>1.995701e+04</td>\n",
       "      <td>1.940665e+04</td>\n",
       "      <td>1.945427e+04</td>\n",
       "      <td>1.989855e+04</td>\n",
       "      <td>2.014479e+04</td>\n",
       "      <td>2.096211e+04</td>\n",
       "      <td>2.108867e+04</td>\n",
       "      <td>2.269767e+04</td>\n",
       "    </tr>\n",
       "    <tr>\n",
       "      <th>6</th>\n",
       "      <td>BC</td>\n",
       "      <td>CO</td>\n",
       "      <td>2.340344e+06</td>\n",
       "      <td>2.353114e+06</td>\n",
       "      <td>2.155700e+06</td>\n",
       "      <td>2.363510e+06</td>\n",
       "      <td>2.295990e+06</td>\n",
       "      <td>2.238614e+06</td>\n",
       "      <td>2.110270e+06</td>\n",
       "      <td>2.027979e+06</td>\n",
       "      <td>...</td>\n",
       "      <td>7.362304e+05</td>\n",
       "      <td>7.370418e+05</td>\n",
       "      <td>6.619696e+05</td>\n",
       "      <td>6.604148e+05</td>\n",
       "      <td>6.309956e+05</td>\n",
       "      <td>6.605450e+05</td>\n",
       "      <td>6.813199e+05</td>\n",
       "      <td>6.934029e+05</td>\n",
       "      <td>6.796667e+05</td>\n",
       "      <td>6.451523e+05</td>\n",
       "    </tr>\n",
       "    <tr>\n",
       "      <th>7</th>\n",
       "      <td>BC</td>\n",
       "      <td>SOX</td>\n",
       "      <td>1.107474e+05</td>\n",
       "      <td>9.068985e+04</td>\n",
       "      <td>7.935032e+04</td>\n",
       "      <td>7.742206e+04</td>\n",
       "      <td>8.818666e+04</td>\n",
       "      <td>8.235897e+04</td>\n",
       "      <td>7.864431e+04</td>\n",
       "      <td>8.210732e+04</td>\n",
       "      <td>...</td>\n",
       "      <td>7.122132e+04</td>\n",
       "      <td>7.321098e+04</td>\n",
       "      <td>7.541982e+04</td>\n",
       "      <td>7.584722e+04</td>\n",
       "      <td>6.254080e+04</td>\n",
       "      <td>6.844373e+04</td>\n",
       "      <td>7.191675e+04</td>\n",
       "      <td>7.335602e+04</td>\n",
       "      <td>6.892292e+04</td>\n",
       "      <td>6.991539e+04</td>\n",
       "    </tr>\n",
       "    <tr>\n",
       "      <th>8</th>\n",
       "      <td>BC</td>\n",
       "      <td>NOX</td>\n",
       "      <td>2.859677e+05</td>\n",
       "      <td>2.708281e+05</td>\n",
       "      <td>2.621269e+05</td>\n",
       "      <td>2.718991e+05</td>\n",
       "      <td>2.942639e+05</td>\n",
       "      <td>2.969478e+05</td>\n",
       "      <td>3.066073e+05</td>\n",
       "      <td>3.161685e+05</td>\n",
       "      <td>...</td>\n",
       "      <td>2.312695e+05</td>\n",
       "      <td>2.251075e+05</td>\n",
       "      <td>2.282223e+05</td>\n",
       "      <td>2.227189e+05</td>\n",
       "      <td>2.131847e+05</td>\n",
       "      <td>2.108348e+05</td>\n",
       "      <td>2.159642e+05</td>\n",
       "      <td>2.236922e+05</td>\n",
       "      <td>2.205847e+05</td>\n",
       "      <td>2.094688e+05</td>\n",
       "    </tr>\n",
       "    <tr>\n",
       "      <th>9</th>\n",
       "      <td>BC</td>\n",
       "      <td>VOC</td>\n",
       "      <td>3.749732e+05</td>\n",
       "      <td>3.767629e+05</td>\n",
       "      <td>3.551831e+05</td>\n",
       "      <td>3.902692e+05</td>\n",
       "      <td>3.769054e+05</td>\n",
       "      <td>3.797770e+05</td>\n",
       "      <td>3.641541e+05</td>\n",
       "      <td>3.548833e+05</td>\n",
       "      <td>...</td>\n",
       "      <td>1.677213e+05</td>\n",
       "      <td>1.651836e+05</td>\n",
       "      <td>1.665486e+05</td>\n",
       "      <td>1.593865e+05</td>\n",
       "      <td>1.563130e+05</td>\n",
       "      <td>1.443814e+05</td>\n",
       "      <td>1.422841e+05</td>\n",
       "      <td>1.416760e+05</td>\n",
       "      <td>1.399496e+05</td>\n",
       "      <td>1.312110e+05</td>\n",
       "    </tr>\n",
       "    <tr>\n",
       "      <th>10</th>\n",
       "      <td>ON</td>\n",
       "      <td>NH3</td>\n",
       "      <td>1.105196e+05</td>\n",
       "      <td>1.068000e+05</td>\n",
       "      <td>1.054187e+05</td>\n",
       "      <td>1.028781e+05</td>\n",
       "      <td>1.037644e+05</td>\n",
       "      <td>1.094289e+05</td>\n",
       "      <td>1.113429e+05</td>\n",
       "      <td>1.090433e+05</td>\n",
       "      <td>...</td>\n",
       "      <td>8.978325e+04</td>\n",
       "      <td>8.824884e+04</td>\n",
       "      <td>9.057178e+04</td>\n",
       "      <td>8.716692e+04</td>\n",
       "      <td>8.477330e+04</td>\n",
       "      <td>8.865068e+04</td>\n",
       "      <td>8.759371e+04</td>\n",
       "      <td>8.746485e+04</td>\n",
       "      <td>8.877395e+04</td>\n",
       "      <td>9.194017e+04</td>\n",
       "    </tr>\n",
       "    <tr>\n",
       "      <th>11</th>\n",
       "      <td>ON</td>\n",
       "      <td>CO</td>\n",
       "      <td>3.269271e+06</td>\n",
       "      <td>3.288746e+06</td>\n",
       "      <td>3.289638e+06</td>\n",
       "      <td>3.326173e+06</td>\n",
       "      <td>3.239036e+06</td>\n",
       "      <td>3.253013e+06</td>\n",
       "      <td>3.172824e+06</td>\n",
       "      <td>3.172563e+06</td>\n",
       "      <td>...</td>\n",
       "      <td>1.516718e+06</td>\n",
       "      <td>1.333303e+06</td>\n",
       "      <td>1.347308e+06</td>\n",
       "      <td>1.316822e+06</td>\n",
       "      <td>1.301904e+06</td>\n",
       "      <td>1.262839e+06</td>\n",
       "      <td>1.260940e+06</td>\n",
       "      <td>1.282041e+06</td>\n",
       "      <td>1.280204e+06</td>\n",
       "      <td>1.128216e+06</td>\n",
       "    </tr>\n",
       "    <tr>\n",
       "      <th>12</th>\n",
       "      <td>ON</td>\n",
       "      <td>SOX</td>\n",
       "      <td>1.123223e+06</td>\n",
       "      <td>1.040497e+06</td>\n",
       "      <td>8.500874e+05</td>\n",
       "      <td>7.479657e+05</td>\n",
       "      <td>5.560366e+05</td>\n",
       "      <td>5.813466e+05</td>\n",
       "      <td>5.999452e+05</td>\n",
       "      <td>5.975818e+05</td>\n",
       "      <td>...</td>\n",
       "      <td>2.608183e+05</td>\n",
       "      <td>2.537806e+05</td>\n",
       "      <td>2.682490e+05</td>\n",
       "      <td>2.550261e+05</td>\n",
       "      <td>2.505080e+05</td>\n",
       "      <td>2.490127e+05</td>\n",
       "      <td>1.755484e+05</td>\n",
       "      <td>1.453514e+05</td>\n",
       "      <td>1.113529e+05</td>\n",
       "      <td>1.127620e+05</td>\n",
       "    </tr>\n",
       "    <tr>\n",
       "      <th>13</th>\n",
       "      <td>ON</td>\n",
       "      <td>NOX</td>\n",
       "      <td>6.026165e+05</td>\n",
       "      <td>5.921593e+05</td>\n",
       "      <td>6.060585e+05</td>\n",
       "      <td>5.953700e+05</td>\n",
       "      <td>5.999595e+05</td>\n",
       "      <td>6.191147e+05</td>\n",
       "      <td>6.343924e+05</td>\n",
       "      <td>6.735753e+05</td>\n",
       "      <td>...</td>\n",
       "      <td>3.583423e+05</td>\n",
       "      <td>3.348769e+05</td>\n",
       "      <td>3.175711e+05</td>\n",
       "      <td>2.912034e+05</td>\n",
       "      <td>2.808280e+05</td>\n",
       "      <td>2.644571e+05</td>\n",
       "      <td>2.698432e+05</td>\n",
       "      <td>2.777800e+05</td>\n",
       "      <td>2.714668e+05</td>\n",
       "      <td>2.292602e+05</td>\n",
       "    </tr>\n",
       "    <tr>\n",
       "      <th>14</th>\n",
       "      <td>ON</td>\n",
       "      <td>VOC</td>\n",
       "      <td>8.527794e+05</td>\n",
       "      <td>8.370145e+05</td>\n",
       "      <td>8.394441e+05</td>\n",
       "      <td>8.546847e+05</td>\n",
       "      <td>8.487121e+05</td>\n",
       "      <td>8.277172e+05</td>\n",
       "      <td>8.152171e+05</td>\n",
       "      <td>8.053338e+05</td>\n",
       "      <td>...</td>\n",
       "      <td>4.080329e+05</td>\n",
       "      <td>3.825040e+05</td>\n",
       "      <td>3.797158e+05</td>\n",
       "      <td>3.725979e+05</td>\n",
       "      <td>3.546466e+05</td>\n",
       "      <td>3.388676e+05</td>\n",
       "      <td>3.367840e+05</td>\n",
       "      <td>3.521427e+05</td>\n",
       "      <td>3.471546e+05</td>\n",
       "      <td>3.081950e+05</td>\n",
       "    </tr>\n",
       "    <tr>\n",
       "      <th>15</th>\n",
       "      <td>MB</td>\n",
       "      <td>NH3</td>\n",
       "      <td>3.804731e+04</td>\n",
       "      <td>4.018156e+04</td>\n",
       "      <td>4.177450e+04</td>\n",
       "      <td>4.321955e+04</td>\n",
       "      <td>4.493360e+04</td>\n",
       "      <td>4.768859e+04</td>\n",
       "      <td>4.970319e+04</td>\n",
       "      <td>5.139193e+04</td>\n",
       "      <td>...</td>\n",
       "      <td>5.179281e+04</td>\n",
       "      <td>5.211923e+04</td>\n",
       "      <td>5.702355e+04</td>\n",
       "      <td>5.450654e+04</td>\n",
       "      <td>5.626214e+04</td>\n",
       "      <td>5.739388e+04</td>\n",
       "      <td>5.723370e+04</td>\n",
       "      <td>5.836366e+04</td>\n",
       "      <td>5.919798e+04</td>\n",
       "      <td>6.257931e+04</td>\n",
       "    </tr>\n",
       "    <tr>\n",
       "      <th>16</th>\n",
       "      <td>MB</td>\n",
       "      <td>CO</td>\n",
       "      <td>3.858356e+05</td>\n",
       "      <td>3.818272e+05</td>\n",
       "      <td>3.783853e+05</td>\n",
       "      <td>3.678765e+05</td>\n",
       "      <td>3.685198e+05</td>\n",
       "      <td>3.729214e+05</td>\n",
       "      <td>3.600112e+05</td>\n",
       "      <td>3.426515e+05</td>\n",
       "      <td>...</td>\n",
       "      <td>1.848428e+05</td>\n",
       "      <td>1.846211e+05</td>\n",
       "      <td>1.805327e+05</td>\n",
       "      <td>1.765030e+05</td>\n",
       "      <td>1.874932e+05</td>\n",
       "      <td>1.656103e+05</td>\n",
       "      <td>1.585518e+05</td>\n",
       "      <td>1.754152e+05</td>\n",
       "      <td>1.758413e+05</td>\n",
       "      <td>1.682975e+05</td>\n",
       "    </tr>\n",
       "    <tr>\n",
       "      <th>17</th>\n",
       "      <td>MB</td>\n",
       "      <td>SOX</td>\n",
       "      <td>5.091390e+05</td>\n",
       "      <td>4.031601e+05</td>\n",
       "      <td>4.182844e+05</td>\n",
       "      <td>4.003879e+05</td>\n",
       "      <td>3.825467e+05</td>\n",
       "      <td>3.639428e+05</td>\n",
       "      <td>3.634753e+05</td>\n",
       "      <td>3.630108e+05</td>\n",
       "      <td>...</td>\n",
       "      <td>1.281734e+05</td>\n",
       "      <td>1.396237e+05</td>\n",
       "      <td>1.593931e+05</td>\n",
       "      <td>1.583302e+05</td>\n",
       "      <td>1.536010e+05</td>\n",
       "      <td>1.450914e+05</td>\n",
       "      <td>1.193050e+05</td>\n",
       "      <td>4.025307e+04</td>\n",
       "      <td>2.036049e+03</td>\n",
       "      <td>1.934706e+03</td>\n",
       "    </tr>\n",
       "    <tr>\n",
       "      <th>18</th>\n",
       "      <td>MB</td>\n",
       "      <td>NOX</td>\n",
       "      <td>7.257550e+04</td>\n",
       "      <td>6.755345e+04</td>\n",
       "      <td>6.683440e+04</td>\n",
       "      <td>6.732315e+04</td>\n",
       "      <td>7.090485e+04</td>\n",
       "      <td>7.350222e+04</td>\n",
       "      <td>7.219302e+04</td>\n",
       "      <td>7.343897e+04</td>\n",
       "      <td>...</td>\n",
       "      <td>4.805533e+04</td>\n",
       "      <td>5.095531e+04</td>\n",
       "      <td>4.627716e+04</td>\n",
       "      <td>4.539356e+04</td>\n",
       "      <td>4.074380e+04</td>\n",
       "      <td>3.929710e+04</td>\n",
       "      <td>4.087905e+04</td>\n",
       "      <td>4.300385e+04</td>\n",
       "      <td>4.166291e+04</td>\n",
       "      <td>3.872251e+04</td>\n",
       "    </tr>\n",
       "    <tr>\n",
       "      <th>19</th>\n",
       "      <td>MB</td>\n",
       "      <td>VOC</td>\n",
       "      <td>9.606369e+04</td>\n",
       "      <td>9.491176e+04</td>\n",
       "      <td>9.446720e+04</td>\n",
       "      <td>9.268034e+04</td>\n",
       "      <td>9.445885e+04</td>\n",
       "      <td>9.589046e+04</td>\n",
       "      <td>9.576827e+04</td>\n",
       "      <td>9.151003e+04</td>\n",
       "      <td>...</td>\n",
       "      <td>6.537671e+04</td>\n",
       "      <td>6.836840e+04</td>\n",
       "      <td>6.825103e+04</td>\n",
       "      <td>6.735842e+04</td>\n",
       "      <td>6.375578e+04</td>\n",
       "      <td>6.130111e+04</td>\n",
       "      <td>6.176425e+04</td>\n",
       "      <td>6.435556e+04</td>\n",
       "      <td>6.375137e+04</td>\n",
       "      <td>6.096897e+04</td>\n",
       "    </tr>\n",
       "    <tr>\n",
       "      <th>20</th>\n",
       "      <td>NB</td>\n",
       "      <td>NH3</td>\n",
       "      <td>4.594717e+03</td>\n",
       "      <td>4.562918e+03</td>\n",
       "      <td>4.680083e+03</td>\n",
       "      <td>4.605949e+03</td>\n",
       "      <td>4.901950e+03</td>\n",
       "      <td>5.186892e+03</td>\n",
       "      <td>5.046905e+03</td>\n",
       "      <td>5.089948e+03</td>\n",
       "      <td>...</td>\n",
       "      <td>4.149405e+03</td>\n",
       "      <td>4.014006e+03</td>\n",
       "      <td>3.741643e+03</td>\n",
       "      <td>3.912374e+03</td>\n",
       "      <td>3.759959e+03</td>\n",
       "      <td>3.916499e+03</td>\n",
       "      <td>3.768891e+03</td>\n",
       "      <td>3.666709e+03</td>\n",
       "      <td>3.660218e+03</td>\n",
       "      <td>3.649870e+03</td>\n",
       "    </tr>\n",
       "    <tr>\n",
       "      <th>21</th>\n",
       "      <td>NB</td>\n",
       "      <td>CO</td>\n",
       "      <td>3.161127e+05</td>\n",
       "      <td>3.074096e+05</td>\n",
       "      <td>3.128255e+05</td>\n",
       "      <td>3.125358e+05</td>\n",
       "      <td>3.099604e+05</td>\n",
       "      <td>2.981117e+05</td>\n",
       "      <td>2.990759e+05</td>\n",
       "      <td>2.952850e+05</td>\n",
       "      <td>...</td>\n",
       "      <td>1.838988e+05</td>\n",
       "      <td>1.768580e+05</td>\n",
       "      <td>1.653122e+05</td>\n",
       "      <td>1.680311e+05</td>\n",
       "      <td>1.853678e+05</td>\n",
       "      <td>1.745979e+05</td>\n",
       "      <td>1.440532e+05</td>\n",
       "      <td>1.353042e+05</td>\n",
       "      <td>1.256535e+05</td>\n",
       "      <td>1.100683e+05</td>\n",
       "    </tr>\n",
       "    <tr>\n",
       "      <th>22</th>\n",
       "      <td>NB</td>\n",
       "      <td>SOX</td>\n",
       "      <td>1.093135e+05</td>\n",
       "      <td>1.100564e+05</td>\n",
       "      <td>1.142301e+05</td>\n",
       "      <td>1.138806e+05</td>\n",
       "      <td>1.156830e+05</td>\n",
       "      <td>1.164060e+05</td>\n",
       "      <td>1.172031e+05</td>\n",
       "      <td>1.189752e+05</td>\n",
       "      <td>...</td>\n",
       "      <td>2.740181e+04</td>\n",
       "      <td>2.601134e+04</td>\n",
       "      <td>2.203616e+04</td>\n",
       "      <td>2.231246e+04</td>\n",
       "      <td>2.295870e+04</td>\n",
       "      <td>2.089463e+04</td>\n",
       "      <td>2.085853e+04</td>\n",
       "      <td>2.220985e+04</td>\n",
       "      <td>1.959098e+04</td>\n",
       "      <td>1.246455e+04</td>\n",
       "    </tr>\n",
       "    <tr>\n",
       "      <th>23</th>\n",
       "      <td>NB</td>\n",
       "      <td>NOX</td>\n",
       "      <td>7.872505e+04</td>\n",
       "      <td>7.444946e+04</td>\n",
       "      <td>7.275684e+04</td>\n",
       "      <td>6.994048e+04</td>\n",
       "      <td>7.030658e+04</td>\n",
       "      <td>6.789962e+04</td>\n",
       "      <td>7.137619e+04</td>\n",
       "      <td>7.484744e+04</td>\n",
       "      <td>...</td>\n",
       "      <td>4.854579e+04</td>\n",
       "      <td>3.899712e+04</td>\n",
       "      <td>3.406714e+04</td>\n",
       "      <td>3.181519e+04</td>\n",
       "      <td>2.965510e+04</td>\n",
       "      <td>3.120619e+04</td>\n",
       "      <td>2.840516e+04</td>\n",
       "      <td>2.777122e+04</td>\n",
       "      <td>2.679451e+04</td>\n",
       "      <td>2.373703e+04</td>\n",
       "    </tr>\n",
       "    <tr>\n",
       "      <th>24</th>\n",
       "      <td>NB</td>\n",
       "      <td>VOC</td>\n",
       "      <td>8.213297e+04</td>\n",
       "      <td>8.067511e+04</td>\n",
       "      <td>8.186091e+04</td>\n",
       "      <td>8.228939e+04</td>\n",
       "      <td>8.262621e+04</td>\n",
       "      <td>8.093820e+04</td>\n",
       "      <td>8.018150e+04</td>\n",
       "      <td>7.835565e+04</td>\n",
       "      <td>...</td>\n",
       "      <td>4.454292e+04</td>\n",
       "      <td>4.186525e+04</td>\n",
       "      <td>3.923274e+04</td>\n",
       "      <td>4.015182e+04</td>\n",
       "      <td>3.882748e+04</td>\n",
       "      <td>3.323119e+04</td>\n",
       "      <td>2.872870e+04</td>\n",
       "      <td>2.821794e+04</td>\n",
       "      <td>2.647974e+04</td>\n",
       "      <td>2.396551e+04</td>\n",
       "    </tr>\n",
       "    <tr>\n",
       "      <th>25</th>\n",
       "      <td>NS</td>\n",
       "      <td>NH3</td>\n",
       "      <td>4.863271e+03</td>\n",
       "      <td>4.869619e+03</td>\n",
       "      <td>4.881470e+03</td>\n",
       "      <td>4.836537e+03</td>\n",
       "      <td>4.802603e+03</td>\n",
       "      <td>4.875396e+03</td>\n",
       "      <td>4.890836e+03</td>\n",
       "      <td>4.936646e+03</td>\n",
       "      <td>...</td>\n",
       "      <td>3.820887e+03</td>\n",
       "      <td>3.734124e+03</td>\n",
       "      <td>3.657337e+03</td>\n",
       "      <td>3.615445e+03</td>\n",
       "      <td>3.531114e+03</td>\n",
       "      <td>3.473126e+03</td>\n",
       "      <td>3.444455e+03</td>\n",
       "      <td>3.553992e+03</td>\n",
       "      <td>3.480096e+03</td>\n",
       "      <td>3.484302e+03</td>\n",
       "    </tr>\n",
       "    <tr>\n",
       "      <th>26</th>\n",
       "      <td>NS</td>\n",
       "      <td>CO</td>\n",
       "      <td>3.084968e+05</td>\n",
       "      <td>2.900437e+05</td>\n",
       "      <td>2.958940e+05</td>\n",
       "      <td>2.984767e+05</td>\n",
       "      <td>2.941197e+05</td>\n",
       "      <td>2.900682e+05</td>\n",
       "      <td>2.804821e+05</td>\n",
       "      <td>2.748179e+05</td>\n",
       "      <td>...</td>\n",
       "      <td>1.441310e+05</td>\n",
       "      <td>1.350109e+05</td>\n",
       "      <td>1.362505e+05</td>\n",
       "      <td>1.175935e+05</td>\n",
       "      <td>1.332974e+05</td>\n",
       "      <td>1.263556e+05</td>\n",
       "      <td>1.299334e+05</td>\n",
       "      <td>1.333253e+05</td>\n",
       "      <td>1.224406e+05</td>\n",
       "      <td>1.161014e+05</td>\n",
       "    </tr>\n",
       "    <tr>\n",
       "      <th>27</th>\n",
       "      <td>NS</td>\n",
       "      <td>SOX</td>\n",
       "      <td>2.031522e+05</td>\n",
       "      <td>2.012478e+05</td>\n",
       "      <td>2.012421e+05</td>\n",
       "      <td>1.973347e+05</td>\n",
       "      <td>2.016116e+05</td>\n",
       "      <td>1.869749e+05</td>\n",
       "      <td>2.010509e+05</td>\n",
       "      <td>1.944908e+05</td>\n",
       "      <td>...</td>\n",
       "      <td>7.731733e+04</td>\n",
       "      <td>7.534611e+04</td>\n",
       "      <td>7.723449e+04</td>\n",
       "      <td>7.178114e+04</td>\n",
       "      <td>6.338420e+04</td>\n",
       "      <td>6.491907e+04</td>\n",
       "      <td>6.663227e+04</td>\n",
       "      <td>6.472947e+04</td>\n",
       "      <td>5.281936e+04</td>\n",
       "      <td>5.327194e+04</td>\n",
       "    </tr>\n",
       "    <tr>\n",
       "      <th>28</th>\n",
       "      <td>NS</td>\n",
       "      <td>NOX</td>\n",
       "      <td>8.288278e+04</td>\n",
       "      <td>8.065137e+04</td>\n",
       "      <td>8.275911e+04</td>\n",
       "      <td>8.377182e+04</td>\n",
       "      <td>8.601188e+04</td>\n",
       "      <td>8.628098e+04</td>\n",
       "      <td>8.622060e+04</td>\n",
       "      <td>8.773506e+04</td>\n",
       "      <td>...</td>\n",
       "      <td>5.743133e+04</td>\n",
       "      <td>4.809711e+04</td>\n",
       "      <td>4.659324e+04</td>\n",
       "      <td>4.173105e+04</td>\n",
       "      <td>3.813830e+04</td>\n",
       "      <td>3.693707e+04</td>\n",
       "      <td>3.994411e+04</td>\n",
       "      <td>4.021842e+04</td>\n",
       "      <td>3.910669e+04</td>\n",
       "      <td>3.382979e+04</td>\n",
       "    </tr>\n",
       "    <tr>\n",
       "      <th>29</th>\n",
       "      <td>NS</td>\n",
       "      <td>VOC</td>\n",
       "      <td>7.023577e+04</td>\n",
       "      <td>6.794989e+04</td>\n",
       "      <td>6.976300e+04</td>\n",
       "      <td>7.036716e+04</td>\n",
       "      <td>7.050136e+04</td>\n",
       "      <td>7.054729e+04</td>\n",
       "      <td>6.915232e+04</td>\n",
       "      <td>6.806677e+04</td>\n",
       "      <td>...</td>\n",
       "      <td>3.868082e+04</td>\n",
       "      <td>3.579367e+04</td>\n",
       "      <td>3.516234e+04</td>\n",
       "      <td>3.323531e+04</td>\n",
       "      <td>3.401147e+04</td>\n",
       "      <td>3.127257e+04</td>\n",
       "      <td>3.132567e+04</td>\n",
       "      <td>3.203675e+04</td>\n",
       "      <td>3.089215e+04</td>\n",
       "      <td>2.792750e+04</td>\n",
       "    </tr>\n",
       "    <tr>\n",
       "      <th>30</th>\n",
       "      <td>YT</td>\n",
       "      <td>NH3</td>\n",
       "      <td>1.443085e+01</td>\n",
       "      <td>1.672027e+01</td>\n",
       "      <td>1.750614e+01</td>\n",
       "      <td>1.775272e+01</td>\n",
       "      <td>1.780980e+01</td>\n",
       "      <td>1.932404e+01</td>\n",
       "      <td>1.824110e+01</td>\n",
       "      <td>1.784175e+01</td>\n",
       "      <td>...</td>\n",
       "      <td>2.036125e+01</td>\n",
       "      <td>1.926963e+01</td>\n",
       "      <td>1.770665e+01</td>\n",
       "      <td>1.296047e+01</td>\n",
       "      <td>1.305043e+01</td>\n",
       "      <td>1.370112e+01</td>\n",
       "      <td>1.347619e+01</td>\n",
       "      <td>1.538956e+01</td>\n",
       "      <td>1.666445e+01</td>\n",
       "      <td>1.497809e+01</td>\n",
       "    </tr>\n",
       "    <tr>\n",
       "      <th>31</th>\n",
       "      <td>YT</td>\n",
       "      <td>CO</td>\n",
       "      <td>1.638891e+04</td>\n",
       "      <td>1.661362e+04</td>\n",
       "      <td>1.704833e+04</td>\n",
       "      <td>1.676406e+04</td>\n",
       "      <td>1.569622e+04</td>\n",
       "      <td>1.603214e+04</td>\n",
       "      <td>1.408766e+04</td>\n",
       "      <td>1.307698e+04</td>\n",
       "      <td>...</td>\n",
       "      <td>7.298657e+03</td>\n",
       "      <td>6.544810e+03</td>\n",
       "      <td>6.246598e+03</td>\n",
       "      <td>5.200277e+03</td>\n",
       "      <td>5.161298e+03</td>\n",
       "      <td>5.436367e+03</td>\n",
       "      <td>5.525582e+03</td>\n",
       "      <td>6.408803e+03</td>\n",
       "      <td>7.347644e+03</td>\n",
       "      <td>5.759988e+03</td>\n",
       "    </tr>\n",
       "    <tr>\n",
       "      <th>32</th>\n",
       "      <td>YT</td>\n",
       "      <td>SOX</td>\n",
       "      <td>6.391755e+02</td>\n",
       "      <td>8.939871e+02</td>\n",
       "      <td>1.000441e+03</td>\n",
       "      <td>1.343235e+03</td>\n",
       "      <td>1.113284e+03</td>\n",
       "      <td>1.006060e+03</td>\n",
       "      <td>8.379061e+02</td>\n",
       "      <td>1.060374e+03</td>\n",
       "      <td>...</td>\n",
       "      <td>8.284455e+02</td>\n",
       "      <td>7.962201e+02</td>\n",
       "      <td>6.969922e+01</td>\n",
       "      <td>1.841122e+01</td>\n",
       "      <td>1.237330e+01</td>\n",
       "      <td>2.875012e+01</td>\n",
       "      <td>1.038548e+01</td>\n",
       "      <td>6.315542e+00</td>\n",
       "      <td>6.092028e+00</td>\n",
       "      <td>8.419420e+00</td>\n",
       "    </tr>\n",
       "    <tr>\n",
       "      <th>33</th>\n",
       "      <td>YT</td>\n",
       "      <td>NOX</td>\n",
       "      <td>3.749376e+03</td>\n",
       "      <td>3.961127e+03</td>\n",
       "      <td>4.384269e+03</td>\n",
       "      <td>3.192706e+03</td>\n",
       "      <td>3.354683e+03</td>\n",
       "      <td>3.475886e+03</td>\n",
       "      <td>2.635877e+03</td>\n",
       "      <td>3.114361e+03</td>\n",
       "      <td>...</td>\n",
       "      <td>2.640996e+03</td>\n",
       "      <td>2.138146e+03</td>\n",
       "      <td>1.663174e+03</td>\n",
       "      <td>8.207922e+02</td>\n",
       "      <td>9.142166e+02</td>\n",
       "      <td>1.441890e+03</td>\n",
       "      <td>1.389449e+03</td>\n",
       "      <td>1.967377e+03</td>\n",
       "      <td>2.011178e+03</td>\n",
       "      <td>1.430605e+03</td>\n",
       "    </tr>\n",
       "    <tr>\n",
       "      <th>34</th>\n",
       "      <td>YT</td>\n",
       "      <td>VOC</td>\n",
       "      <td>2.366576e+03</td>\n",
       "      <td>2.463797e+03</td>\n",
       "      <td>2.671464e+03</td>\n",
       "      <td>2.571805e+03</td>\n",
       "      <td>2.427226e+03</td>\n",
       "      <td>2.605458e+03</td>\n",
       "      <td>2.376198e+03</td>\n",
       "      <td>2.143758e+03</td>\n",
       "      <td>...</td>\n",
       "      <td>1.383649e+03</td>\n",
       "      <td>1.299219e+03</td>\n",
       "      <td>1.262732e+03</td>\n",
       "      <td>1.094269e+03</td>\n",
       "      <td>1.017927e+03</td>\n",
       "      <td>1.057279e+03</td>\n",
       "      <td>1.032437e+03</td>\n",
       "      <td>1.050388e+03</td>\n",
       "      <td>1.082194e+03</td>\n",
       "      <td>9.435968e+02</td>\n",
       "    </tr>\n",
       "    <tr>\n",
       "      <th>35</th>\n",
       "      <td>QC</td>\n",
       "      <td>NH3</td>\n",
       "      <td>6.495599e+04</td>\n",
       "      <td>6.351689e+04</td>\n",
       "      <td>6.329931e+04</td>\n",
       "      <td>6.361111e+04</td>\n",
       "      <td>6.425205e+04</td>\n",
       "      <td>6.682105e+04</td>\n",
       "      <td>6.848950e+04</td>\n",
       "      <td>6.841910e+04</td>\n",
       "      <td>...</td>\n",
       "      <td>6.182414e+04</td>\n",
       "      <td>6.339411e+04</td>\n",
       "      <td>6.225721e+04</td>\n",
       "      <td>6.186988e+04</td>\n",
       "      <td>6.315048e+04</td>\n",
       "      <td>6.459545e+04</td>\n",
       "      <td>6.153807e+04</td>\n",
       "      <td>6.613722e+04</td>\n",
       "      <td>6.282806e+04</td>\n",
       "      <td>6.366246e+04</td>\n",
       "    </tr>\n",
       "    <tr>\n",
       "      <th>36</th>\n",
       "      <td>QC</td>\n",
       "      <td>CO</td>\n",
       "      <td>2.255181e+06</td>\n",
       "      <td>2.215428e+06</td>\n",
       "      <td>2.298285e+06</td>\n",
       "      <td>2.312405e+06</td>\n",
       "      <td>2.282286e+06</td>\n",
       "      <td>2.222954e+06</td>\n",
       "      <td>2.160861e+06</td>\n",
       "      <td>2.077049e+06</td>\n",
       "      <td>...</td>\n",
       "      <td>1.404148e+06</td>\n",
       "      <td>1.311653e+06</td>\n",
       "      <td>1.330046e+06</td>\n",
       "      <td>1.283932e+06</td>\n",
       "      <td>1.281067e+06</td>\n",
       "      <td>1.261236e+06</td>\n",
       "      <td>1.295458e+06</td>\n",
       "      <td>1.267079e+06</td>\n",
       "      <td>1.262749e+06</td>\n",
       "      <td>1.195877e+06</td>\n",
       "    </tr>\n",
       "    <tr>\n",
       "      <th>37</th>\n",
       "      <td>QC</td>\n",
       "      <td>SOX</td>\n",
       "      <td>2.468858e+05</td>\n",
       "      <td>2.212172e+05</td>\n",
       "      <td>2.213172e+05</td>\n",
       "      <td>2.265515e+05</td>\n",
       "      <td>2.267341e+05</td>\n",
       "      <td>3.796134e+05</td>\n",
       "      <td>3.679299e+05</td>\n",
       "      <td>3.561119e+05</td>\n",
       "      <td>...</td>\n",
       "      <td>1.397956e+05</td>\n",
       "      <td>1.352731e+05</td>\n",
       "      <td>1.195347e+05</td>\n",
       "      <td>1.212196e+05</td>\n",
       "      <td>1.116673e+05</td>\n",
       "      <td>1.106346e+05</td>\n",
       "      <td>1.118075e+05</td>\n",
       "      <td>9.666526e+04</td>\n",
       "      <td>9.215370e+04</td>\n",
       "      <td>9.917362e+04</td>\n",
       "    </tr>\n",
       "    <tr>\n",
       "      <th>38</th>\n",
       "      <td>QC</td>\n",
       "      <td>NOX</td>\n",
       "      <td>3.116497e+05</td>\n",
       "      <td>2.896130e+05</td>\n",
       "      <td>2.972382e+05</td>\n",
       "      <td>3.061471e+05</td>\n",
       "      <td>3.256163e+05</td>\n",
       "      <td>3.299238e+05</td>\n",
       "      <td>3.328989e+05</td>\n",
       "      <td>3.451435e+05</td>\n",
       "      <td>...</td>\n",
       "      <td>2.154031e+05</td>\n",
       "      <td>2.012270e+05</td>\n",
       "      <td>1.882561e+05</td>\n",
       "      <td>1.743232e+05</td>\n",
       "      <td>1.697901e+05</td>\n",
       "      <td>1.667755e+05</td>\n",
       "      <td>1.735831e+05</td>\n",
       "      <td>1.732727e+05</td>\n",
       "      <td>1.759242e+05</td>\n",
       "      <td>1.548505e+05</td>\n",
       "    </tr>\n",
       "    <tr>\n",
       "      <th>39</th>\n",
       "      <td>QC</td>\n",
       "      <td>VOC</td>\n",
       "      <td>4.928824e+05</td>\n",
       "      <td>4.723928e+05</td>\n",
       "      <td>4.845894e+05</td>\n",
       "      <td>4.949882e+05</td>\n",
       "      <td>5.008478e+05</td>\n",
       "      <td>4.980880e+05</td>\n",
       "      <td>4.853409e+05</td>\n",
       "      <td>4.753608e+05</td>\n",
       "      <td>...</td>\n",
       "      <td>2.755127e+05</td>\n",
       "      <td>2.639130e+05</td>\n",
       "      <td>2.597432e+05</td>\n",
       "      <td>2.530374e+05</td>\n",
       "      <td>2.386375e+05</td>\n",
       "      <td>2.261033e+05</td>\n",
       "      <td>2.241243e+05</td>\n",
       "      <td>2.336183e+05</td>\n",
       "      <td>2.344617e+05</td>\n",
       "      <td>2.116545e+05</td>\n",
       "    </tr>\n",
       "    <tr>\n",
       "      <th>40</th>\n",
       "      <td>SK</td>\n",
       "      <td>NH3</td>\n",
       "      <td>4.859078e+04</td>\n",
       "      <td>4.770903e+04</td>\n",
       "      <td>5.450196e+04</td>\n",
       "      <td>5.639792e+04</td>\n",
       "      <td>6.123635e+04</td>\n",
       "      <td>6.607578e+04</td>\n",
       "      <td>7.130512e+04</td>\n",
       "      <td>7.500258e+04</td>\n",
       "      <td>...</td>\n",
       "      <td>8.236695e+04</td>\n",
       "      <td>9.291360e+04</td>\n",
       "      <td>9.833029e+04</td>\n",
       "      <td>9.479432e+04</td>\n",
       "      <td>9.770759e+04</td>\n",
       "      <td>9.816450e+04</td>\n",
       "      <td>1.004842e+05</td>\n",
       "      <td>1.026976e+05</td>\n",
       "      <td>1.012322e+05</td>\n",
       "      <td>1.017011e+05</td>\n",
       "    </tr>\n",
       "    <tr>\n",
       "      <th>41</th>\n",
       "      <td>SK</td>\n",
       "      <td>CO</td>\n",
       "      <td>5.226343e+05</td>\n",
       "      <td>5.240805e+05</td>\n",
       "      <td>5.217318e+05</td>\n",
       "      <td>5.250493e+05</td>\n",
       "      <td>5.396226e+05</td>\n",
       "      <td>5.261009e+05</td>\n",
       "      <td>5.295019e+05</td>\n",
       "      <td>5.072399e+05</td>\n",
       "      <td>...</td>\n",
       "      <td>3.285231e+05</td>\n",
       "      <td>3.444210e+05</td>\n",
       "      <td>3.578297e+05</td>\n",
       "      <td>3.309867e+05</td>\n",
       "      <td>3.344717e+05</td>\n",
       "      <td>3.120519e+05</td>\n",
       "      <td>3.155101e+05</td>\n",
       "      <td>3.031972e+05</td>\n",
       "      <td>2.979142e+05</td>\n",
       "      <td>2.781349e+05</td>\n",
       "    </tr>\n",
       "    <tr>\n",
       "      <th>42</th>\n",
       "      <td>SK</td>\n",
       "      <td>SOX</td>\n",
       "      <td>1.029411e+05</td>\n",
       "      <td>1.088700e+05</td>\n",
       "      <td>1.136843e+05</td>\n",
       "      <td>1.219465e+05</td>\n",
       "      <td>1.306621e+05</td>\n",
       "      <td>1.349683e+05</td>\n",
       "      <td>1.343913e+05</td>\n",
       "      <td>1.348621e+05</td>\n",
       "      <td>...</td>\n",
       "      <td>1.268940e+05</td>\n",
       "      <td>1.302184e+05</td>\n",
       "      <td>1.250203e+05</td>\n",
       "      <td>1.250167e+05</td>\n",
       "      <td>1.278895e+05</td>\n",
       "      <td>1.264279e+05</td>\n",
       "      <td>1.249232e+05</td>\n",
       "      <td>1.238949e+05</td>\n",
       "      <td>1.227005e+05</td>\n",
       "      <td>1.064039e+05</td>\n",
       "    </tr>\n",
       "    <tr>\n",
       "      <th>43</th>\n",
       "      <td>SK</td>\n",
       "      <td>NOX</td>\n",
       "      <td>1.492980e+05</td>\n",
       "      <td>1.563658e+05</td>\n",
       "      <td>1.606234e+05</td>\n",
       "      <td>1.705858e+05</td>\n",
       "      <td>1.783682e+05</td>\n",
       "      <td>1.822811e+05</td>\n",
       "      <td>1.813366e+05</td>\n",
       "      <td>1.861183e+05</td>\n",
       "      <td>...</td>\n",
       "      <td>1.602711e+05</td>\n",
       "      <td>1.587826e+05</td>\n",
       "      <td>1.578281e+05</td>\n",
       "      <td>1.534012e+05</td>\n",
       "      <td>1.470068e+05</td>\n",
       "      <td>1.393770e+05</td>\n",
       "      <td>1.430629e+05</td>\n",
       "      <td>1.461702e+05</td>\n",
       "      <td>1.445839e+05</td>\n",
       "      <td>1.295119e+05</td>\n",
       "    </tr>\n",
       "    <tr>\n",
       "      <th>44</th>\n",
       "      <td>SK</td>\n",
       "      <td>VOC</td>\n",
       "      <td>1.868643e+05</td>\n",
       "      <td>1.880496e+05</td>\n",
       "      <td>1.930209e+05</td>\n",
       "      <td>2.031881e+05</td>\n",
       "      <td>2.199504e+05</td>\n",
       "      <td>2.272119e+05</td>\n",
       "      <td>2.392849e+05</td>\n",
       "      <td>2.482078e+05</td>\n",
       "      <td>...</td>\n",
       "      <td>2.305941e+05</td>\n",
       "      <td>2.439897e+05</td>\n",
       "      <td>2.508983e+05</td>\n",
       "      <td>2.777762e+05</td>\n",
       "      <td>2.891745e+05</td>\n",
       "      <td>2.711965e+05</td>\n",
       "      <td>2.974023e+05</td>\n",
       "      <td>2.886911e+05</td>\n",
       "      <td>2.760551e+05</td>\n",
       "      <td>2.130578e+05</td>\n",
       "    </tr>\n",
       "    <tr>\n",
       "      <th>45</th>\n",
       "      <td>NL</td>\n",
       "      <td>NH3</td>\n",
       "      <td>1.029078e+03</td>\n",
       "      <td>1.013347e+03</td>\n",
       "      <td>1.025213e+03</td>\n",
       "      <td>1.014075e+03</td>\n",
       "      <td>1.010407e+03</td>\n",
       "      <td>1.025471e+03</td>\n",
       "      <td>1.029556e+03</td>\n",
       "      <td>1.049343e+03</td>\n",
       "      <td>...</td>\n",
       "      <td>9.098575e+02</td>\n",
       "      <td>9.005129e+02</td>\n",
       "      <td>9.021095e+02</td>\n",
       "      <td>9.264717e+02</td>\n",
       "      <td>9.064986e+02</td>\n",
       "      <td>9.382600e+02</td>\n",
       "      <td>9.140410e+02</td>\n",
       "      <td>9.237940e+02</td>\n",
       "      <td>9.355166e+02</td>\n",
       "      <td>9.300340e+02</td>\n",
       "    </tr>\n",
       "    <tr>\n",
       "      <th>46</th>\n",
       "      <td>NL</td>\n",
       "      <td>CO</td>\n",
       "      <td>1.854559e+05</td>\n",
       "      <td>1.759779e+05</td>\n",
       "      <td>1.754958e+05</td>\n",
       "      <td>1.809863e+05</td>\n",
       "      <td>1.775690e+05</td>\n",
       "      <td>1.696002e+05</td>\n",
       "      <td>1.634106e+05</td>\n",
       "      <td>1.589719e+05</td>\n",
       "      <td>...</td>\n",
       "      <td>8.518251e+04</td>\n",
       "      <td>8.431316e+04</td>\n",
       "      <td>7.232834e+04</td>\n",
       "      <td>7.902056e+04</td>\n",
       "      <td>7.687131e+04</td>\n",
       "      <td>1.095038e+05</td>\n",
       "      <td>8.179161e+04</td>\n",
       "      <td>8.439621e+04</td>\n",
       "      <td>8.400439e+04</td>\n",
       "      <td>8.400958e+04</td>\n",
       "    </tr>\n",
       "    <tr>\n",
       "      <th>47</th>\n",
       "      <td>NL</td>\n",
       "      <td>SOX</td>\n",
       "      <td>6.882082e+04</td>\n",
       "      <td>6.989177e+04</td>\n",
       "      <td>8.483419e+04</td>\n",
       "      <td>1.020158e+05</td>\n",
       "      <td>5.128393e+04</td>\n",
       "      <td>6.693654e+04</td>\n",
       "      <td>7.353915e+04</td>\n",
       "      <td>7.517015e+04</td>\n",
       "      <td>...</td>\n",
       "      <td>2.527568e+04</td>\n",
       "      <td>2.811329e+04</td>\n",
       "      <td>2.843169e+04</td>\n",
       "      <td>2.795794e+04</td>\n",
       "      <td>1.921936e+04</td>\n",
       "      <td>2.458727e+04</td>\n",
       "      <td>2.246606e+04</td>\n",
       "      <td>1.858913e+04</td>\n",
       "      <td>2.069021e+04</td>\n",
       "      <td>1.152184e+04</td>\n",
       "    </tr>\n",
       "    <tr>\n",
       "      <th>48</th>\n",
       "      <td>NL</td>\n",
       "      <td>NOX</td>\n",
       "      <td>5.204185e+04</td>\n",
       "      <td>4.855988e+04</td>\n",
       "      <td>4.801031e+04</td>\n",
       "      <td>4.986980e+04</td>\n",
       "      <td>4.946459e+04</td>\n",
       "      <td>5.008326e+04</td>\n",
       "      <td>5.084756e+04</td>\n",
       "      <td>5.344649e+04</td>\n",
       "      <td>...</td>\n",
       "      <td>4.610319e+04</td>\n",
       "      <td>4.103746e+04</td>\n",
       "      <td>3.906790e+04</td>\n",
       "      <td>4.070157e+04</td>\n",
       "      <td>3.927242e+04</td>\n",
       "      <td>4.037754e+04</td>\n",
       "      <td>4.155172e+04</td>\n",
       "      <td>4.035321e+04</td>\n",
       "      <td>4.185957e+04</td>\n",
       "      <td>3.788278e+04</td>\n",
       "    </tr>\n",
       "    <tr>\n",
       "      <th>49</th>\n",
       "      <td>NL</td>\n",
       "      <td>VOC</td>\n",
       "      <td>4.593302e+04</td>\n",
       "      <td>4.544043e+04</td>\n",
       "      <td>4.577393e+04</td>\n",
       "      <td>4.631003e+04</td>\n",
       "      <td>4.575208e+04</td>\n",
       "      <td>4.548779e+04</td>\n",
       "      <td>4.430284e+04</td>\n",
       "      <td>4.414545e+04</td>\n",
       "      <td>...</td>\n",
       "      <td>2.355764e+04</td>\n",
       "      <td>2.073925e+04</td>\n",
       "      <td>1.916823e+04</td>\n",
       "      <td>1.848435e+04</td>\n",
       "      <td>1.800710e+04</td>\n",
       "      <td>1.907310e+04</td>\n",
       "      <td>2.154940e+04</td>\n",
       "      <td>2.146979e+04</td>\n",
       "      <td>2.059337e+04</td>\n",
       "      <td>1.942787e+04</td>\n",
       "    </tr>\n",
       "    <tr>\n",
       "      <th>50</th>\n",
       "      <td>PE</td>\n",
       "      <td>NH3</td>\n",
       "      <td>3.416799e+03</td>\n",
       "      <td>3.366547e+03</td>\n",
       "      <td>3.359165e+03</td>\n",
       "      <td>3.324915e+03</td>\n",
       "      <td>3.384354e+03</td>\n",
       "      <td>3.500194e+03</td>\n",
       "      <td>3.526718e+03</td>\n",
       "      <td>3.518948e+03</td>\n",
       "      <td>...</td>\n",
       "      <td>2.500296e+03</td>\n",
       "      <td>2.558777e+03</td>\n",
       "      <td>2.342345e+03</td>\n",
       "      <td>2.553844e+03</td>\n",
       "      <td>2.357022e+03</td>\n",
       "      <td>2.653232e+03</td>\n",
       "      <td>2.582114e+03</td>\n",
       "      <td>2.692139e+03</td>\n",
       "      <td>2.890204e+03</td>\n",
       "      <td>3.203449e+03</td>\n",
       "    </tr>\n",
       "    <tr>\n",
       "      <th>51</th>\n",
       "      <td>PE</td>\n",
       "      <td>CO</td>\n",
       "      <td>5.486584e+04</td>\n",
       "      <td>5.219407e+04</td>\n",
       "      <td>5.245662e+04</td>\n",
       "      <td>5.011107e+04</td>\n",
       "      <td>5.096238e+04</td>\n",
       "      <td>4.988384e+04</td>\n",
       "      <td>4.956906e+04</td>\n",
       "      <td>4.967940e+04</td>\n",
       "      <td>...</td>\n",
       "      <td>2.628614e+04</td>\n",
       "      <td>2.358679e+04</td>\n",
       "      <td>2.017721e+04</td>\n",
       "      <td>1.839975e+04</td>\n",
       "      <td>1.678315e+04</td>\n",
       "      <td>1.886578e+04</td>\n",
       "      <td>2.139042e+04</td>\n",
       "      <td>2.065581e+04</td>\n",
       "      <td>2.106800e+04</td>\n",
       "      <td>2.030025e+04</td>\n",
       "    </tr>\n",
       "    <tr>\n",
       "      <th>52</th>\n",
       "      <td>PE</td>\n",
       "      <td>SOX</td>\n",
       "      <td>3.422954e+03</td>\n",
       "      <td>3.452209e+03</td>\n",
       "      <td>3.116652e+03</td>\n",
       "      <td>3.126964e+03</td>\n",
       "      <td>3.120408e+03</td>\n",
       "      <td>2.278901e+03</td>\n",
       "      <td>3.107512e+03</td>\n",
       "      <td>3.246870e+03</td>\n",
       "      <td>...</td>\n",
       "      <td>1.722510e+03</td>\n",
       "      <td>1.016353e+03</td>\n",
       "      <td>8.500452e+02</td>\n",
       "      <td>6.928058e+02</td>\n",
       "      <td>2.998085e+02</td>\n",
       "      <td>2.826668e+02</td>\n",
       "      <td>3.224608e+02</td>\n",
       "      <td>3.145218e+02</td>\n",
       "      <td>3.200485e+02</td>\n",
       "      <td>2.709045e+02</td>\n",
       "    </tr>\n",
       "    <tr>\n",
       "      <th>53</th>\n",
       "      <td>PE</td>\n",
       "      <td>NOX</td>\n",
       "      <td>6.715257e+03</td>\n",
       "      <td>6.623133e+03</td>\n",
       "      <td>6.335026e+03</td>\n",
       "      <td>6.435144e+03</td>\n",
       "      <td>6.958917e+03</td>\n",
       "      <td>7.024506e+03</td>\n",
       "      <td>7.377441e+03</td>\n",
       "      <td>7.841304e+03</td>\n",
       "      <td>...</td>\n",
       "      <td>5.586996e+03</td>\n",
       "      <td>4.893479e+03</td>\n",
       "      <td>4.244005e+03</td>\n",
       "      <td>4.112744e+03</td>\n",
       "      <td>4.045938e+03</td>\n",
       "      <td>3.966987e+03</td>\n",
       "      <td>4.061846e+03</td>\n",
       "      <td>4.163778e+03</td>\n",
       "      <td>4.182270e+03</td>\n",
       "      <td>3.301916e+03</td>\n",
       "    </tr>\n",
       "    <tr>\n",
       "      <th>54</th>\n",
       "      <td>PE</td>\n",
       "      <td>VOC</td>\n",
       "      <td>1.054340e+04</td>\n",
       "      <td>1.026554e+04</td>\n",
       "      <td>1.030510e+04</td>\n",
       "      <td>1.024258e+04</td>\n",
       "      <td>1.035817e+04</td>\n",
       "      <td>1.041603e+04</td>\n",
       "      <td>1.035236e+04</td>\n",
       "      <td>1.042864e+04</td>\n",
       "      <td>...</td>\n",
       "      <td>6.186715e+03</td>\n",
       "      <td>5.616339e+03</td>\n",
       "      <td>5.139537e+03</td>\n",
       "      <td>4.761317e+03</td>\n",
       "      <td>4.441508e+03</td>\n",
       "      <td>4.781438e+03</td>\n",
       "      <td>5.229042e+03</td>\n",
       "      <td>5.244752e+03</td>\n",
       "      <td>5.424804e+03</td>\n",
       "      <td>5.016071e+03</td>\n",
       "    </tr>\n",
       "  </tbody>\n",
       "</table>\n",
       "<p>55 rows × 33 columns</p>\n",
       "</div>"
      ],
      "text/plain": [
       "   Province Pollutant          1990          1991          1992          1993  \\\n",
       "0        AB       NH3  9.526164e+04  9.639261e+04  1.008097e+05  1.028888e+05   \n",
       "1        AB        CO  1.810389e+06  1.674240e+06  1.694347e+06  1.670384e+06   \n",
       "2        AB       SOX  5.124052e+05  5.241442e+05  5.647178e+05  5.714739e+05   \n",
       "3        AB       NOX  6.132843e+05  5.857053e+05  6.094636e+05  6.408844e+05   \n",
       "4        AB       VOC  6.437522e+05  6.246338e+05  6.424776e+05  6.543844e+05   \n",
       "5        BC       NH3  2.299599e+04  2.231089e+04  2.288312e+04  2.342389e+04   \n",
       "6        BC        CO  2.340344e+06  2.353114e+06  2.155700e+06  2.363510e+06   \n",
       "7        BC       SOX  1.107474e+05  9.068985e+04  7.935032e+04  7.742206e+04   \n",
       "8        BC       NOX  2.859677e+05  2.708281e+05  2.621269e+05  2.718991e+05   \n",
       "9        BC       VOC  3.749732e+05  3.767629e+05  3.551831e+05  3.902692e+05   \n",
       "10       ON       NH3  1.105196e+05  1.068000e+05  1.054187e+05  1.028781e+05   \n",
       "11       ON        CO  3.269271e+06  3.288746e+06  3.289638e+06  3.326173e+06   \n",
       "12       ON       SOX  1.123223e+06  1.040497e+06  8.500874e+05  7.479657e+05   \n",
       "13       ON       NOX  6.026165e+05  5.921593e+05  6.060585e+05  5.953700e+05   \n",
       "14       ON       VOC  8.527794e+05  8.370145e+05  8.394441e+05  8.546847e+05   \n",
       "15       MB       NH3  3.804731e+04  4.018156e+04  4.177450e+04  4.321955e+04   \n",
       "16       MB        CO  3.858356e+05  3.818272e+05  3.783853e+05  3.678765e+05   \n",
       "17       MB       SOX  5.091390e+05  4.031601e+05  4.182844e+05  4.003879e+05   \n",
       "18       MB       NOX  7.257550e+04  6.755345e+04  6.683440e+04  6.732315e+04   \n",
       "19       MB       VOC  9.606369e+04  9.491176e+04  9.446720e+04  9.268034e+04   \n",
       "20       NB       NH3  4.594717e+03  4.562918e+03  4.680083e+03  4.605949e+03   \n",
       "21       NB        CO  3.161127e+05  3.074096e+05  3.128255e+05  3.125358e+05   \n",
       "22       NB       SOX  1.093135e+05  1.100564e+05  1.142301e+05  1.138806e+05   \n",
       "23       NB       NOX  7.872505e+04  7.444946e+04  7.275684e+04  6.994048e+04   \n",
       "24       NB       VOC  8.213297e+04  8.067511e+04  8.186091e+04  8.228939e+04   \n",
       "25       NS       NH3  4.863271e+03  4.869619e+03  4.881470e+03  4.836537e+03   \n",
       "26       NS        CO  3.084968e+05  2.900437e+05  2.958940e+05  2.984767e+05   \n",
       "27       NS       SOX  2.031522e+05  2.012478e+05  2.012421e+05  1.973347e+05   \n",
       "28       NS       NOX  8.288278e+04  8.065137e+04  8.275911e+04  8.377182e+04   \n",
       "29       NS       VOC  7.023577e+04  6.794989e+04  6.976300e+04  7.036716e+04   \n",
       "30       YT       NH3  1.443085e+01  1.672027e+01  1.750614e+01  1.775272e+01   \n",
       "31       YT        CO  1.638891e+04  1.661362e+04  1.704833e+04  1.676406e+04   \n",
       "32       YT       SOX  6.391755e+02  8.939871e+02  1.000441e+03  1.343235e+03   \n",
       "33       YT       NOX  3.749376e+03  3.961127e+03  4.384269e+03  3.192706e+03   \n",
       "34       YT       VOC  2.366576e+03  2.463797e+03  2.671464e+03  2.571805e+03   \n",
       "35       QC       NH3  6.495599e+04  6.351689e+04  6.329931e+04  6.361111e+04   \n",
       "36       QC        CO  2.255181e+06  2.215428e+06  2.298285e+06  2.312405e+06   \n",
       "37       QC       SOX  2.468858e+05  2.212172e+05  2.213172e+05  2.265515e+05   \n",
       "38       QC       NOX  3.116497e+05  2.896130e+05  2.972382e+05  3.061471e+05   \n",
       "39       QC       VOC  4.928824e+05  4.723928e+05  4.845894e+05  4.949882e+05   \n",
       "40       SK       NH3  4.859078e+04  4.770903e+04  5.450196e+04  5.639792e+04   \n",
       "41       SK        CO  5.226343e+05  5.240805e+05  5.217318e+05  5.250493e+05   \n",
       "42       SK       SOX  1.029411e+05  1.088700e+05  1.136843e+05  1.219465e+05   \n",
       "43       SK       NOX  1.492980e+05  1.563658e+05  1.606234e+05  1.705858e+05   \n",
       "44       SK       VOC  1.868643e+05  1.880496e+05  1.930209e+05  2.031881e+05   \n",
       "45       NL       NH3  1.029078e+03  1.013347e+03  1.025213e+03  1.014075e+03   \n",
       "46       NL        CO  1.854559e+05  1.759779e+05  1.754958e+05  1.809863e+05   \n",
       "47       NL       SOX  6.882082e+04  6.989177e+04  8.483419e+04  1.020158e+05   \n",
       "48       NL       NOX  5.204185e+04  4.855988e+04  4.801031e+04  4.986980e+04   \n",
       "49       NL       VOC  4.593302e+04  4.544043e+04  4.577393e+04  4.631003e+04   \n",
       "50       PE       NH3  3.416799e+03  3.366547e+03  3.359165e+03  3.324915e+03   \n",
       "51       PE        CO  5.486584e+04  5.219407e+04  5.245662e+04  5.011107e+04   \n",
       "52       PE       SOX  3.422954e+03  3.452209e+03  3.116652e+03  3.126964e+03   \n",
       "53       PE       NOX  6.715257e+03  6.623133e+03  6.335026e+03  6.435144e+03   \n",
       "54       PE       VOC  1.054340e+04  1.026554e+04  1.030510e+04  1.024258e+04   \n",
       "\n",
       "            1994          1995          1996          1997  ...          2011  \\\n",
       "0   1.089093e+05  1.178732e+05  1.236291e+05  1.262743e+05  ...  1.326415e+05   \n",
       "1   1.713860e+06  1.699242e+06  1.707362e+06  1.747507e+06  ...  1.015160e+06   \n",
       "2   5.949002e+05  5.692126e+05  5.566791e+05  5.229893e+05  ...  3.431343e+05   \n",
       "3   6.925471e+05  7.181249e+05  7.493965e+05  8.158733e+05  ...  6.919385e+05   \n",
       "4   6.695575e+05  6.797924e+05  7.085224e+05  6.783623e+05  ...  4.786803e+05   \n",
       "5   2.344615e+04  2.427614e+04  2.431375e+04  2.426103e+04  ...  1.967345e+04   \n",
       "6   2.295990e+06  2.238614e+06  2.110270e+06  2.027979e+06  ...  7.362304e+05   \n",
       "7   8.818666e+04  8.235897e+04  7.864431e+04  8.210732e+04  ...  7.122132e+04   \n",
       "8   2.942639e+05  2.969478e+05  3.066073e+05  3.161685e+05  ...  2.312695e+05   \n",
       "9   3.769054e+05  3.797770e+05  3.641541e+05  3.548833e+05  ...  1.677213e+05   \n",
       "10  1.037644e+05  1.094289e+05  1.113429e+05  1.090433e+05  ...  8.978325e+04   \n",
       "11  3.239036e+06  3.253013e+06  3.172824e+06  3.172563e+06  ...  1.516718e+06   \n",
       "12  5.560366e+05  5.813466e+05  5.999452e+05  5.975818e+05  ...  2.608183e+05   \n",
       "13  5.999595e+05  6.191147e+05  6.343924e+05  6.735753e+05  ...  3.583423e+05   \n",
       "14  8.487121e+05  8.277172e+05  8.152171e+05  8.053338e+05  ...  4.080329e+05   \n",
       "15  4.493360e+04  4.768859e+04  4.970319e+04  5.139193e+04  ...  5.179281e+04   \n",
       "16  3.685198e+05  3.729214e+05  3.600112e+05  3.426515e+05  ...  1.848428e+05   \n",
       "17  3.825467e+05  3.639428e+05  3.634753e+05  3.630108e+05  ...  1.281734e+05   \n",
       "18  7.090485e+04  7.350222e+04  7.219302e+04  7.343897e+04  ...  4.805533e+04   \n",
       "19  9.445885e+04  9.589046e+04  9.576827e+04  9.151003e+04  ...  6.537671e+04   \n",
       "20  4.901950e+03  5.186892e+03  5.046905e+03  5.089948e+03  ...  4.149405e+03   \n",
       "21  3.099604e+05  2.981117e+05  2.990759e+05  2.952850e+05  ...  1.838988e+05   \n",
       "22  1.156830e+05  1.164060e+05  1.172031e+05  1.189752e+05  ...  2.740181e+04   \n",
       "23  7.030658e+04  6.789962e+04  7.137619e+04  7.484744e+04  ...  4.854579e+04   \n",
       "24  8.262621e+04  8.093820e+04  8.018150e+04  7.835565e+04  ...  4.454292e+04   \n",
       "25  4.802603e+03  4.875396e+03  4.890836e+03  4.936646e+03  ...  3.820887e+03   \n",
       "26  2.941197e+05  2.900682e+05  2.804821e+05  2.748179e+05  ...  1.441310e+05   \n",
       "27  2.016116e+05  1.869749e+05  2.010509e+05  1.944908e+05  ...  7.731733e+04   \n",
       "28  8.601188e+04  8.628098e+04  8.622060e+04  8.773506e+04  ...  5.743133e+04   \n",
       "29  7.050136e+04  7.054729e+04  6.915232e+04  6.806677e+04  ...  3.868082e+04   \n",
       "30  1.780980e+01  1.932404e+01  1.824110e+01  1.784175e+01  ...  2.036125e+01   \n",
       "31  1.569622e+04  1.603214e+04  1.408766e+04  1.307698e+04  ...  7.298657e+03   \n",
       "32  1.113284e+03  1.006060e+03  8.379061e+02  1.060374e+03  ...  8.284455e+02   \n",
       "33  3.354683e+03  3.475886e+03  2.635877e+03  3.114361e+03  ...  2.640996e+03   \n",
       "34  2.427226e+03  2.605458e+03  2.376198e+03  2.143758e+03  ...  1.383649e+03   \n",
       "35  6.425205e+04  6.682105e+04  6.848950e+04  6.841910e+04  ...  6.182414e+04   \n",
       "36  2.282286e+06  2.222954e+06  2.160861e+06  2.077049e+06  ...  1.404148e+06   \n",
       "37  2.267341e+05  3.796134e+05  3.679299e+05  3.561119e+05  ...  1.397956e+05   \n",
       "38  3.256163e+05  3.299238e+05  3.328989e+05  3.451435e+05  ...  2.154031e+05   \n",
       "39  5.008478e+05  4.980880e+05  4.853409e+05  4.753608e+05  ...  2.755127e+05   \n",
       "40  6.123635e+04  6.607578e+04  7.130512e+04  7.500258e+04  ...  8.236695e+04   \n",
       "41  5.396226e+05  5.261009e+05  5.295019e+05  5.072399e+05  ...  3.285231e+05   \n",
       "42  1.306621e+05  1.349683e+05  1.343913e+05  1.348621e+05  ...  1.268940e+05   \n",
       "43  1.783682e+05  1.822811e+05  1.813366e+05  1.861183e+05  ...  1.602711e+05   \n",
       "44  2.199504e+05  2.272119e+05  2.392849e+05  2.482078e+05  ...  2.305941e+05   \n",
       "45  1.010407e+03  1.025471e+03  1.029556e+03  1.049343e+03  ...  9.098575e+02   \n",
       "46  1.775690e+05  1.696002e+05  1.634106e+05  1.589719e+05  ...  8.518251e+04   \n",
       "47  5.128393e+04  6.693654e+04  7.353915e+04  7.517015e+04  ...  2.527568e+04   \n",
       "48  4.946459e+04  5.008326e+04  5.084756e+04  5.344649e+04  ...  4.610319e+04   \n",
       "49  4.575208e+04  4.548779e+04  4.430284e+04  4.414545e+04  ...  2.355764e+04   \n",
       "50  3.384354e+03  3.500194e+03  3.526718e+03  3.518948e+03  ...  2.500296e+03   \n",
       "51  5.096238e+04  4.988384e+04  4.956906e+04  4.967940e+04  ...  2.628614e+04   \n",
       "52  3.120408e+03  2.278901e+03  3.107512e+03  3.246870e+03  ...  1.722510e+03   \n",
       "53  6.958917e+03  7.024506e+03  7.377441e+03  7.841304e+03  ...  5.586996e+03   \n",
       "54  1.035817e+04  1.041603e+04  1.035236e+04  1.042864e+04  ...  6.186715e+03   \n",
       "\n",
       "            2012          2013          2014          2015          2016  \\\n",
       "0   1.376306e+05  1.397076e+05  1.410951e+05  1.399376e+05  1.326195e+05   \n",
       "1   1.020173e+06  1.044806e+06  1.083451e+06  9.855169e+05  9.504380e+05   \n",
       "2   3.338778e+05  3.141877e+05  2.915925e+05  2.597254e+05  2.395688e+05   \n",
       "3   6.490507e+05  6.437103e+05  6.567357e+05  6.309796e+05  6.032689e+05   \n",
       "4   5.188245e+05  5.564111e+05  5.726153e+05  5.174218e+05  4.767401e+05   \n",
       "5   1.959705e+04  1.995701e+04  1.940665e+04  1.945427e+04  1.989855e+04   \n",
       "6   7.370418e+05  6.619696e+05  6.604148e+05  6.309956e+05  6.605450e+05   \n",
       "7   7.321098e+04  7.541982e+04  7.584722e+04  6.254080e+04  6.844373e+04   \n",
       "8   2.251075e+05  2.282223e+05  2.227189e+05  2.131847e+05  2.108348e+05   \n",
       "9   1.651836e+05  1.665486e+05  1.593865e+05  1.563130e+05  1.443814e+05   \n",
       "10  8.824884e+04  9.057178e+04  8.716692e+04  8.477330e+04  8.865068e+04   \n",
       "11  1.333303e+06  1.347308e+06  1.316822e+06  1.301904e+06  1.262839e+06   \n",
       "12  2.537806e+05  2.682490e+05  2.550261e+05  2.505080e+05  2.490127e+05   \n",
       "13  3.348769e+05  3.175711e+05  2.912034e+05  2.808280e+05  2.644571e+05   \n",
       "14  3.825040e+05  3.797158e+05  3.725979e+05  3.546466e+05  3.388676e+05   \n",
       "15  5.211923e+04  5.702355e+04  5.450654e+04  5.626214e+04  5.739388e+04   \n",
       "16  1.846211e+05  1.805327e+05  1.765030e+05  1.874932e+05  1.656103e+05   \n",
       "17  1.396237e+05  1.593931e+05  1.583302e+05  1.536010e+05  1.450914e+05   \n",
       "18  5.095531e+04  4.627716e+04  4.539356e+04  4.074380e+04  3.929710e+04   \n",
       "19  6.836840e+04  6.825103e+04  6.735842e+04  6.375578e+04  6.130111e+04   \n",
       "20  4.014006e+03  3.741643e+03  3.912374e+03  3.759959e+03  3.916499e+03   \n",
       "21  1.768580e+05  1.653122e+05  1.680311e+05  1.853678e+05  1.745979e+05   \n",
       "22  2.601134e+04  2.203616e+04  2.231246e+04  2.295870e+04  2.089463e+04   \n",
       "23  3.899712e+04  3.406714e+04  3.181519e+04  2.965510e+04  3.120619e+04   \n",
       "24  4.186525e+04  3.923274e+04  4.015182e+04  3.882748e+04  3.323119e+04   \n",
       "25  3.734124e+03  3.657337e+03  3.615445e+03  3.531114e+03  3.473126e+03   \n",
       "26  1.350109e+05  1.362505e+05  1.175935e+05  1.332974e+05  1.263556e+05   \n",
       "27  7.534611e+04  7.723449e+04  7.178114e+04  6.338420e+04  6.491907e+04   \n",
       "28  4.809711e+04  4.659324e+04  4.173105e+04  3.813830e+04  3.693707e+04   \n",
       "29  3.579367e+04  3.516234e+04  3.323531e+04  3.401147e+04  3.127257e+04   \n",
       "30  1.926963e+01  1.770665e+01  1.296047e+01  1.305043e+01  1.370112e+01   \n",
       "31  6.544810e+03  6.246598e+03  5.200277e+03  5.161298e+03  5.436367e+03   \n",
       "32  7.962201e+02  6.969922e+01  1.841122e+01  1.237330e+01  2.875012e+01   \n",
       "33  2.138146e+03  1.663174e+03  8.207922e+02  9.142166e+02  1.441890e+03   \n",
       "34  1.299219e+03  1.262732e+03  1.094269e+03  1.017927e+03  1.057279e+03   \n",
       "35  6.339411e+04  6.225721e+04  6.186988e+04  6.315048e+04  6.459545e+04   \n",
       "36  1.311653e+06  1.330046e+06  1.283932e+06  1.281067e+06  1.261236e+06   \n",
       "37  1.352731e+05  1.195347e+05  1.212196e+05  1.116673e+05  1.106346e+05   \n",
       "38  2.012270e+05  1.882561e+05  1.743232e+05  1.697901e+05  1.667755e+05   \n",
       "39  2.639130e+05  2.597432e+05  2.530374e+05  2.386375e+05  2.261033e+05   \n",
       "40  9.291360e+04  9.833029e+04  9.479432e+04  9.770759e+04  9.816450e+04   \n",
       "41  3.444210e+05  3.578297e+05  3.309867e+05  3.344717e+05  3.120519e+05   \n",
       "42  1.302184e+05  1.250203e+05  1.250167e+05  1.278895e+05  1.264279e+05   \n",
       "43  1.587826e+05  1.578281e+05  1.534012e+05  1.470068e+05  1.393770e+05   \n",
       "44  2.439897e+05  2.508983e+05  2.777762e+05  2.891745e+05  2.711965e+05   \n",
       "45  9.005129e+02  9.021095e+02  9.264717e+02  9.064986e+02  9.382600e+02   \n",
       "46  8.431316e+04  7.232834e+04  7.902056e+04  7.687131e+04  1.095038e+05   \n",
       "47  2.811329e+04  2.843169e+04  2.795794e+04  1.921936e+04  2.458727e+04   \n",
       "48  4.103746e+04  3.906790e+04  4.070157e+04  3.927242e+04  4.037754e+04   \n",
       "49  2.073925e+04  1.916823e+04  1.848435e+04  1.800710e+04  1.907310e+04   \n",
       "50  2.558777e+03  2.342345e+03  2.553844e+03  2.357022e+03  2.653232e+03   \n",
       "51  2.358679e+04  2.017721e+04  1.839975e+04  1.678315e+04  1.886578e+04   \n",
       "52  1.016353e+03  8.500452e+02  6.928058e+02  2.998085e+02  2.826668e+02   \n",
       "53  4.893479e+03  4.244005e+03  4.112744e+03  4.045938e+03  3.966987e+03   \n",
       "54  5.616339e+03  5.139537e+03  4.761317e+03  4.441508e+03  4.781438e+03   \n",
       "\n",
       "            2017          2018          2019          2020  \n",
       "0   1.240209e+05  1.304921e+05  1.314405e+05  1.331618e+05  \n",
       "1   1.009270e+06  1.001194e+06  9.920628e+05  8.902351e+05  \n",
       "2   2.414400e+05  2.257589e+05  2.212878e+05  1.825363e+05  \n",
       "3   6.272719e+05  6.259764e+05  6.256367e+05  5.676972e+05  \n",
       "4   4.743014e+05  5.010748e+05  4.926366e+05  4.569326e+05  \n",
       "5   2.014479e+04  2.096211e+04  2.108867e+04  2.269767e+04  \n",
       "6   6.813199e+05  6.934029e+05  6.796667e+05  6.451523e+05  \n",
       "7   7.191675e+04  7.335602e+04  6.892292e+04  6.991539e+04  \n",
       "8   2.159642e+05  2.236922e+05  2.205847e+05  2.094688e+05  \n",
       "9   1.422841e+05  1.416760e+05  1.399496e+05  1.312110e+05  \n",
       "10  8.759371e+04  8.746485e+04  8.877395e+04  9.194017e+04  \n",
       "11  1.260940e+06  1.282041e+06  1.280204e+06  1.128216e+06  \n",
       "12  1.755484e+05  1.453514e+05  1.113529e+05  1.127620e+05  \n",
       "13  2.698432e+05  2.777800e+05  2.714668e+05  2.292602e+05  \n",
       "14  3.367840e+05  3.521427e+05  3.471546e+05  3.081950e+05  \n",
       "15  5.723370e+04  5.836366e+04  5.919798e+04  6.257931e+04  \n",
       "16  1.585518e+05  1.754152e+05  1.758413e+05  1.682975e+05  \n",
       "17  1.193050e+05  4.025307e+04  2.036049e+03  1.934706e+03  \n",
       "18  4.087905e+04  4.300385e+04  4.166291e+04  3.872251e+04  \n",
       "19  6.176425e+04  6.435556e+04  6.375137e+04  6.096897e+04  \n",
       "20  3.768891e+03  3.666709e+03  3.660218e+03  3.649870e+03  \n",
       "21  1.440532e+05  1.353042e+05  1.256535e+05  1.100683e+05  \n",
       "22  2.085853e+04  2.220985e+04  1.959098e+04  1.246455e+04  \n",
       "23  2.840516e+04  2.777122e+04  2.679451e+04  2.373703e+04  \n",
       "24  2.872870e+04  2.821794e+04  2.647974e+04  2.396551e+04  \n",
       "25  3.444455e+03  3.553992e+03  3.480096e+03  3.484302e+03  \n",
       "26  1.299334e+05  1.333253e+05  1.224406e+05  1.161014e+05  \n",
       "27  6.663227e+04  6.472947e+04  5.281936e+04  5.327194e+04  \n",
       "28  3.994411e+04  4.021842e+04  3.910669e+04  3.382979e+04  \n",
       "29  3.132567e+04  3.203675e+04  3.089215e+04  2.792750e+04  \n",
       "30  1.347619e+01  1.538956e+01  1.666445e+01  1.497809e+01  \n",
       "31  5.525582e+03  6.408803e+03  7.347644e+03  5.759988e+03  \n",
       "32  1.038548e+01  6.315542e+00  6.092028e+00  8.419420e+00  \n",
       "33  1.389449e+03  1.967377e+03  2.011178e+03  1.430605e+03  \n",
       "34  1.032437e+03  1.050388e+03  1.082194e+03  9.435968e+02  \n",
       "35  6.153807e+04  6.613722e+04  6.282806e+04  6.366246e+04  \n",
       "36  1.295458e+06  1.267079e+06  1.262749e+06  1.195877e+06  \n",
       "37  1.118075e+05  9.666526e+04  9.215370e+04  9.917362e+04  \n",
       "38  1.735831e+05  1.732727e+05  1.759242e+05  1.548505e+05  \n",
       "39  2.241243e+05  2.336183e+05  2.344617e+05  2.116545e+05  \n",
       "40  1.004842e+05  1.026976e+05  1.012322e+05  1.017011e+05  \n",
       "41  3.155101e+05  3.031972e+05  2.979142e+05  2.781349e+05  \n",
       "42  1.249232e+05  1.238949e+05  1.227005e+05  1.064039e+05  \n",
       "43  1.430629e+05  1.461702e+05  1.445839e+05  1.295119e+05  \n",
       "44  2.974023e+05  2.886911e+05  2.760551e+05  2.130578e+05  \n",
       "45  9.140410e+02  9.237940e+02  9.355166e+02  9.300340e+02  \n",
       "46  8.179161e+04  8.439621e+04  8.400439e+04  8.400958e+04  \n",
       "47  2.246606e+04  1.858913e+04  2.069021e+04  1.152184e+04  \n",
       "48  4.155172e+04  4.035321e+04  4.185957e+04  3.788278e+04  \n",
       "49  2.154940e+04  2.146979e+04  2.059337e+04  1.942787e+04  \n",
       "50  2.582114e+03  2.692139e+03  2.890204e+03  3.203449e+03  \n",
       "51  2.139042e+04  2.065581e+04  2.106800e+04  2.030025e+04  \n",
       "52  3.224608e+02  3.145218e+02  3.200485e+02  2.709045e+02  \n",
       "53  4.061846e+03  4.163778e+03  4.182270e+03  3.301916e+03  \n",
       "54  5.229042e+03  5.244752e+03  5.424804e+03  5.016071e+03  \n",
       "\n",
       "[55 rows x 33 columns]"
      ]
     },
     "execution_count": 5,
     "metadata": {},
     "output_type": "execute_result"
    }
   ],
   "source": [
    "pd.read_csv(\"projects/environmental-health/csv/provincial_df.csv\")"
   ]
  },
  {
   "cell_type": "markdown",
   "metadata": {},
   "source": [
    "Next, we examine provincial emissions of air pollutants per capita. To achieve this, we first need to merge the provincial air pollutants data and population per capita data[^ref3].\n",
    "\n",
    "We conduct additional data cleaning on the two datasets by renaming some columns. The resulting dataset encompasses provincial air pollutant emissions and population estimates for each year from 1990 to 2020. Subsequently, we divide air pollutant emissions' `Value` by population's `Per Capita` to obtain emission `Per Capita`.\n",
    "\n",
    "Then, we take a look into the mean and air pollutants across Canadian provinces per capita. "
   ]
  },
  {
   "cell_type": "code",
   "execution_count": 13,
   "metadata": {
    "tags": [
     "remove-input",
     "output_scroll"
    ]
   },
   "outputs": [
    {
     "data": {
      "text/html": [
       "<div>\n",
       "<style scoped>\n",
       "    .dataframe tbody tr th:only-of-type {\n",
       "        vertical-align: middle;\n",
       "    }\n",
       "\n",
       "    .dataframe tbody tr th {\n",
       "        vertical-align: top;\n",
       "    }\n",
       "\n",
       "    .dataframe thead th {\n",
       "        text-align: right;\n",
       "    }\n",
       "</style>\n",
       "<table border=\"1\" class=\"dataframe\">\n",
       "  <thead>\n",
       "    <tr style=\"text-align: right;\">\n",
       "      <th></th>\n",
       "      <th>Province</th>\n",
       "      <th>Pollutant</th>\n",
       "      <th>Mean</th>\n",
       "    </tr>\n",
       "  </thead>\n",
       "  <tbody>\n",
       "    <tr>\n",
       "      <th>0</th>\n",
       "      <td>AB</td>\n",
       "      <td>CO</td>\n",
       "      <td>0.426834</td>\n",
       "    </tr>\n",
       "    <tr>\n",
       "      <th>1</th>\n",
       "      <td>AB</td>\n",
       "      <td>NH3</td>\n",
       "      <td>0.038578</td>\n",
       "    </tr>\n",
       "    <tr>\n",
       "      <th>2</th>\n",
       "      <td>AB</td>\n",
       "      <td>NOX</td>\n",
       "      <td>0.209131</td>\n",
       "    </tr>\n",
       "    <tr>\n",
       "      <th>3</th>\n",
       "      <td>AB</td>\n",
       "      <td>SOX</td>\n",
       "      <td>0.131820</td>\n",
       "    </tr>\n",
       "    <tr>\n",
       "      <th>4</th>\n",
       "      <td>AB</td>\n",
       "      <td>VOC</td>\n",
       "      <td>0.179616</td>\n",
       "    </tr>\n",
       "    <tr>\n",
       "      <th>5</th>\n",
       "      <td>BC</td>\n",
       "      <td>CO</td>\n",
       "      <td>0.340157</td>\n",
       "    </tr>\n",
       "    <tr>\n",
       "      <th>6</th>\n",
       "      <td>BC</td>\n",
       "      <td>NH3</td>\n",
       "      <td>0.005356</td>\n",
       "    </tr>\n",
       "    <tr>\n",
       "      <th>7</th>\n",
       "      <td>BC</td>\n",
       "      <td>NOX</td>\n",
       "      <td>0.064060</td>\n",
       "    </tr>\n",
       "    <tr>\n",
       "      <th>8</th>\n",
       "      <td>BC</td>\n",
       "      <td>SOX</td>\n",
       "      <td>0.018102</td>\n",
       "    </tr>\n",
       "    <tr>\n",
       "      <th>9</th>\n",
       "      <td>BC</td>\n",
       "      <td>VOC</td>\n",
       "      <td>0.063772</td>\n",
       "    </tr>\n",
       "    <tr>\n",
       "      <th>10</th>\n",
       "      <td>MB</td>\n",
       "      <td>CO</td>\n",
       "      <td>0.226906</td>\n",
       "    </tr>\n",
       "    <tr>\n",
       "      <th>11</th>\n",
       "      <td>MB</td>\n",
       "      <td>NH3</td>\n",
       "      <td>0.043935</td>\n",
       "    </tr>\n",
       "    <tr>\n",
       "      <th>12</th>\n",
       "      <td>MB</td>\n",
       "      <td>NOX</td>\n",
       "      <td>0.050566</td>\n",
       "    </tr>\n",
       "    <tr>\n",
       "      <th>13</th>\n",
       "      <td>MB</td>\n",
       "      <td>SOX</td>\n",
       "      <td>0.245936</td>\n",
       "    </tr>\n",
       "    <tr>\n",
       "      <th>14</th>\n",
       "      <td>MB</td>\n",
       "      <td>VOC</td>\n",
       "      <td>0.066056</td>\n",
       "    </tr>\n",
       "    <tr>\n",
       "      <th>15</th>\n",
       "      <td>NB</td>\n",
       "      <td>CO</td>\n",
       "      <td>0.301417</td>\n",
       "    </tr>\n",
       "    <tr>\n",
       "      <th>16</th>\n",
       "      <td>NB</td>\n",
       "      <td>NH3</td>\n",
       "      <td>0.006092</td>\n",
       "    </tr>\n",
       "    <tr>\n",
       "      <th>17</th>\n",
       "      <td>NB</td>\n",
       "      <td>NOX</td>\n",
       "      <td>0.077988</td>\n",
       "    </tr>\n",
       "    <tr>\n",
       "      <th>18</th>\n",
       "      <td>NB</td>\n",
       "      <td>SOX</td>\n",
       "      <td>0.099255</td>\n",
       "    </tr>\n",
       "    <tr>\n",
       "      <th>19</th>\n",
       "      <td>NB</td>\n",
       "      <td>VOC</td>\n",
       "      <td>0.074919</td>\n",
       "    </tr>\n",
       "    <tr>\n",
       "      <th>20</th>\n",
       "      <td>NL</td>\n",
       "      <td>CO</td>\n",
       "      <td>0.225439</td>\n",
       "    </tr>\n",
       "    <tr>\n",
       "      <th>21</th>\n",
       "      <td>NL</td>\n",
       "      <td>NH3</td>\n",
       "      <td>0.001857</td>\n",
       "    </tr>\n",
       "    <tr>\n",
       "      <th>22</th>\n",
       "      <td>NL</td>\n",
       "      <td>NOX</td>\n",
       "      <td>0.092253</td>\n",
       "    </tr>\n",
       "    <tr>\n",
       "      <th>23</th>\n",
       "      <td>NL</td>\n",
       "      <td>SOX</td>\n",
       "      <td>0.086396</td>\n",
       "    </tr>\n",
       "    <tr>\n",
       "      <th>24</th>\n",
       "      <td>NL</td>\n",
       "      <td>VOC</td>\n",
       "      <td>0.065563</td>\n",
       "    </tr>\n",
       "    <tr>\n",
       "      <th>25</th>\n",
       "      <td>NS</td>\n",
       "      <td>CO</td>\n",
       "      <td>0.217794</td>\n",
       "    </tr>\n",
       "    <tr>\n",
       "      <th>26</th>\n",
       "      <td>NS</td>\n",
       "      <td>NH3</td>\n",
       "      <td>0.004562</td>\n",
       "    </tr>\n",
       "    <tr>\n",
       "      <th>27</th>\n",
       "      <td>NS</td>\n",
       "      <td>NOX</td>\n",
       "      <td>0.074748</td>\n",
       "    </tr>\n",
       "    <tr>\n",
       "      <th>28</th>\n",
       "      <td>NS</td>\n",
       "      <td>SOX</td>\n",
       "      <td>0.147623</td>\n",
       "    </tr>\n",
       "    <tr>\n",
       "      <th>29</th>\n",
       "      <td>NS</td>\n",
       "      <td>VOC</td>\n",
       "      <td>0.053418</td>\n",
       "    </tr>\n",
       "    <tr>\n",
       "      <th>30</th>\n",
       "      <td>ON</td>\n",
       "      <td>CO</td>\n",
       "      <td>0.189770</td>\n",
       "    </tr>\n",
       "    <tr>\n",
       "      <th>31</th>\n",
       "      <td>ON</td>\n",
       "      <td>NH3</td>\n",
       "      <td>0.008145</td>\n",
       "    </tr>\n",
       "    <tr>\n",
       "      <th>32</th>\n",
       "      <td>ON</td>\n",
       "      <td>NOX</td>\n",
       "      <td>0.041102</td>\n",
       "    </tr>\n",
       "    <tr>\n",
       "      <th>33</th>\n",
       "      <td>ON</td>\n",
       "      <td>SOX</td>\n",
       "      <td>0.039897</td>\n",
       "    </tr>\n",
       "    <tr>\n",
       "      <th>34</th>\n",
       "      <td>ON</td>\n",
       "      <td>VOC</td>\n",
       "      <td>0.049476</td>\n",
       "    </tr>\n",
       "    <tr>\n",
       "      <th>35</th>\n",
       "      <td>PE</td>\n",
       "      <td>CO</td>\n",
       "      <td>0.264289</td>\n",
       "    </tr>\n",
       "    <tr>\n",
       "      <th>36</th>\n",
       "      <td>PE</td>\n",
       "      <td>NH3</td>\n",
       "      <td>0.022612</td>\n",
       "    </tr>\n",
       "    <tr>\n",
       "      <th>37</th>\n",
       "      <td>PE</td>\n",
       "      <td>NOX</td>\n",
       "      <td>0.044107</td>\n",
       "    </tr>\n",
       "    <tr>\n",
       "      <th>38</th>\n",
       "      <td>PE</td>\n",
       "      <td>SOX</td>\n",
       "      <td>0.014450</td>\n",
       "    </tr>\n",
       "    <tr>\n",
       "      <th>39</th>\n",
       "      <td>PE</td>\n",
       "      <td>VOC</td>\n",
       "      <td>0.056954</td>\n",
       "    </tr>\n",
       "    <tr>\n",
       "      <th>40</th>\n",
       "      <td>QC</td>\n",
       "      <td>CO</td>\n",
       "      <td>0.224545</td>\n",
       "    </tr>\n",
       "    <tr>\n",
       "      <th>41</th>\n",
       "      <td>QC</td>\n",
       "      <td>NH3</td>\n",
       "      <td>0.008525</td>\n",
       "    </tr>\n",
       "    <tr>\n",
       "      <th>42</th>\n",
       "      <td>QC</td>\n",
       "      <td>NOX</td>\n",
       "      <td>0.034874</td>\n",
       "    </tr>\n",
       "    <tr>\n",
       "      <th>43</th>\n",
       "      <td>QC</td>\n",
       "      <td>SOX</td>\n",
       "      <td>0.027408</td>\n",
       "    </tr>\n",
       "    <tr>\n",
       "      <th>44</th>\n",
       "      <td>QC</td>\n",
       "      <td>VOC</td>\n",
       "      <td>0.047672</td>\n",
       "    </tr>\n",
       "    <tr>\n",
       "      <th>45</th>\n",
       "      <td>SK</td>\n",
       "      <td>CO</td>\n",
       "      <td>0.414566</td>\n",
       "    </tr>\n",
       "    <tr>\n",
       "      <th>46</th>\n",
       "      <td>SK</td>\n",
       "      <td>NH3</td>\n",
       "      <td>0.075559</td>\n",
       "    </tr>\n",
       "    <tr>\n",
       "      <th>47</th>\n",
       "      <td>SK</td>\n",
       "      <td>NOX</td>\n",
       "      <td>0.158855</td>\n",
       "    </tr>\n",
       "    <tr>\n",
       "      <th>48</th>\n",
       "      <td>SK</td>\n",
       "      <td>SOX</td>\n",
       "      <td>0.124684</td>\n",
       "    </tr>\n",
       "    <tr>\n",
       "      <th>49</th>\n",
       "      <td>SK</td>\n",
       "      <td>VOC</td>\n",
       "      <td>0.229759</td>\n",
       "    </tr>\n",
       "  </tbody>\n",
       "</table>\n",
       "</div>"
      ],
      "text/plain": [
       "   Province Pollutant      Mean\n",
       "0        AB        CO  0.426834\n",
       "1        AB       NH3  0.038578\n",
       "2        AB       NOX  0.209131\n",
       "3        AB       SOX  0.131820\n",
       "4        AB       VOC  0.179616\n",
       "5        BC        CO  0.340157\n",
       "6        BC       NH3  0.005356\n",
       "7        BC       NOX  0.064060\n",
       "8        BC       SOX  0.018102\n",
       "9        BC       VOC  0.063772\n",
       "10       MB        CO  0.226906\n",
       "11       MB       NH3  0.043935\n",
       "12       MB       NOX  0.050566\n",
       "13       MB       SOX  0.245936\n",
       "14       MB       VOC  0.066056\n",
       "15       NB        CO  0.301417\n",
       "16       NB       NH3  0.006092\n",
       "17       NB       NOX  0.077988\n",
       "18       NB       SOX  0.099255\n",
       "19       NB       VOC  0.074919\n",
       "20       NL        CO  0.225439\n",
       "21       NL       NH3  0.001857\n",
       "22       NL       NOX  0.092253\n",
       "23       NL       SOX  0.086396\n",
       "24       NL       VOC  0.065563\n",
       "25       NS        CO  0.217794\n",
       "26       NS       NH3  0.004562\n",
       "27       NS       NOX  0.074748\n",
       "28       NS       SOX  0.147623\n",
       "29       NS       VOC  0.053418\n",
       "30       ON        CO  0.189770\n",
       "31       ON       NH3  0.008145\n",
       "32       ON       NOX  0.041102\n",
       "33       ON       SOX  0.039897\n",
       "34       ON       VOC  0.049476\n",
       "35       PE        CO  0.264289\n",
       "36       PE       NH3  0.022612\n",
       "37       PE       NOX  0.044107\n",
       "38       PE       SOX  0.014450\n",
       "39       PE       VOC  0.056954\n",
       "40       QC        CO  0.224545\n",
       "41       QC       NH3  0.008525\n",
       "42       QC       NOX  0.034874\n",
       "43       QC       SOX  0.027408\n",
       "44       QC       VOC  0.047672\n",
       "45       SK        CO  0.414566\n",
       "46       SK       NH3  0.075559\n",
       "47       SK       NOX  0.158855\n",
       "48       SK       SOX  0.124684\n",
       "49       SK       VOC  0.229759"
      ]
     },
     "execution_count": 13,
     "metadata": {},
     "output_type": "execute_result"
    }
   ],
   "source": [
    "pd.read_csv(\"projects/environmental-health/csv/pollutant_capita_mean.csv\")"
   ]
  },
  {
   "cell_type": "markdown",
   "metadata": {},
   "source": [
    "### Enviromental Impact Caused By Air Pollution"
   ]
  },
  {
   "cell_type": "markdown",
   "metadata": {},
   "source": [
    "To investigate the environmental implications of air pollution, we examine the frequency of wildfires in Canada and study how their occurrences are related to air pollution.\n",
    "\n",
    "The Canadian National Fire Database[^ref2] provides diverse information on wildfires in Canada. We will explore the total number of wildfires and the total area burned by province. Using this information, we can assess whether the `Number of Fires` or `Area Burned (hectares)` correlates better with PM2.5 emissions.\n",
    "\n",
    "Below are the resulting dataframes after undergoing some data cleaning."
   ]
  },
  {
   "cell_type": "code",
   "execution_count": 21,
   "metadata": {
    "tags": [
     "remove-input"
    ]
   },
   "outputs": [
    {
     "data": {
      "text/html": [
       "<div>\n",
       "<style scoped>\n",
       "    .dataframe tbody tr th:only-of-type {\n",
       "        vertical-align: middle;\n",
       "    }\n",
       "\n",
       "    .dataframe tbody tr th {\n",
       "        vertical-align: top;\n",
       "    }\n",
       "\n",
       "    .dataframe thead th {\n",
       "        text-align: right;\n",
       "    }\n",
       "</style>\n",
       "<table border=\"1\" class=\"dataframe\">\n",
       "  <thead>\n",
       "    <tr style=\"text-align: right;\">\n",
       "      <th></th>\n",
       "      <th>Province</th>\n",
       "      <th>Total Emission</th>\n",
       "      <th>Number of Fire</th>\n",
       "      <th>Area Burned (hectre)</th>\n",
       "    </tr>\n",
       "  </thead>\n",
       "  <tbody>\n",
       "    <tr>\n",
       "      <th>0</th>\n",
       "      <td>AB</td>\n",
       "      <td>1.330822e+07</td>\n",
       "      <td>38015.0</td>\n",
       "      <td>5.923754e+06</td>\n",
       "    </tr>\n",
       "    <tr>\n",
       "      <th>1</th>\n",
       "      <td>BC</td>\n",
       "      <td>2.600960e+06</td>\n",
       "      <td>56698.0</td>\n",
       "      <td>5.123188e+06</td>\n",
       "    </tr>\n",
       "    <tr>\n",
       "      <th>2</th>\n",
       "      <td>MB</td>\n",
       "      <td>3.077027e+06</td>\n",
       "      <td>10953.0</td>\n",
       "      <td>6.672828e+06</td>\n",
       "    </tr>\n",
       "    <tr>\n",
       "      <th>3</th>\n",
       "      <td>NB</td>\n",
       "      <td>6.211207e+05</td>\n",
       "      <td>9985.0</td>\n",
       "      <td>2.908940e+04</td>\n",
       "    </tr>\n",
       "    <tr>\n",
       "      <th>4</th>\n",
       "      <td>NL</td>\n",
       "      <td>4.874982e+05</td>\n",
       "      <td>2937.0</td>\n",
       "      <td>4.148917e+05</td>\n",
       "    </tr>\n",
       "    <tr>\n",
       "      <th>5</th>\n",
       "      <td>NS</td>\n",
       "      <td>6.455169e+05</td>\n",
       "      <td>8841.0</td>\n",
       "      <td>2.159480e+04</td>\n",
       "    </tr>\n",
       "    <tr>\n",
       "      <th>6</th>\n",
       "      <td>ON</td>\n",
       "      <td>5.625880e+06</td>\n",
       "      <td>35041.0</td>\n",
       "      <td>4.865412e+06</td>\n",
       "    </tr>\n",
       "    <tr>\n",
       "      <th>7</th>\n",
       "      <td>PE</td>\n",
       "      <td>1.235335e+05</td>\n",
       "      <td>11.0</td>\n",
       "      <td>2.160128e+01</td>\n",
       "    </tr>\n",
       "    <tr>\n",
       "      <th>8</th>\n",
       "      <td>QC</td>\n",
       "      <td>3.890464e+06</td>\n",
       "      <td>21222.0</td>\n",
       "      <td>8.173951e+06</td>\n",
       "    </tr>\n",
       "    <tr>\n",
       "      <th>9</th>\n",
       "      <td>SK</td>\n",
       "      <td>1.422373e+07</td>\n",
       "      <td>16964.0</td>\n",
       "      <td>1.488577e+07</td>\n",
       "    </tr>\n",
       "  </tbody>\n",
       "</table>\n",
       "</div>"
      ],
      "text/plain": [
       "  Province  Total Emission  Number of Fire  Area Burned (hectre)\n",
       "0       AB    1.330822e+07         38015.0          5.923754e+06\n",
       "1       BC    2.600960e+06         56698.0          5.123188e+06\n",
       "2       MB    3.077027e+06         10953.0          6.672828e+06\n",
       "3       NB    6.211207e+05          9985.0          2.908940e+04\n",
       "4       NL    4.874982e+05          2937.0          4.148917e+05\n",
       "5       NS    6.455169e+05          8841.0          2.159480e+04\n",
       "6       ON    5.625880e+06         35041.0          4.865412e+06\n",
       "7       PE    1.235335e+05            11.0          2.160128e+01\n",
       "8       QC    3.890464e+06         21222.0          8.173951e+06\n",
       "9       SK    1.422373e+07         16964.0          1.488577e+07"
      ]
     },
     "execution_count": 21,
     "metadata": {},
     "output_type": "execute_result"
    }
   ],
   "source": [
    "pm25_fire = pd.read_csv(\"projects/environmental-health/csv/pm25_fire.csv\").drop(\"Unnamed: 0\", axis=1)\n",
    "pm25_fire"
   ]
  },
  {
   "cell_type": "markdown",
   "metadata": {},
   "source": [
    "## Final Deliverable"
   ]
  },
  {
   "cell_type": "markdown",
   "metadata": {},
   "source": [
    "First, we will examine a **stacked bar graph** illustrating emissions per capita across all provinces. This graph also enables us to observe annual variations in pollutant emissions. We have incorporated an interactive feature using the `Plotly` library. To explore a specific year, simply drag the button on the slider bar located at the bottom of the graph."
   ]
  },
  {
   "cell_type": "code",
   "execution_count": 17,
   "metadata": {
    "tags": [
     "remove-input"
    ]
   },
   "outputs": [
    {
     "data": {
      "application/vnd.plotly.v1+json": {
       "config": {
        "plotlyServerURL": "https://plot.ly"
       },
       "data": [
        {
         "alignmentgroup": "True",
         "hovertemplate": "Pollutant=NH3<br>Year=1990<br>Province=%{x}<br>By Capita=%{y}<extra></extra>",
         "legendgroup": "NH3",
         "marker": {
          "color": "#636efa",
          "pattern": {
           "shape": ""
          }
         },
         "name": "NH3",
         "offsetgroup": "NH3",
         "orientation": "v",
         "showlegend": true,
         "textposition": "auto",
         "type": "bar",
         "x": [
          "AB",
          "BC",
          "ON",
          "MB",
          "NB",
          "NS",
          "QC",
          "SK",
          "NL",
          "PE"
         ],
         "xaxis": "x",
         "y": [
          0.0374912726583,
          0.0070059982192093,
          0.010764188190601,
          0.0344537341518722,
          0.0062128800191372,
          0.0053471364898572,
          0.0092977211697414,
          0.0481893378165119,
          0.0017835539776167,
          0.0262037038118752
         ],
         "yaxis": "y"
        },
        {
         "alignmentgroup": "True",
         "hovertemplate": "Pollutant=CO<br>Year=1990<br>Province=%{x}<br>By Capita=%{y}<extra></extra>",
         "legendgroup": "CO",
         "marker": {
          "color": "#EF553B",
          "pattern": {
           "shape": "/"
          }
         },
         "name": "CO",
         "offsetgroup": "CO",
         "orientation": "v",
         "showlegend": true,
         "textposition": "auto",
         "type": "bar",
         "x": [
          "AB",
          "BC",
          "ON",
          "MB",
          "NB",
          "NS",
          "QC",
          "SK",
          "NL",
          "PE"
         ],
         "xaxis": "x",
         "y": [
          0.7124987934342601,
          0.7130133068872113,
          0.3184144985379126,
          0.3493933421676155,
          0.427440950625084,
          0.3391902752590456,
          0.3228039067301984,
          0.5183164474876194,
          0.3214242629869935,
          0.4207704371458509
         ],
         "yaxis": "y"
        },
        {
         "alignmentgroup": "True",
         "hovertemplate": "Pollutant=SOX<br>Year=1990<br>Province=%{x}<br>By Capita=%{y}<extra></extra>",
         "legendgroup": "SOX",
         "marker": {
          "color": "#00cc96",
          "pattern": {
           "shape": "\\"
          }
         },
         "name": "SOX",
         "offsetgroup": "SOX",
         "orientation": "v",
         "showlegend": true,
         "textposition": "auto",
         "type": "bar",
         "x": [
          "AB",
          "BC",
          "ON",
          "MB",
          "NB",
          "NS",
          "QC",
          "SK",
          "NL",
          "PE"
         ],
         "xaxis": "x",
         "y": [
          0.2016627273971376,
          0.0337404984412126,
          0.1093976592926988,
          0.4610507036720216,
          0.1478114370582653,
          0.2233645604850153,
          0.0353389294170727,
          0.1020905920575426,
          0.1192773490004856,
          0.0262509019658548
         ],
         "yaxis": "y"
        },
        {
         "alignmentgroup": "True",
         "hovertemplate": "Pollutant=NOX<br>Year=1990<br>Province=%{x}<br>By Capita=%{y}<extra></extra>",
         "legendgroup": "NOX",
         "marker": {
          "color": "#ab63fa",
          "pattern": {
           "shape": "x"
          }
         },
         "name": "NOX",
         "offsetgroup": "NOX",
         "orientation": "v",
         "showlegend": true,
         "textposition": "auto",
         "type": "bar",
         "x": [
          "AB",
          "BC",
          "ON",
          "MB",
          "NB",
          "NS",
          "QC",
          "SK",
          "NL",
          "PE"
         ],
         "xaxis": "x",
         "y": [
          0.2413648171591593,
          0.0871234152609603,
          0.0586925402307448,
          0.0657207290284754,
          0.1064503666220003,
          0.0911290922834422,
          0.0446091559051751,
          0.1480645389936553,
          0.090196741357808,
          0.0514998413886186
         ],
         "yaxis": "y"
        },
        {
         "alignmentgroup": "True",
         "hovertemplate": "Pollutant=VOC<br>Year=1990<br>Province=%{x}<br>By Capita=%{y}<extra></extra>",
         "legendgroup": "VOC",
         "marker": {
          "color": "#FFA15A",
          "pattern": {
           "shape": "+"
          }
         },
         "name": "VOC",
         "offsetgroup": "VOC",
         "orientation": "v",
         "showlegend": true,
         "textposition": "auto",
         "type": "bar",
         "x": [
          "AB",
          "BC",
          "ON",
          "MB",
          "NB",
          "NS",
          "QC",
          "SK",
          "NL",
          "PE"
         ],
         "xaxis": "x",
         "y": [
          0.2533558119207462,
          0.1142399903009586,
          0.0830574382598484,
          0.0869904580033048,
          0.1110584922866618,
          0.0772237868855907,
          0.0705505924014337,
          0.1853205347935731,
          0.0796091694991345,
          0.0808581666600416
         ],
         "yaxis": "y"
        }
       ],
       "frames": [
        {
         "data": [
          {
           "alignmentgroup": "True",
           "hovertemplate": "Pollutant=NH3<br>Year=1990<br>Province=%{x}<br>By Capita=%{y}<extra></extra>",
           "legendgroup": "NH3",
           "marker": {
            "color": "#636efa",
            "pattern": {
             "shape": ""
            }
           },
           "name": "NH3",
           "offsetgroup": "NH3",
           "orientation": "v",
           "showlegend": true,
           "textposition": "auto",
           "type": "bar",
           "x": [
            "AB",
            "BC",
            "ON",
            "MB",
            "NB",
            "NS",
            "QC",
            "SK",
            "NL",
            "PE"
           ],
           "xaxis": "x",
           "y": [
            0.0374912726583,
            0.0070059982192093,
            0.010764188190601,
            0.0344537341518722,
            0.0062128800191372,
            0.0053471364898572,
            0.0092977211697414,
            0.0481893378165119,
            0.0017835539776167,
            0.0262037038118752
           ],
           "yaxis": "y"
          },
          {
           "alignmentgroup": "True",
           "hovertemplate": "Pollutant=CO<br>Year=1990<br>Province=%{x}<br>By Capita=%{y}<extra></extra>",
           "legendgroup": "CO",
           "marker": {
            "color": "#EF553B",
            "pattern": {
             "shape": "/"
            }
           },
           "name": "CO",
           "offsetgroup": "CO",
           "orientation": "v",
           "showlegend": true,
           "textposition": "auto",
           "type": "bar",
           "x": [
            "AB",
            "BC",
            "ON",
            "MB",
            "NB",
            "NS",
            "QC",
            "SK",
            "NL",
            "PE"
           ],
           "xaxis": "x",
           "y": [
            0.7124987934342601,
            0.7130133068872113,
            0.3184144985379126,
            0.3493933421676155,
            0.427440950625084,
            0.3391902752590456,
            0.3228039067301984,
            0.5183164474876194,
            0.3214242629869935,
            0.4207704371458509
           ],
           "yaxis": "y"
          },
          {
           "alignmentgroup": "True",
           "hovertemplate": "Pollutant=SOX<br>Year=1990<br>Province=%{x}<br>By Capita=%{y}<extra></extra>",
           "legendgroup": "SOX",
           "marker": {
            "color": "#00cc96",
            "pattern": {
             "shape": "\\"
            }
           },
           "name": "SOX",
           "offsetgroup": "SOX",
           "orientation": "v",
           "showlegend": true,
           "textposition": "auto",
           "type": "bar",
           "x": [
            "AB",
            "BC",
            "ON",
            "MB",
            "NB",
            "NS",
            "QC",
            "SK",
            "NL",
            "PE"
           ],
           "xaxis": "x",
           "y": [
            0.2016627273971376,
            0.0337404984412126,
            0.1093976592926988,
            0.4610507036720216,
            0.1478114370582653,
            0.2233645604850153,
            0.0353389294170727,
            0.1020905920575426,
            0.1192773490004856,
            0.0262509019658548
           ],
           "yaxis": "y"
          },
          {
           "alignmentgroup": "True",
           "hovertemplate": "Pollutant=NOX<br>Year=1990<br>Province=%{x}<br>By Capita=%{y}<extra></extra>",
           "legendgroup": "NOX",
           "marker": {
            "color": "#ab63fa",
            "pattern": {
             "shape": "x"
            }
           },
           "name": "NOX",
           "offsetgroup": "NOX",
           "orientation": "v",
           "showlegend": true,
           "textposition": "auto",
           "type": "bar",
           "x": [
            "AB",
            "BC",
            "ON",
            "MB",
            "NB",
            "NS",
            "QC",
            "SK",
            "NL",
            "PE"
           ],
           "xaxis": "x",
           "y": [
            0.2413648171591593,
            0.0871234152609603,
            0.0586925402307448,
            0.0657207290284754,
            0.1064503666220003,
            0.0911290922834422,
            0.0446091559051751,
            0.1480645389936553,
            0.090196741357808,
            0.0514998413886186
           ],
           "yaxis": "y"
          },
          {
           "alignmentgroup": "True",
           "hovertemplate": "Pollutant=VOC<br>Year=1990<br>Province=%{x}<br>By Capita=%{y}<extra></extra>",
           "legendgroup": "VOC",
           "marker": {
            "color": "#FFA15A",
            "pattern": {
             "shape": "+"
            }
           },
           "name": "VOC",
           "offsetgroup": "VOC",
           "orientation": "v",
           "showlegend": true,
           "textposition": "auto",
           "type": "bar",
           "x": [
            "AB",
            "BC",
            "ON",
            "MB",
            "NB",
            "NS",
            "QC",
            "SK",
            "NL",
            "PE"
           ],
           "xaxis": "x",
           "y": [
            0.2533558119207462,
            0.1142399903009586,
            0.0830574382598484,
            0.0869904580033048,
            0.1110584922866618,
            0.0772237868855907,
            0.0705505924014337,
            0.1853205347935731,
            0.0796091694991345,
            0.0808581666600416
           ],
           "yaxis": "y"
          }
         ],
         "name": "1990"
        },
        {
         "data": [
          {
           "alignmentgroup": "True",
           "hovertemplate": "Pollutant=NH3<br>Year=1991<br>Province=%{x}<br>By Capita=%{y}<extra></extra>",
           "legendgroup": "NH3",
           "marker": {
            "color": "#636efa",
            "pattern": {
             "shape": ""
            }
           },
           "name": "NH3",
           "offsetgroup": "NH3",
           "orientation": "v",
           "showlegend": true,
           "textposition": "auto",
           "type": "bar",
           "x": [
            "AB",
            "BC",
            "ON",
            "MB",
            "NB",
            "NS",
            "QC",
            "SK",
            "NL",
            "PE"
           ],
           "xaxis": "x",
           "y": [
            0.0372535109308047,
            0.0066251810397593,
            0.0102598748045511,
            0.0362571134970615,
            0.006127053964402,
            0.0053255583911384,
            0.0090036240712167,
            0.0475997643557384,
            0.0017509493287289,
            0.0258141599680639
           ],
           "yaxis": "y"
          },
          {
           "alignmentgroup": "True",
           "hovertemplate": "Pollutant=CO<br>Year=1991<br>Province=%{x}<br>By Capita=%{y}<extra></extra>",
           "legendgroup": "CO",
           "marker": {
            "color": "#EF553B",
            "pattern": {
             "shape": "/"
            }
           },
           "name": "CO",
           "offsetgroup": "CO",
           "orientation": "v",
           "showlegend": true,
           "textposition": "auto",
           "type": "bar",
           "x": [
            "AB",
            "BC",
            "ON",
            "MB",
            "NB",
            "NS",
            "QC",
            "SK",
            "NL",
            "PE"
           ],
           "xaxis": "x",
           "y": [
            0.647055148384265,
            0.6987534700591046,
            0.3159376152640175,
            0.3445350226977505,
            0.4127874413984569,
            0.3172003510908932,
            0.3140406012234811,
            0.5228802218654678,
            0.3040697636990886,
            0.4002159920414623
           ],
           "yaxis": "y"
          },
          {
           "alignmentgroup": "True",
           "hovertemplate": "Pollutant=SOX<br>Year=1991<br>Province=%{x}<br>By Capita=%{y}<extra></extra>",
           "legendgroup": "SOX",
           "marker": {
            "color": "#00cc96",
            "pattern": {
             "shape": "\\"
            }
           },
           "name": "SOX",
           "offsetgroup": "SOX",
           "orientation": "v",
           "showlegend": true,
           "textposition": "auto",
           "type": "bar",
           "x": [
            "AB",
            "BC",
            "ON",
            "MB",
            "NB",
            "NS",
            "QC",
            "SK",
            "NL",
            "PE"
           ],
           "xaxis": "x",
           "y": [
            0.202569581939389,
            0.0269301999882354,
            0.0999566721222522,
            0.3637843144682928,
            0.1477829993937209,
            0.2200905427367814,
            0.0313578943777193,
            0.1086206825607148,
            0.1207650412301892,
            0.0264710049735177
           ],
           "yaxis": "y"
          },
          {
           "alignmentgroup": "True",
           "hovertemplate": "Pollutant=NOX<br>Year=1991<br>Province=%{x}<br>By Capita=%{y}<extra></extra>",
           "legendgroup": "NOX",
           "marker": {
            "color": "#ab63fa",
            "pattern": {
             "shape": "x"
            }
           },
           "name": "NOX",
           "offsetgroup": "NOX",
           "orientation": "v",
           "showlegend": true,
           "textposition": "auto",
           "type": "bar",
           "x": [
            "AB",
            "BC",
            "ON",
            "MB",
            "NB",
            "NS",
            "QC",
            "SK",
            "NL",
            "PE"
           ],
           "xaxis": "x",
           "y": [
            0.2263615364238611,
            0.0804219496288374,
            0.0568865449879819,
            0.060955656009022,
            0.0999702072997171,
            0.0882027083437122,
            0.0410531235788916,
            0.1560077007500702,
            0.0839059497870209,
            0.0507851494559461
           ],
           "yaxis": "y"
          },
          {
           "alignmentgroup": "True",
           "hovertemplate": "Pollutant=VOC<br>Year=1991<br>Province=%{x}<br>By Capita=%{y}<extra></extra>",
           "legendgroup": "VOC",
           "marker": {
            "color": "#FFA15A",
            "pattern": {
             "shape": "+"
            }
           },
           "name": "VOC",
           "offsetgroup": "VOC",
           "orientation": "v",
           "showlegend": true,
           "textposition": "auto",
           "type": "bar",
           "x": [
            "AB",
            "BC",
            "ON",
            "MB",
            "NB",
            "NS",
            "QC",
            "SK",
            "NL",
            "PE"
           ],
           "xaxis": "x",
           "y": [
            0.2414064807683828,
            0.1118791118709836,
            0.0804088794807563,
            0.0856419444452399,
            0.1083299640820719,
            0.0743120039740768,
            0.0669624587468365,
            0.1876188795932447,
            0.0785158938560563,
            0.0787145561573986
           ],
           "yaxis": "y"
          }
         ],
         "name": "1991"
        },
        {
         "data": [
          {
           "alignmentgroup": "True",
           "hovertemplate": "Pollutant=NH3<br>Year=1992<br>Province=%{x}<br>By Capita=%{y}<extra></extra>",
           "legendgroup": "NH3",
           "marker": {
            "color": "#636efa",
            "pattern": {
             "shape": ""
            }
           },
           "name": "NH3",
           "offsetgroup": "NH3",
           "orientation": "v",
           "showlegend": true,
           "textposition": "auto",
           "type": "bar",
           "x": [
            "AB",
            "BC",
            "ON",
            "MB",
            "NB",
            "NS",
            "QC",
            "SK",
            "NL",
            "PE"
           ],
           "xaxis": "x",
           "y": [
            0.0383721024480331,
            0.0066148286674758,
            0.0099924778710237,
            0.0375760729314689,
            0.0062616722963966,
            0.0053118244607159,
            0.0089096168264796,
            0.0543535517201112,
            0.00176843320044,
            0.0256697166002026
           ],
           "yaxis": "y"
          },
          {
           "alignmentgroup": "True",
           "hovertemplate": "Pollutant=CO<br>Year=1992<br>Province=%{x}<br>By Capita=%{y}<extra></extra>",
           "legendgroup": "CO",
           "marker": {
            "color": "#EF553B",
            "pattern": {
             "shape": "/"
            }
           },
           "name": "CO",
           "offsetgroup": "CO",
           "orientation": "v",
           "showlegend": true,
           "textposition": "auto",
           "type": "bar",
           "x": [
            "AB",
            "BC",
            "ON",
            "MB",
            "NB",
            "NS",
            "QC",
            "SK",
            "NL",
            "PE"
           ],
           "xaxis": "x",
           "y": [
            0.6449342369003783,
            0.6231487604646111,
            0.3118196632506672,
            0.3403567194108964,
            0.4185418896734368,
            0.3219802880886252,
            0.3234923443792959,
            0.5203110948527486,
            0.3027199834764698,
            0.4008575497993282
           ],
           "yaxis": "y"
          },
          {
           "alignmentgroup": "True",
           "hovertemplate": "Pollutant=SOX<br>Year=1992<br>Province=%{x}<br>By Capita=%{y}<extra></extra>",
           "legendgroup": "SOX",
           "marker": {
            "color": "#00cc96",
            "pattern": {
             "shape": "\\"
            }
           },
           "name": "SOX",
           "offsetgroup": "SOX",
           "orientation": "v",
           "showlegend": true,
           "textposition": "auto",
           "type": "bar",
           "x": [
            "AB",
            "BC",
            "ON",
            "MB",
            "NB",
            "NS",
            "QC",
            "SK",
            "NL",
            "PE"
           ],
           "xaxis": "x",
           "y": [
            0.2149535008977693,
            0.0229378211897993,
            0.0805784582930884,
            0.3762458475819386,
            0.1528329892031093,
            0.2189837532770025,
            0.0311512297202601,
            0.1133746852279989,
            0.1463340255613535,
            0.0238165086208716
           ],
           "yaxis": "y"
          },
          {
           "alignmentgroup": "True",
           "hovertemplate": "Pollutant=NOX<br>Year=1992<br>Province=%{x}<br>By Capita=%{y}<extra></extra>",
           "legendgroup": "NOX",
           "marker": {
            "color": "#ab63fa",
            "pattern": {
             "shape": "x"
            }
           },
           "name": "NOX",
           "offsetgroup": "NOX",
           "orientation": "v",
           "showlegend": true,
           "textposition": "auto",
           "type": "bar",
           "x": [
            "AB",
            "BC",
            "ON",
            "MB",
            "NB",
            "NS",
            "QC",
            "SK",
            "NL",
            "PE"
           ],
           "xaxis": "x",
           "y": [
            0.2319854944518418,
            0.0757730900972194,
            0.057447343111961,
            0.0601173969782264,
            0.0973443075720387,
            0.0900552220266653,
            0.0418373950616326,
            0.1601859702544532,
            0.0828149875567712,
            0.0484103427374451
           ],
           "yaxis": "y"
          },
          {
           "alignmentgroup": "True",
           "hovertemplate": "Pollutant=VOC<br>Year=1992<br>Province=%{x}<br>By Capita=%{y}<extra></extra>",
           "legendgroup": "VOC",
           "marker": {
            "color": "#FFA15A",
            "pattern": {
             "shape": "+"
            }
           },
           "name": "VOC",
           "offsetgroup": "VOC",
           "orientation": "v",
           "showlegend": true,
           "textposition": "auto",
           "type": "bar",
           "x": [
            "AB",
            "BC",
            "ON",
            "MB",
            "NB",
            "NS",
            "QC",
            "SK",
            "NL",
            "PE"
           ],
           "xaxis": "x",
           "y": [
            0.244551892878469,
            0.1026728831191175,
            0.079569597294336,
            0.0849730322778622,
            0.1095250116649021,
            0.0759133656223364,
            0.0682077781572585,
            0.19249533265079,
            0.0789573531824014,
            0.0787484624719205
           ],
           "yaxis": "y"
          }
         ],
         "name": "1992"
        },
        {
         "data": [
          {
           "alignmentgroup": "True",
           "hovertemplate": "Pollutant=NH3<br>Year=1993<br>Province=%{x}<br>By Capita=%{y}<extra></extra>",
           "legendgroup": "NH3",
           "marker": {
            "color": "#636efa",
            "pattern": {
             "shape": ""
            }
           },
           "name": "NH3",
           "offsetgroup": "NH3",
           "orientation": "v",
           "showlegend": true,
           "textposition": "auto",
           "type": "bar",
           "x": [
            "AB",
            "BC",
            "ON",
            "MB",
            "NB",
            "NS",
            "QC",
            "SK",
            "NL",
            "PE"
           ],
           "xaxis": "x",
           "y": [
            0.0386251899218484,
            0.0065825359153261,
            0.0096360092524564,
            0.0387102459705671,
            0.0061525907736109,
            0.005236652135818,
            0.0088925816684971,
            0.0560839029133532,
            0.0017488879568308,
            0.0251867905432575
           ],
           "yaxis": "y"
          },
          {
           "alignmentgroup": "True",
           "hovertemplate": "Pollutant=CO<br>Year=1993<br>Province=%{x}<br>By Capita=%{y}<extra></extra>",
           "legendgroup": "CO",
           "marker": {
            "color": "#EF553B",
            "pattern": {
             "shape": "/"
            }
           },
           "name": "CO",
           "offsetgroup": "CO",
           "orientation": "v",
           "showlegend": true,
           "textposition": "auto",
           "type": "bar",
           "x": [
            "AB",
            "BC",
            "ON",
            "MB",
            "NB",
            "NS",
            "QC",
            "SK",
            "NL",
            "PE"
           ],
           "xaxis": "x",
           "y": [
            0.6270744061158916,
            0.6641889435013509,
            0.3115437707779063,
            0.3294941147796303,
            0.4174828717485264,
            0.3231690342368407,
            0.3232649910190369,
            0.5221258936513212,
            0.312131600480205,
            0.3795998679668935
           ],
           "yaxis": "y"
          },
          {
           "alignmentgroup": "True",
           "hovertemplate": "Pollutant=SOX<br>Year=1993<br>Province=%{x}<br>By Capita=%{y}<extra></extra>",
           "legendgroup": "SOX",
           "marker": {
            "color": "#00cc96",
            "pattern": {
             "shape": "\\"
            }
           },
           "name": "SOX",
           "offsetgroup": "SOX",
           "orientation": "v",
           "showlegend": true,
           "textposition": "auto",
           "type": "bar",
           "x": [
            "AB",
            "BC",
            "ON",
            "MB",
            "NB",
            "NS",
            "QC",
            "SK",
            "NL",
            "PE"
           ],
           "xaxis": "x",
           "y": [
            0.2145354711596331,
            0.0217569934796474,
            0.0700577046464201,
            0.3586134213658311,
            0.1521207474043783,
            0.2136597924394791,
            0.0316709969857073,
            0.1212675540743686,
            0.1759378861305886,
            0.0236872834932083
           ],
           "yaxis": "y"
          },
          {
           "alignmentgroup": "True",
           "hovertemplate": "Pollutant=NOX<br>Year=1993<br>Province=%{x}<br>By Capita=%{y}<extra></extra>",
           "legendgroup": "NOX",
           "marker": {
            "color": "#ab63fa",
            "pattern": {
             "shape": "x"
            }
           },
           "name": "NOX",
           "offsetgroup": "NOX",
           "orientation": "v",
           "showlegend": true,
           "textposition": "auto",
           "type": "bar",
           "x": [
            "AB",
            "BC",
            "ON",
            "MB",
            "NB",
            "NS",
            "QC",
            "SK",
            "NL",
            "PE"
           ],
           "xaxis": "x",
           "y": [
            0.2405926810671928,
            0.076408548928959,
            0.0557649289628975,
            0.0602989948836736,
            0.0934259351711013,
            0.0907020657423466,
            0.0427981528439703,
            0.1696360149812082,
            0.0860061809524971,
            0.0487473085841615
           ],
           "yaxis": "y"
          },
          {
           "alignmentgroup": "True",
           "hovertemplate": "Pollutant=VOC<br>Year=1993<br>Province=%{x}<br>By Capita=%{y}<extra></extra>",
           "legendgroup": "VOC",
           "marker": {
            "color": "#FFA15A",
            "pattern": {
             "shape": "+"
            }
           },
           "name": "VOC",
           "offsetgroup": "VOC",
           "orientation": "v",
           "showlegend": true,
           "textposition": "auto",
           "type": "bar",
           "x": [
            "AB",
            "BC",
            "ON",
            "MB",
            "NB",
            "NS",
            "QC",
            "SK",
            "NL",
            "PE"
           ],
           "xaxis": "x",
           "y": [
            0.2456606833322934,
            0.1096726611963566,
            0.0800534645952888,
            0.0830105420486118,
            0.1099215176674951,
            0.0761884682497288,
            0.0691973892264186,
            0.2020568294256637,
            0.0798669410705156,
            0.0775892613580089
           ],
           "yaxis": "y"
          }
         ],
         "name": "1993"
        },
        {
         "data": [
          {
           "alignmentgroup": "True",
           "hovertemplate": "Pollutant=NH3<br>Year=1994<br>Province=%{x}<br>By Capita=%{y}<extra></extra>",
           "legendgroup": "NH3",
           "marker": {
            "color": "#636efa",
            "pattern": {
             "shape": ""
            }
           },
           "name": "NH3",
           "offsetgroup": "NH3",
           "orientation": "v",
           "showlegend": true,
           "textposition": "auto",
           "type": "bar",
           "x": [
            "AB",
            "BC",
            "ON",
            "MB",
            "NB",
            "NS",
            "QC",
            "SK",
            "NL",
            "PE"
           ],
           "xaxis": "x",
           "y": [
            0.040395102408229,
            0.0063982328169957,
            0.009607564431119,
            0.0400509820276022,
            0.0065362406204042,
            0.0051827439595101,
            0.0089375409174702,
            0.0606833261893518,
            0.0017577401391649,
            0.0253976254735512
           ],
           "yaxis": "y"
          },
          {
           "alignmentgroup": "True",
           "hovertemplate": "Pollutant=CO<br>Year=1994<br>Province=%{x}<br>By Capita=%{y}<extra></extra>",
           "legendgroup": "CO",
           "marker": {
            "color": "#EF553B",
            "pattern": {
             "shape": "/"
            }
           },
           "name": "CO",
           "offsetgroup": "CO",
           "orientation": "v",
           "showlegend": true,
           "textposition": "auto",
           "type": "bar",
           "x": [
            "AB",
            "BC",
            "ON",
            "MB",
            "NB",
            "NS",
            "QC",
            "SK",
            "NL",
            "PE"
           ],
           "xaxis": "x",
           "y": [
            0.6356808643199339,
            0.6265538601412672,
            0.299902877188882,
            0.3284753395494139,
            0.413299905758444,
            0.3174002306038941,
            0.3174688756091687,
            0.5347493294573012,
            0.308905418164867,
            0.3824432525362608
           ],
           "yaxis": "y"
          },
          {
           "alignmentgroup": "True",
           "hovertemplate": "Pollutant=SOX<br>Year=1994<br>Province=%{x}<br>By Capita=%{y}<extra></extra>",
           "legendgroup": "SOX",
           "marker": {
            "color": "#00cc96",
            "pattern": {
             "shape": "\\"
            }
           },
           "name": "SOX",
           "offsetgroup": "SOX",
           "orientation": "v",
           "showlegend": true,
           "textposition": "auto",
           "type": "bar",
           "x": [
            "AB",
            "BC",
            "ON",
            "MB",
            "NB",
            "NS",
            "QC",
            "SK",
            "NL",
            "PE"
           ],
           "xaxis": "x",
           "y": [
            0.2206519897071931,
            0.0240653054637282,
            0.0514835243482625,
            0.3409780584332736,
            0.1542513046860975,
            0.2175697563867631,
            0.0315389927414594,
            0.1294820751771558,
            0.0892153538648738,
            0.0234168648440869
           ],
           "yaxis": "y"
          },
          {
           "alignmentgroup": "True",
           "hovertemplate": "Pollutant=NOX<br>Year=1994<br>Province=%{x}<br>By Capita=%{y}<extra></extra>",
           "legendgroup": "NOX",
           "marker": {
            "color": "#ab63fa",
            "pattern": {
             "shape": "x"
            }
           },
           "name": "NOX",
           "offsetgroup": "NOX",
           "orientation": "v",
           "showlegend": true,
           "textposition": "auto",
           "type": "bar",
           "x": [
            "AB",
            "BC",
            "ON",
            "MB",
            "NB",
            "NS",
            "QC",
            "SK",
            "NL",
            "PE"
           ],
           "xaxis": "x",
           "y": [
            0.256869815832576,
            0.0803018455329044,
            0.0555503480596002,
            0.0632001264098653,
            0.0937465139465912,
            0.0928199930831204,
            0.0452936428689487,
            0.176757355071784,
            0.0860503686014202,
            0.0522226585079436
           ],
           "yaxis": "y"
          },
          {
           "alignmentgroup": "True",
           "hovertemplate": "Pollutant=VOC<br>Year=1994<br>Province=%{x}<br>By Capita=%{y}<extra></extra>",
           "legendgroup": "VOC",
           "marker": {
            "color": "#FFA15A",
            "pattern": {
             "shape": "+"
            }
           },
           "name": "VOC",
           "offsetgroup": "VOC",
           "orientation": "v",
           "showlegend": true,
           "textposition": "auto",
           "type": "bar",
           "x": [
            "AB",
            "BC",
            "ON",
            "MB",
            "NB",
            "NS",
            "QC",
            "SK",
            "NL",
            "PE"
           ],
           "xaxis": "x",
           "y": [
            0.2483428212079905,
            0.1028539206428943,
            0.0785823931541324,
            0.0841946729832127,
            0.1101734574658543,
            0.0760817670791457,
            0.0696685578600128,
            0.2179640560783192,
            0.079591957377574,
            0.0777320858038216
           ],
           "yaxis": "y"
          }
         ],
         "name": "1994"
        },
        {
         "data": [
          {
           "alignmentgroup": "True",
           "hovertemplate": "Pollutant=NH3<br>Year=1995<br>Province=%{x}<br>By Capita=%{y}<extra></extra>",
           "legendgroup": "NH3",
           "marker": {
            "color": "#636efa",
            "pattern": {
             "shape": ""
            }
           },
           "name": "NH3",
           "offsetgroup": "NH3",
           "orientation": "v",
           "showlegend": true,
           "textposition": "auto",
           "type": "bar",
           "x": [
            "AB",
            "BC",
            "ON",
            "MB",
            "NB",
            "NS",
            "QC",
            "SK",
            "NL",
            "PE"
           ],
           "xaxis": "x",
           "y": [
            0.0431753489085327,
            0.0064457955007483,
            0.0100104798854537,
            0.0422876302185445,
            0.0069075025708558,
            0.0052519840464823,
            0.0092603808401042,
            0.0651937931671858,
            0.0018053785218396,
            0.0260420923860195
           ],
           "yaxis": "y"
          },
          {
           "alignmentgroup": "True",
           "hovertemplate": "Pollutant=CO<br>Year=1995<br>Province=%{x}<br>By Capita=%{y}<extra></extra>",
           "legendgroup": "CO",
           "marker": {
            "color": "#EF553B",
            "pattern": {
             "shape": "/"
            }
           },
           "name": "CO",
           "offsetgroup": "CO",
           "orientation": "v",
           "showlegend": true,
           "textposition": "auto",
           "type": "bar",
           "x": [
            "AB",
            "BC",
            "ON",
            "MB",
            "NB",
            "NS",
            "QC",
            "SK",
            "NL",
            "PE"
           ],
           "xaxis": "x",
           "y": [
            0.6224089545375475,
            0.5943962415809285,
            0.2975833989529197,
            0.3306862855932437,
            0.3970021066194428,
            0.312473838380355,
            0.3080675365633039,
            0.5190783957309953,
            0.2985870885128088,
            0.3711450243325406
           ],
           "yaxis": "y"
          },
          {
           "alignmentgroup": "True",
           "hovertemplate": "Pollutant=SOX<br>Year=1995<br>Province=%{x}<br>By Capita=%{y}<extra></extra>",
           "legendgroup": "SOX",
           "marker": {
            "color": "#00cc96",
            "pattern": {
             "shape": "\\"
            }
           },
           "name": "SOX",
           "offsetgroup": "SOX",
           "orientation": "v",
           "showlegend": true,
           "textposition": "auto",
           "type": "bar",
           "x": [
            "AB",
            "BC",
            "ON",
            "MB",
            "NB",
            "NS",
            "QC",
            "SK",
            "NL",
            "PE"
           ],
           "xaxis": "x",
           "y": [
            0.2084947384258412,
            0.0218679341296694,
            0.0531811787148651,
            0.3227245550889596,
            0.1550204972197476,
            0.201417282778033,
            0.0526086356983423,
            0.1331666929529192,
            0.1178441583886199,
            0.0169554472119274
           ],
           "yaxis": "y"
          },
          {
           "alignmentgroup": "True",
           "hovertemplate": "Pollutant=NOX<br>Year=1995<br>Province=%{x}<br>By Capita=%{y}<extra></extra>",
           "legendgroup": "NOX",
           "marker": {
            "color": "#ab63fa",
            "pattern": {
             "shape": "x"
            }
           },
           "name": "NOX",
           "offsetgroup": "NOX",
           "orientation": "v",
           "showlegend": true,
           "textposition": "auto",
           "type": "bar",
           "x": [
            "AB",
            "BC",
            "ON",
            "MB",
            "NB",
            "NS",
            "QC",
            "SK",
            "NL",
            "PE"
           ],
           "xaxis": "x",
           "y": [
            0.2630392831053491,
            0.0788455181391695,
            0.0566361830444819,
            0.0651777542900469,
            0.0904234762800449,
            0.0929455493176125,
            0.0457224156408321,
            0.1798479456533107,
            0.0881733609140404,
            0.0522636281635917
           ],
           "yaxis": "y"
          },
          {
           "alignmentgroup": "True",
           "hovertemplate": "Pollutant=VOC<br>Year=1995<br>Province=%{x}<br>By Capita=%{y}<extra></extra>",
           "legendgroup": "VOC",
           "marker": {
            "color": "#FFA15A",
            "pattern": {
             "shape": "+"
            }
           },
           "name": "VOC",
           "offsetgroup": "VOC",
           "orientation": "v",
           "showlegend": true,
           "textposition": "auto",
           "type": "bar",
           "x": [
            "AB",
            "BC",
            "ON",
            "MB",
            "NB",
            "NS",
            "QC",
            "SK",
            "NL",
            "PE"
           ],
           "xaxis": "x",
           "y": [
            0.2489986224596367,
            0.1008382981326183,
            0.0757189900124987,
            0.0850304217726104,
            0.1077872478227122,
            0.0759965504617447,
            0.0690274207004562,
            0.224179039465429,
            0.0800828771906439,
            0.0774971968953132
           ],
           "yaxis": "y"
          }
         ],
         "name": "1995"
        },
        {
         "data": [
          {
           "alignmentgroup": "True",
           "hovertemplate": "Pollutant=NH3<br>Year=1996<br>Province=%{x}<br>By Capita=%{y}<extra></extra>",
           "legendgroup": "NH3",
           "marker": {
            "color": "#636efa",
            "pattern": {
             "shape": ""
            }
           },
           "name": "NH3",
           "offsetgroup": "NH3",
           "orientation": "v",
           "showlegend": true,
           "textposition": "auto",
           "type": "bar",
           "x": [
            "AB",
            "BC",
            "ON",
            "MB",
            "NB",
            "NS",
            "QC",
            "SK",
            "NL",
            "PE"
           ],
           "xaxis": "x",
           "y": [
            0.0446266405135614,
            0.0062947583681022,
            0.0100625803742044,
            0.0438771006612736,
            0.0067107586866044,
            0.0052542940790964,
            0.0094550527488596,
            0.0700370470818182,
            0.0018366043460882,
            0.0260192268359867
           ],
           "yaxis": "y"
          },
          {
           "alignmentgroup": "True",
           "hovertemplate": "Pollutant=CO<br>Year=1996<br>Province=%{x}<br>By Capita=%{y}<extra></extra>",
           "legendgroup": "CO",
           "marker": {
            "color": "#EF553B",
            "pattern": {
             "shape": "/"
            }
           },
           "name": "CO",
           "offsetgroup": "CO",
           "orientation": "v",
           "showlegend": true,
           "textposition": "auto",
           "type": "bar",
           "x": [
            "AB",
            "BC",
            "ON",
            "MB",
            "NB",
            "NS",
            "QC",
            "SK",
            "NL",
            "PE"
           ],
           "xaxis": "x",
           "y": [
            0.616310137400651,
            0.5463426480301155,
            0.2867430434303099,
            0.3178115330815479,
            0.397674687415064,
            0.3013258342851992,
            0.2983092437688952,
            0.520085375563786,
            0.2915047244326871,
            0.3657079714345754
           ],
           "yaxis": "y"
          },
          {
           "alignmentgroup": "True",
           "hovertemplate": "Pollutant=SOX<br>Year=1996<br>Province=%{x}<br>By Capita=%{y}<extra></extra>",
           "legendgroup": "SOX",
           "marker": {
            "color": "#00cc96",
            "pattern": {
             "shape": "\\"
            }
           },
           "name": "SOX",
           "offsetgroup": "SOX",
           "orientation": "v",
           "showlegend": true,
           "textposition": "auto",
           "type": "bar",
           "x": [
            "AB",
            "BC",
            "ON",
            "MB",
            "NB",
            "NS",
            "QC",
            "SK",
            "NL",
            "PE"
           ],
           "xaxis": "x",
           "y": [
            0.2009456131039482,
            0.0203607761760155,
            0.0542198651992884,
            0.3208695959754322,
            0.1558423634463433,
            0.2159918589868477,
            0.0507931315951203,
            0.1320013242631475,
            0.131184975250049,
            0.022926435870304
           ],
           "yaxis": "y"
          },
          {
           "alignmentgroup": "True",
           "hovertemplate": "Pollutant=NOX<br>Year=1996<br>Province=%{x}<br>By Capita=%{y}<extra></extra>",
           "legendgroup": "NOX",
           "marker": {
            "color": "#ab63fa",
            "pattern": {
             "shape": "x"
            }
           },
           "name": "NOX",
           "offsetgroup": "NOX",
           "orientation": "v",
           "showlegend": true,
           "textposition": "auto",
           "type": "bar",
           "x": [
            "AB",
            "BC",
            "ON",
            "MB",
            "NB",
            "NS",
            "QC",
            "SK",
            "NL",
            "PE"
           ],
           "xaxis": "x",
           "y": [
            0.270511187891207,
            0.0793797084474398,
            0.0573330218768808,
            0.063730728341234,
            0.0949073477219414,
            0.092628007950847,
            0.0459570675520733,
            0.1781117130748913,
            0.09070591477725,
            0.0544288835829281
           ],
           "yaxis": "y"
          },
          {
           "alignmentgroup": "True",
           "hovertemplate": "Pollutant=VOC<br>Year=1996<br>Province=%{x}<br>By Capita=%{y}<extra></extra>",
           "legendgroup": "VOC",
           "marker": {
            "color": "#FFA15A",
            "pattern": {
             "shape": "+"
            }
           },
           "name": "VOC",
           "offsetgroup": "VOC",
           "orientation": "v",
           "showlegend": true,
           "textposition": "auto",
           "type": "bar",
           "x": [
            "AB",
            "BC",
            "ON",
            "MB",
            "NB",
            "NS",
            "QC",
            "SK",
            "NL",
            "PE"
           ],
           "xaxis": "x",
           "y": [
            0.2557567946400901,
            0.0942784059820709,
            0.0736750023330596,
            0.0845425395996222,
            0.1066155743945259,
            0.0742913067467403,
            0.0670018605278981,
            0.2350295246201133,
            0.0790309335698754,
            0.0763770675535231
           ],
           "yaxis": "y"
          }
         ],
         "name": "1996"
        },
        {
         "data": [
          {
           "alignmentgroup": "True",
           "hovertemplate": "Pollutant=NH3<br>Year=1997<br>Province=%{x}<br>By Capita=%{y}<extra></extra>",
           "legendgroup": "NH3",
           "marker": {
            "color": "#636efa",
            "pattern": {
             "shape": ""
            }
           },
           "name": "NH3",
           "offsetgroup": "NH3",
           "orientation": "v",
           "showlegend": true,
           "textposition": "auto",
           "type": "bar",
           "x": [
            "AB",
            "BC",
            "ON",
            "MB",
            "NB",
            "NS",
            "QC",
            "SK",
            "NL",
            "PE"
           ],
           "xaxis": "x",
           "y": [
            0.044738106008611,
            0.0061580885546559,
            0.0097288904804056,
            0.0452531167048965,
            0.0067650850049141,
            0.0052949585384414,
            0.0094084869371803,
            0.0736884024179014,
            0.0019017617073722,
            0.0258686231634106
           ],
           "yaxis": "y"
          },
          {
           "alignmentgroup": "True",
           "hovertemplate": "Pollutant=CO<br>Year=1997<br>Province=%{x}<br>By Capita=%{y}<extra></extra>",
           "legendgroup": "CO",
           "marker": {
            "color": "#EF553B",
            "pattern": {
             "shape": "/"
            }
           },
           "name": "CO",
           "offsetgroup": "CO",
           "orientation": "v",
           "showlegend": true,
           "textposition": "auto",
           "type": "bar",
           "x": [
            "AB",
            "BC",
            "ON",
            "MB",
            "NB",
            "NS",
            "QC",
            "SK",
            "NL",
            "PE"
           ],
           "xaxis": "x",
           "y": [
            0.6191292454410043,
            0.5147544715793315,
            0.2830574619252813,
            0.301721513492978,
            0.3924653577522226,
            0.2947647553111952,
            0.2856203531323163,
            0.4983521387834797,
            0.2881104703281877,
            0.3652051191848939
           ],
           "yaxis": "y"
          },
          {
           "alignmentgroup": "True",
           "hovertemplate": "Pollutant=SOX<br>Year=1997<br>Province=%{x}<br>By Capita=%{y}<extra></extra>",
           "legendgroup": "SOX",
           "marker": {
            "color": "#00cc96",
            "pattern": {
             "shape": "\\"
            }
           },
           "name": "SOX",
           "offsetgroup": "SOX",
           "orientation": "v",
           "showlegend": true,
           "textposition": "auto",
           "type": "bar",
           "x": [
            "AB",
            "BC",
            "ON",
            "MB",
            "NB",
            "NS",
            "QC",
            "SK",
            "NL",
            "PE"
           ],
           "xaxis": "x",
           "y": [
            0.1852914091405646,
            0.0208410006614739,
            0.0533165181723673,
            0.3196487962145106,
            0.1581306899174239,
            0.2086073240462261,
            0.0489698699331785,
            0.1324990614190778,
            0.136233523726186,
            0.0238685178145518
           ],
           "yaxis": "y"
          },
          {
           "alignmentgroup": "True",
           "hovertemplate": "Pollutant=NOX<br>Year=1997<br>Province=%{x}<br>By Capita=%{y}<extra></extra>",
           "legendgroup": "NOX",
           "marker": {
            "color": "#ab63fa",
            "pattern": {
             "shape": "x"
            }
           },
           "name": "NOX",
           "offsetgroup": "NOX",
           "orientation": "v",
           "showlegend": true,
           "textposition": "auto",
           "type": "bar",
           "x": [
            "AB",
            "BC",
            "ON",
            "MB",
            "NB",
            "NS",
            "QC",
            "SK",
            "NL",
            "PE"
           ],
           "xaxis": "x",
           "y": [
            0.2890581643592406,
            0.0802518874365009,
            0.0600966890561108,
            0.0646666212475157,
            0.0994802329465256,
            0.0941030565541073,
            0.0474615763701627,
            0.1828572062205148,
            0.0968629576063315,
            0.0576432965076367
           ],
           "yaxis": "y"
          },
          {
           "alignmentgroup": "True",
           "hovertemplate": "Pollutant=VOC<br>Year=1997<br>Province=%{x}<br>By Capita=%{y}<extra></extra>",
           "legendgroup": "VOC",
           "marker": {
            "color": "#FFA15A",
            "pattern": {
             "shape": "+"
            }
           },
           "name": "VOC",
           "offsetgroup": "VOC",
           "orientation": "v",
           "showlegend": true,
           "textposition": "auto",
           "type": "bar",
           "x": [
            "AB",
            "BC",
            "ON",
            "MB",
            "NB",
            "NS",
            "QC",
            "SK",
            "NL",
            "PE"
           ],
           "xaxis": "x",
           "y": [
            0.2403389668843339,
            0.0900787287157613,
            0.0718522428133334,
            0.0805790767508626,
            0.1041430260295041,
            0.0730071991466629,
            0.0653680898295506,
            0.2438587265843235,
            0.0800063571550886,
            0.0766633890563516
           ],
           "yaxis": "y"
          }
         ],
         "name": "1997"
        },
        {
         "data": [
          {
           "alignmentgroup": "True",
           "hovertemplate": "Pollutant=NH3<br>Year=1998<br>Province=%{x}<br>By Capita=%{y}<extra></extra>",
           "legendgroup": "NH3",
           "marker": {
            "color": "#636efa",
            "pattern": {
             "shape": ""
            }
           },
           "name": "NH3",
           "offsetgroup": "NH3",
           "orientation": "v",
           "showlegend": true,
           "textposition": "auto",
           "type": "bar",
           "x": [
            "AB",
            "BC",
            "ON",
            "MB",
            "NB",
            "NS",
            "QC",
            "SK",
            "NL",
            "PE"
           ],
           "xaxis": "x",
           "y": [
            0.0456041666237906,
            0.0058240710632052,
            0.0095295886649008,
            0.0469805598391531,
            0.0070037020437562,
            0.005207926078539,
            0.0092743832742622,
            0.069985223125018,
            0.0019314552264603,
            0.0268300954570518
           ],
           "yaxis": "y"
          },
          {
           "alignmentgroup": "True",
           "hovertemplate": "Pollutant=CO<br>Year=1998<br>Province=%{x}<br>By Capita=%{y}<extra></extra>",
           "legendgroup": "CO",
           "marker": {
            "color": "#EF553B",
            "pattern": {
             "shape": "/"
            }
           },
           "name": "CO",
           "offsetgroup": "CO",
           "orientation": "v",
           "showlegend": true,
           "textposition": "auto",
           "type": "bar",
           "x": [
            "AB",
            "BC",
            "ON",
            "MB",
            "NB",
            "NS",
            "QC",
            "SK",
            "NL",
            "PE"
           ],
           "xaxis": "x",
           "y": [
            0.6081016645741022,
            0.5011056271627087,
            0.272462782156412,
            0.2908356964491534,
            0.3758501332294977,
            0.2803698196352517,
            0.2698812336388553,
            0.4860549961085714,
            0.2820313655252915,
            0.354457944175823
           ],
           "yaxis": "y"
          },
          {
           "alignmentgroup": "True",
           "hovertemplate": "Pollutant=SOX<br>Year=1998<br>Province=%{x}<br>By Capita=%{y}<extra></extra>",
           "legendgroup": "SOX",
           "marker": {
            "color": "#00cc96",
            "pattern": {
             "shape": "\\"
            }
           },
           "name": "SOX",
           "offsetgroup": "SOX",
           "orientation": "v",
           "showlegend": true,
           "textposition": "auto",
           "type": "bar",
           "x": [
            "AB",
            "BC",
            "ON",
            "MB",
            "NB",
            "NS",
            "QC",
            "SK",
            "NL",
            "PE"
           ],
           "xaxis": "x",
           "y": [
            0.170800054565908,
            0.020384941606795,
            0.0563988081836049,
            0.3194581234563693,
            0.1593204745292683,
            0.2028888478315265,
            0.0450771869996507,
            0.1336246135474715,
            0.1171952138349738,
            0.0228829496985063
           ],
           "yaxis": "y"
          },
          {
           "alignmentgroup": "True",
           "hovertemplate": "Pollutant=NOX<br>Year=1998<br>Province=%{x}<br>By Capita=%{y}<extra></extra>",
           "legendgroup": "NOX",
           "marker": {
            "color": "#ab63fa",
            "pattern": {
             "shape": "x"
            }
           },
           "name": "NOX",
           "offsetgroup": "NOX",
           "orientation": "v",
           "showlegend": true,
           "textposition": "auto",
           "type": "bar",
           "x": [
            "AB",
            "BC",
            "ON",
            "MB",
            "NB",
            "NS",
            "QC",
            "SK",
            "NL",
            "PE"
           ],
           "xaxis": "x",
           "y": [
            0.2870946921165883,
            0.0795272652266061,
            0.0619499729937065,
            0.0643023721682184,
            0.1039030828001403,
            0.0940956279262614,
            0.0474219857526414,
            0.172420903903859,
            0.1009487931502906,
            0.0608865583383284
           ],
           "yaxis": "y"
          },
          {
           "alignmentgroup": "True",
           "hovertemplate": "Pollutant=VOC<br>Year=1998<br>Province=%{x}<br>By Capita=%{y}<extra></extra>",
           "legendgroup": "VOC",
           "marker": {
            "color": "#FFA15A",
            "pattern": {
             "shape": "+"
            }
           },
           "name": "VOC",
           "offsetgroup": "VOC",
           "orientation": "v",
           "showlegend": true,
           "textposition": "auto",
           "type": "bar",
           "x": [
            "AB",
            "BC",
            "ON",
            "MB",
            "NB",
            "NS",
            "QC",
            "SK",
            "NL",
            "PE"
           ],
           "xaxis": "x",
           "y": [
            0.2354525493138517,
            0.0873876901425802,
            0.0695025851902657,
            0.0778985681315454,
            0.0980678138152298,
            0.0691253541547153,
            0.0618147330396604,
            0.2399976376756858,
            0.093271740038846,
            0.0729953416050855
           ],
           "yaxis": "y"
          }
         ],
         "name": "1998"
        },
        {
         "data": [
          {
           "alignmentgroup": "True",
           "hovertemplate": "Pollutant=NH3<br>Year=1999<br>Province=%{x}<br>By Capita=%{y}<extra></extra>",
           "legendgroup": "NH3",
           "marker": {
            "color": "#636efa",
            "pattern": {
             "shape": ""
            }
           },
           "name": "NH3",
           "offsetgroup": "NH3",
           "orientation": "v",
           "showlegend": true,
           "textposition": "auto",
           "type": "bar",
           "x": [
            "AB",
            "BC",
            "ON",
            "MB",
            "NB",
            "NS",
            "QC",
            "SK",
            "NL",
            "PE"
           ],
           "xaxis": "x",
           "y": [
            0.0457245615687998,
            0.0058972315592132,
            0.0092606614465325,
            0.0448325066064065,
            0.0069471143243954,
            0.00511359281684,
            0.0091316874954181,
            0.0670506546677943,
            0.0019925902359901,
            0.0263085973616095
           ],
           "yaxis": "y"
          },
          {
           "alignmentgroup": "True",
           "hovertemplate": "Pollutant=CO<br>Year=1999<br>Province=%{x}<br>By Capita=%{y}<extra></extra>",
           "legendgroup": "CO",
           "marker": {
            "color": "#EF553B",
            "pattern": {
             "shape": "/"
            }
           },
           "name": "CO",
           "offsetgroup": "CO",
           "orientation": "v",
           "showlegend": true,
           "textposition": "auto",
           "type": "bar",
           "x": [
            "AB",
            "BC",
            "ON",
            "MB",
            "NB",
            "NS",
            "QC",
            "SK",
            "NL",
            "PE"
           ],
           "xaxis": "x",
           "y": [
            0.5887467443844656,
            0.4479734582385291,
            0.267170231803743,
            0.289363783702883,
            0.3691903103905637,
            0.2776153352063445,
            0.2625557905031396,
            0.4892351053823562,
            0.2721364747358434,
            0.3543996893928486
           ],
           "yaxis": "y"
          },
          {
           "alignmentgroup": "True",
           "hovertemplate": "Pollutant=SOX<br>Year=1999<br>Province=%{x}<br>By Capita=%{y}<extra></extra>",
           "legendgroup": "SOX",
           "marker": {
            "color": "#00cc96",
            "pattern": {
             "shape": "\\"
            }
           },
           "name": "SOX",
           "offsetgroup": "SOX",
           "orientation": "v",
           "showlegend": true,
           "textposition": "auto",
           "type": "bar",
           "x": [
            "AB",
            "BC",
            "ON",
            "MB",
            "NB",
            "NS",
            "QC",
            "SK",
            "NL",
            "PE"
           ],
           "xaxis": "x",
           "y": [
            0.1690587442040982,
            0.0203547277087418,
            0.050208823262787,
            0.3173619922421105,
            0.1607577329199496,
            0.202519051016552,
            0.0416380952390447,
            0.1289645676196849,
            0.0992400974109232,
            0.0198347598081741
           ],
           "yaxis": "y"
          },
          {
           "alignmentgroup": "True",
           "hovertemplate": "Pollutant=NOX<br>Year=1999<br>Province=%{x}<br>By Capita=%{y}<extra></extra>",
           "legendgroup": "NOX",
           "marker": {
            "color": "#ab63fa",
            "pattern": {
             "shape": "x"
            }
           },
           "name": "NOX",
           "offsetgroup": "NOX",
           "orientation": "v",
           "showlegend": true,
           "textposition": "auto",
           "type": "bar",
           "x": [
            "AB",
            "BC",
            "ON",
            "MB",
            "NB",
            "NS",
            "QC",
            "SK",
            "NL",
            "PE"
           ],
           "xaxis": "x",
           "y": [
            0.2871134010613712,
            0.0805279515823879,
            0.0632788323096388,
            0.0654450863541245,
            0.1118470557696125,
            0.0980553510477932,
            0.0475978321037266,
            0.1733094269239781,
            0.1038716203081839,
            0.0634808248953753
           ],
           "yaxis": "y"
          },
          {
           "alignmentgroup": "True",
           "hovertemplate": "Pollutant=VOC<br>Year=1999<br>Province=%{x}<br>By Capita=%{y}<extra></extra>",
           "legendgroup": "VOC",
           "marker": {
            "color": "#FFA15A",
            "pattern": {
             "shape": "+"
            }
           },
           "name": "VOC",
           "offsetgroup": "VOC",
           "orientation": "v",
           "showlegend": true,
           "textposition": "auto",
           "type": "bar",
           "x": [
            "AB",
            "BC",
            "ON",
            "MB",
            "NB",
            "NS",
            "QC",
            "SK",
            "NL",
            "PE"
           ],
           "xaxis": "x",
           "y": [
            0.2151680467092488,
            0.0817776663798413,
            0.0688336132050154,
            0.0782052942896512,
            0.0962551977751405,
            0.067995120205154,
            0.0608554932089369,
            0.2331381040034759,
            0.1007724364617651,
            0.0719423911816319
           ],
           "yaxis": "y"
          }
         ],
         "name": "1999"
        },
        {
         "data": [
          {
           "alignmentgroup": "True",
           "hovertemplate": "Pollutant=NH3<br>Year=2000<br>Province=%{x}<br>By Capita=%{y}<extra></extra>",
           "legendgroup": "NH3",
           "marker": {
            "color": "#636efa",
            "pattern": {
             "shape": ""
            }
           },
           "name": "NH3",
           "offsetgroup": "NH3",
           "orientation": "v",
           "showlegend": true,
           "textposition": "auto",
           "type": "bar",
           "x": [
            "AB",
            "BC",
            "ON",
            "MB",
            "NB",
            "NS",
            "QC",
            "SK",
            "NL",
            "PE"
           ],
           "xaxis": "x",
           "y": [
            0.0467143836369659,
            0.0059624141679875,
            0.0091271515507026,
            0.0451027380812021,
            0.0069831479885942,
            0.005000914692175,
            0.0090471512868532,
            0.0706351895122565,
            0.0020704805191523,
            0.0254849664781258
           ],
           "yaxis": "y"
          },
          {
           "alignmentgroup": "True",
           "hovertemplate": "Pollutant=CO<br>Year=2000<br>Province=%{x}<br>By Capita=%{y}<extra></extra>",
           "legendgroup": "CO",
           "marker": {
            "color": "#EF553B",
            "pattern": {
             "shape": "/"
            }
           },
           "name": "CO",
           "offsetgroup": "CO",
           "orientation": "v",
           "showlegend": true,
           "textposition": "auto",
           "type": "bar",
           "x": [
            "AB",
            "BC",
            "ON",
            "MB",
            "NB",
            "NS",
            "QC",
            "SK",
            "NL",
            "PE"
           ],
           "xaxis": "x",
           "y": [
            0.5599365465751255,
            0.4252784313379141,
            0.2663159705370891,
            0.282158130198939,
            0.3567727468300256,
            0.286515987614649,
            0.2590080506217861,
            0.517007179194234,
            0.2659524773095191,
            0.3436423521721574
           ],
           "yaxis": "y"
          },
          {
           "alignmentgroup": "True",
           "hovertemplate": "Pollutant=SOX<br>Year=2000<br>Province=%{x}<br>By Capita=%{y}<extra></extra>",
           "legendgroup": "SOX",
           "marker": {
            "color": "#00cc96",
            "pattern": {
             "shape": "\\"
            }
           },
           "name": "SOX",
           "offsetgroup": "SOX",
           "orientation": "v",
           "showlegend": true,
           "textposition": "auto",
           "type": "bar",
           "x": [
            "AB",
            "BC",
            "ON",
            "MB",
            "NB",
            "NS",
            "QC",
            "SK",
            "NL",
            "PE"
           ],
           "xaxis": "x",
           "y": [
            0.1638149821680971,
            0.0198338588318623,
            0.0503958524374594,
            0.3154896396497369,
            0.1637903136682797,
            0.2036976887295139,
            0.0415436900301726,
            0.1300073860940767,
            0.1029384466366102,
            0.0159390842376611
           ],
           "yaxis": "y"
          },
          {
           "alignmentgroup": "True",
           "hovertemplate": "Pollutant=NOX<br>Year=2000<br>Province=%{x}<br>By Capita=%{y}<extra></extra>",
           "legendgroup": "NOX",
           "marker": {
            "color": "#ab63fa",
            "pattern": {
             "shape": "x"
            }
           },
           "name": "NOX",
           "offsetgroup": "NOX",
           "orientation": "v",
           "showlegend": true,
           "textposition": "auto",
           "type": "bar",
           "x": [
            "AB",
            "BC",
            "ON",
            "MB",
            "NB",
            "NS",
            "QC",
            "SK",
            "NL",
            "PE"
           ],
           "xaxis": "x",
           "y": [
            0.2676328474776644,
            0.0786842807449834,
            0.0635992129983787,
            0.0659642958836835,
            0.1182251356449281,
            0.1014812782273474,
            0.0459289559958866,
            0.1812824357144408,
            0.1065091442043832,
            0.0641656323790295
           ],
           "yaxis": "y"
          },
          {
           "alignmentgroup": "True",
           "hovertemplate": "Pollutant=VOC<br>Year=2000<br>Province=%{x}<br>By Capita=%{y}<extra></extra>",
           "legendgroup": "VOC",
           "marker": {
            "color": "#FFA15A",
            "pattern": {
             "shape": "+"
            }
           },
           "name": "VOC",
           "offsetgroup": "VOC",
           "orientation": "v",
           "showlegend": true,
           "textposition": "auto",
           "type": "bar",
           "x": [
            "AB",
            "BC",
            "ON",
            "MB",
            "NB",
            "NS",
            "QC",
            "SK",
            "NL",
            "PE"
           ],
           "xaxis": "x",
           "y": [
            0.2104824720097526,
            0.0778239022161864,
            0.0654643816688968,
            0.0749938531443874,
            0.0910969620267995,
            0.0668763760463076,
            0.0585708463969847,
            0.2394464577158799,
            0.1083342845396584,
            0.0683858592532774
           ],
           "yaxis": "y"
          }
         ],
         "name": "2000"
        },
        {
         "data": [
          {
           "alignmentgroup": "True",
           "hovertemplate": "Pollutant=NH3<br>Year=2001<br>Province=%{x}<br>By Capita=%{y}<extra></extra>",
           "legendgroup": "NH3",
           "marker": {
            "color": "#636efa",
            "pattern": {
             "shape": ""
            }
           },
           "name": "NH3",
           "offsetgroup": "NH3",
           "orientation": "v",
           "showlegend": true,
           "textposition": "auto",
           "type": "bar",
           "x": [
            "AB",
            "BC",
            "ON",
            "MB",
            "NB",
            "NS",
            "QC",
            "SK",
            "NL",
            "PE"
           ],
           "xaxis": "x",
           "y": [
            0.0456063997356067,
            0.0060105954487435,
            0.0088308836040194,
            0.0446721225214125,
            0.0070579151984664,
            0.0048762487089056,
            0.0092613426168638,
            0.0723174813548121,
            0.0021459627103948,
            0.0248596860268767
           ],
           "yaxis": "y"
          },
          {
           "alignmentgroup": "True",
           "hovertemplate": "Pollutant=CO<br>Year=2001<br>Province=%{x}<br>By Capita=%{y}<extra></extra>",
           "legendgroup": "CO",
           "marker": {
            "color": "#EF553B",
            "pattern": {
             "shape": "/"
            }
           },
           "name": "CO",
           "offsetgroup": "CO",
           "orientation": "v",
           "showlegend": true,
           "textposition": "auto",
           "type": "bar",
           "x": [
            "AB",
            "BC",
            "ON",
            "MB",
            "NB",
            "NS",
            "QC",
            "SK",
            "NL",
            "PE"
           ],
           "xaxis": "x",
           "y": [
            0.5165165030280593,
            0.3946030537482792,
            0.2311589559628797,
            0.2513949206857302,
            0.3323344583351619,
            0.2549539307124925,
            0.2407238088470553,
            0.4935459206144085,
            0.2513899171943607,
            0.3109320533755291
           ],
           "yaxis": "y"
          },
          {
           "alignmentgroup": "True",
           "hovertemplate": "Pollutant=SOX<br>Year=2001<br>Province=%{x}<br>By Capita=%{y}<extra></extra>",
           "legendgroup": "SOX",
           "marker": {
            "color": "#00cc96",
            "pattern": {
             "shape": "\\"
            }
           },
           "name": "SOX",
           "offsetgroup": "SOX",
           "orientation": "v",
           "showlegend": true,
           "textposition": "auto",
           "type": "bar",
           "x": [
            "AB",
            "BC",
            "ON",
            "MB",
            "NB",
            "NS",
            "QC",
            "SK",
            "NL",
            "PE"
           ],
           "xaxis": "x",
           "y": [
            0.159301896874362,
            0.0196389809957781,
            0.0497081972327091,
            0.322552850856197,
            0.1583109111162534,
            0.197365674726884,
            0.037308717504125,
            0.1363645626155107,
            0.1148877908887233,
            0.0153137374589623
           ],
           "yaxis": "y"
          },
          {
           "alignmentgroup": "True",
           "hovertemplate": "Pollutant=NOX<br>Year=2001<br>Province=%{x}<br>By Capita=%{y}<extra></extra>",
           "legendgroup": "NOX",
           "marker": {
            "color": "#ab63fa",
            "pattern": {
             "shape": "x"
            }
           },
           "name": "NOX",
           "offsetgroup": "NOX",
           "orientation": "v",
           "showlegend": true,
           "textposition": "auto",
           "type": "bar",
           "x": [
            "AB",
            "BC",
            "ON",
            "MB",
            "NB",
            "NS",
            "QC",
            "SK",
            "NL",
            "PE"
           ],
           "xaxis": "x",
           "y": [
            0.2522611654784299,
            0.0741454217176569,
            0.0579993628262947,
            0.0631816945732149,
            0.1132813234231821,
            0.1016367615363278,
            0.0430295900577883,
            0.1733097451052984,
            0.1096246326748192,
            0.0601038235412008
           ],
           "yaxis": "y"
          },
          {
           "alignmentgroup": "True",
           "hovertemplate": "Pollutant=VOC<br>Year=2001<br>Province=%{x}<br>By Capita=%{y}<extra></extra>",
           "legendgroup": "VOC",
           "marker": {
            "color": "#FFA15A",
            "pattern": {
             "shape": "+"
            }
           },
           "name": "VOC",
           "offsetgroup": "VOC",
           "orientation": "v",
           "showlegend": true,
           "textposition": "auto",
           "type": "bar",
           "x": [
            "AB",
            "BC",
            "ON",
            "MB",
            "NB",
            "NS",
            "QC",
            "SK",
            "NL",
            "PE"
           ],
           "xaxis": "x",
           "y": [
            0.1972791288849306,
            0.0733237504568828,
            0.0550726560158725,
            0.0684539621463967,
            0.0801389253421477,
            0.0584477349971424,
            0.0523033287942527,
            0.2388356400481763,
            0.0974505283747829,
            0.060173703107695
           ],
           "yaxis": "y"
          }
         ],
         "name": "2001"
        },
        {
         "data": [
          {
           "alignmentgroup": "True",
           "hovertemplate": "Pollutant=NH3<br>Year=2002<br>Province=%{x}<br>By Capita=%{y}<extra></extra>",
           "legendgroup": "NH3",
           "marker": {
            "color": "#636efa",
            "pattern": {
             "shape": ""
            }
           },
           "name": "NH3",
           "offsetgroup": "NH3",
           "orientation": "v",
           "showlegend": true,
           "textposition": "auto",
           "type": "bar",
           "x": [
            "AB",
            "BC",
            "ON",
            "MB",
            "NB",
            "NS",
            "QC",
            "SK",
            "NL",
            "PE"
           ],
           "xaxis": "x",
           "y": [
            0.0445854488907497,
            0.0056391143768324,
            0.0092496793167896,
            0.0465896867069934,
            0.0071251386949294,
            0.0048375367482563,
            0.0093694703986098,
            0.0720465256489557,
            0.0020925066283387,
            0.0252192165101557
           ],
           "yaxis": "y"
          },
          {
           "alignmentgroup": "True",
           "hovertemplate": "Pollutant=CO<br>Year=2002<br>Province=%{x}<br>By Capita=%{y}<extra></extra>",
           "legendgroup": "CO",
           "marker": {
            "color": "#EF553B",
            "pattern": {
             "shape": "/"
            }
           },
           "name": "CO",
           "offsetgroup": "CO",
           "orientation": "v",
           "showlegend": true,
           "textposition": "auto",
           "type": "bar",
           "x": [
            "AB",
            "BC",
            "ON",
            "MB",
            "NB",
            "NS",
            "QC",
            "SK",
            "NL",
            "PE"
           ],
           "xaxis": "x",
           "y": [
            0.4728916424597614,
            0.3699889453541283,
            0.2178614341801568,
            0.2592456749401853,
            0.350503922257202,
            0.2453602795089976,
            0.2372927164995785,
            0.4851914606710587,
            0.2505622417125513,
            0.3078494655224065
           ],
           "yaxis": "y"
          },
          {
           "alignmentgroup": "True",
           "hovertemplate": "Pollutant=SOX<br>Year=2002<br>Province=%{x}<br>By Capita=%{y}<extra></extra>",
           "legendgroup": "SOX",
           "marker": {
            "color": "#00cc96",
            "pattern": {
             "shape": "\\"
            }
           },
           "name": "SOX",
           "offsetgroup": "SOX",
           "orientation": "v",
           "showlegend": true,
           "textposition": "auto",
           "type": "bar",
           "x": [
            "AB",
            "BC",
            "ON",
            "MB",
            "NB",
            "NS",
            "QC",
            "SK",
            "NL",
            "PE"
           ],
           "xaxis": "x",
           "y": [
            0.1498785143485035,
            0.0164706811684647,
            0.0496502388795059,
            0.3296394989767939,
            0.1603269679183247,
            0.1896944307352383,
            0.0322612653562669,
            0.1487626403869352,
            0.1119008761150694,
            0.0155218410589809
           ],
           "yaxis": "y"
          },
          {
           "alignmentgroup": "True",
           "hovertemplate": "Pollutant=NOX<br>Year=2002<br>Province=%{x}<br>By Capita=%{y}<extra></extra>",
           "legendgroup": "NOX",
           "marker": {
            "color": "#ab63fa",
            "pattern": {
             "shape": "x"
            }
           },
           "name": "NOX",
           "offsetgroup": "NOX",
           "orientation": "v",
           "showlegend": true,
           "textposition": "auto",
           "type": "bar",
           "x": [
            "AB",
            "BC",
            "ON",
            "MB",
            "NB",
            "NS",
            "QC",
            "SK",
            "NL",
            "PE"
           ],
           "xaxis": "x",
           "y": [
            0.2369905819152662,
            0.076122973132249,
            0.0544863329955692,
            0.0618639199347421,
            0.1114761877595261,
            0.102527457410008,
            0.0416419551243249,
            0.1782526102527041,
            0.1148151853394446,
            0.056856355638467
           ],
           "yaxis": "y"
          },
          {
           "alignmentgroup": "True",
           "hovertemplate": "Pollutant=VOC<br>Year=2002<br>Province=%{x}<br>By Capita=%{y}<extra></extra>",
           "legendgroup": "VOC",
           "marker": {
            "color": "#FFA15A",
            "pattern": {
             "shape": "+"
            }
           },
           "name": "VOC",
           "offsetgroup": "VOC",
           "orientation": "v",
           "showlegend": true,
           "textposition": "auto",
           "type": "bar",
           "x": [
            "AB",
            "BC",
            "ON",
            "MB",
            "NB",
            "NS",
            "QC",
            "SK",
            "NL",
            "PE"
           ],
           "xaxis": "x",
           "y": [
            0.1875397342426321,
            0.0715389564173856,
            0.0527389389522438,
            0.0680991521479072,
            0.0833200270258488,
            0.0554308362384493,
            0.05122930858792,
            0.2402568969225413,
            0.1261923553935397,
            0.0593155113020758
           ],
           "yaxis": "y"
          }
         ],
         "name": "2002"
        },
        {
         "data": [
          {
           "alignmentgroup": "True",
           "hovertemplate": "Pollutant=NH3<br>Year=2003<br>Province=%{x}<br>By Capita=%{y}<extra></extra>",
           "legendgroup": "NH3",
           "marker": {
            "color": "#636efa",
            "pattern": {
             "shape": ""
            }
           },
           "name": "NH3",
           "offsetgroup": "NH3",
           "orientation": "v",
           "showlegend": true,
           "textposition": "auto",
           "type": "bar",
           "x": [
            "AB",
            "BC",
            "ON",
            "MB",
            "NB",
            "NS",
            "QC",
            "SK",
            "NL",
            "PE"
           ],
           "xaxis": "x",
           "y": [
            0.0414342141774715,
            0.005796835294303,
            0.0087048104270663,
            0.0485367654662539,
            0.0074512336702277,
            0.0049782228557836,
            0.0089123576452214,
            0.0799675272530123,
            0.0021624447127943,
            0.0262397772382193
           ],
           "yaxis": "y"
          },
          {
           "alignmentgroup": "True",
           "hovertemplate": "Pollutant=CO<br>Year=2003<br>Province=%{x}<br>By Capita=%{y}<extra></extra>",
           "legendgroup": "CO",
           "marker": {
            "color": "#EF553B",
            "pattern": {
             "shape": "/"
            }
           },
           "name": "CO",
           "offsetgroup": "CO",
           "orientation": "v",
           "showlegend": true,
           "textposition": "auto",
           "type": "bar",
           "x": [
            "AB",
            "BC",
            "ON",
            "MB",
            "NB",
            "NS",
            "QC",
            "SK",
            "NL",
            "PE"
           ],
           "xaxis": "x",
           "y": [
            0.5211163370585835,
            0.3526657751968954,
            0.1969455349595283,
            0.2593362819044261,
            0.3226111704574794,
            0.2340662020067249,
            0.2379406871376466,
            0.4772187825189092,
            0.2287857302810213,
            0.2775196705076178
           ],
           "yaxis": "y"
          },
          {
           "alignmentgroup": "True",
           "hovertemplate": "Pollutant=SOX<br>Year=2003<br>Province=%{x}<br>By Capita=%{y}<extra></extra>",
           "legendgroup": "SOX",
           "marker": {
            "color": "#00cc96",
            "pattern": {
             "shape": "\\"
            }
           },
           "name": "SOX",
           "offsetgroup": "SOX",
           "orientation": "v",
           "showlegend": true,
           "textposition": "auto",
           "type": "bar",
           "x": [
            "AB",
            "BC",
            "ON",
            "MB",
            "NB",
            "NS",
            "QC",
            "SK",
            "NL",
            "PE"
           ],
           "xaxis": "x",
           "y": [
            0.1472299223908719,
            0.0159326512580695,
            0.0430045386133891,
            0.3154490630227185,
            0.1477555147259607,
            0.1965072895871873,
            0.0355687917584187,
            0.1481640115838365,
            0.1049597341970986,
            0.0181292331177087
           ],
           "yaxis": "y"
          },
          {
           "alignmentgroup": "True",
           "hovertemplate": "Pollutant=NOX<br>Year=2003<br>Province=%{x}<br>By Capita=%{y}<extra></extra>",
           "legendgroup": "NOX",
           "marker": {
            "color": "#ab63fa",
            "pattern": {
             "shape": "x"
            }
           },
           "name": "NOX",
           "offsetgroup": "NOX",
           "orientation": "v",
           "showlegend": true,
           "textposition": "auto",
           "type": "bar",
           "x": [
            "AB",
            "BC",
            "ON",
            "MB",
            "NB",
            "NS",
            "QC",
            "SK",
            "NL",
            "PE"
           ],
           "xaxis": "x",
           "y": [
            0.2419243468686887,
            0.0715109450680202,
            0.0490673393086664,
            0.0597901173035441,
            0.1065617150678975,
            0.1027066624386842,
            0.0433491154345993,
            0.1742927444424437,
            0.1207683000507516,
            0.0540953300538354
           ],
           "yaxis": "y"
          },
          {
           "alignmentgroup": "True",
           "hovertemplate": "Pollutant=VOC<br>Year=2003<br>Province=%{x}<br>By Capita=%{y}<extra></extra>",
           "legendgroup": "VOC",
           "marker": {
            "color": "#FFA15A",
            "pattern": {
             "shape": "+"
            }
           },
           "name": "VOC",
           "offsetgroup": "VOC",
           "orientation": "v",
           "showlegend": true,
           "textposition": "auto",
           "type": "bar",
           "x": [
            "AB",
            "BC",
            "ON",
            "MB",
            "NB",
            "NS",
            "QC",
            "SK",
            "NL",
            "PE"
           ],
           "xaxis": "x",
           "y": [
            0.1912484171764101,
            0.0701398379872062,
            0.0495472479720491,
            0.067072910980437,
            0.0799126779982084,
            0.0540845448851508,
            0.0496214456347039,
            0.2416934476807331,
            0.0628627649228703,
            0.0566172804980399
           ],
           "yaxis": "y"
          }
         ],
         "name": "2003"
        },
        {
         "data": [
          {
           "alignmentgroup": "True",
           "hovertemplate": "Pollutant=NH3<br>Year=2004<br>Province=%{x}<br>By Capita=%{y}<extra></extra>",
           "legendgroup": "NH3",
           "marker": {
            "color": "#636efa",
            "pattern": {
             "shape": ""
            }
           },
           "name": "NH3",
           "offsetgroup": "NH3",
           "orientation": "v",
           "showlegend": true,
           "textposition": "auto",
           "type": "bar",
           "x": [
            "AB",
            "BC",
            "ON",
            "MB",
            "NB",
            "NS",
            "QC",
            "SK",
            "NL",
            "PE"
           ],
           "xaxis": "x",
           "y": [
            0.0424682693361122,
            0.0059887611078396,
            0.0085364789017708,
            0.0495598052243803,
            0.0075732561345584,
            0.0049337521743452,
            0.0091160070066879,
            0.0840837886197405,
            0.0021560063562064,
            0.0269530903592005
           ],
           "yaxis": "y"
          },
          {
           "alignmentgroup": "True",
           "hovertemplate": "Pollutant=CO<br>Year=2004<br>Province=%{x}<br>By Capita=%{y}<extra></extra>",
           "legendgroup": "CO",
           "marker": {
            "color": "#EF553B",
            "pattern": {
             "shape": "/"
            }
           },
           "name": "CO",
           "offsetgroup": "CO",
           "orientation": "v",
           "showlegend": true,
           "textposition": "auto",
           "type": "bar",
           "x": [
            "AB",
            "BC",
            "ON",
            "MB",
            "NB",
            "NS",
            "QC",
            "SK",
            "NL",
            "PE"
           ],
           "xaxis": "x",
           "y": [
            0.4280331058478597,
            0.3381901011370208,
            0.1891370076629832,
            0.2397669973902681,
            0.3208182784338433,
            0.2206283766728616,
            0.2308720406085359,
            0.4595927833865292,
            0.2132908917223019,
            0.292238523352053
           ],
           "yaxis": "y"
          },
          {
           "alignmentgroup": "True",
           "hovertemplate": "Pollutant=SOX<br>Year=2004<br>Province=%{x}<br>By Capita=%{y}<extra></extra>",
           "legendgroup": "SOX",
           "marker": {
            "color": "#00cc96",
            "pattern": {
             "shape": "\\"
            }
           },
           "name": "SOX",
           "offsetgroup": "SOX",
           "orientation": "v",
           "showlegend": true,
           "textposition": "auto",
           "type": "bar",
           "x": [
            "AB",
            "BC",
            "ON",
            "MB",
            "NB",
            "NS",
            "QC",
            "SK",
            "NL",
            "PE"
           ],
           "xaxis": "x",
           "y": [
            0.1423879779557212,
            0.0173004512413877,
            0.0426457239574422,
            0.3271837851730823,
            0.1505224223904358,
            0.1954240732644332,
            0.0345883184251734,
            0.149033113410872,
            0.0954223647648117,
            0.0267464368853948
           ],
           "yaxis": "y"
          },
          {
           "alignmentgroup": "True",
           "hovertemplate": "Pollutant=NOX<br>Year=2004<br>Province=%{x}<br>By Capita=%{y}<extra></extra>",
           "legendgroup": "NOX",
           "marker": {
            "color": "#ab63fa",
            "pattern": {
             "shape": "x"
            }
           },
           "name": "NOX",
           "offsetgroup": "NOX",
           "orientation": "v",
           "showlegend": true,
           "textposition": "auto",
           "type": "bar",
           "x": [
            "AB",
            "BC",
            "ON",
            "MB",
            "NB",
            "NS",
            "QC",
            "SK",
            "NL",
            "PE"
           ],
           "xaxis": "x",
           "y": [
            0.2084404215632623,
            0.074626811268741,
            0.0454520647594903,
            0.0573461136468075,
            0.102490137719579,
            0.1005928399158127,
            0.041722523080207,
            0.1733657934845301,
            0.1102010222445711,
            0.054802150615365
           ],
           "yaxis": "y"
          },
          {
           "alignmentgroup": "True",
           "hovertemplate": "Pollutant=VOC<br>Year=2004<br>Province=%{x}<br>By Capita=%{y}<extra></extra>",
           "legendgroup": "VOC",
           "marker": {
            "color": "#FFA15A",
            "pattern": {
             "shape": "+"
            }
           },
           "name": "VOC",
           "offsetgroup": "VOC",
           "orientation": "v",
           "showlegend": true,
           "textposition": "auto",
           "type": "bar",
           "x": [
            "AB",
            "BC",
            "ON",
            "MB",
            "NB",
            "NS",
            "QC",
            "SK",
            "NL",
            "PE"
           ],
           "xaxis": "x",
           "y": [
            0.1812590020161511,
            0.0669581253772899,
            0.0480290838604737,
            0.0663567034536384,
            0.0800574030018564,
            0.0533384426428756,
            0.0496457026892567,
            0.2443850304194368,
            0.0599145922242302,
            0.0606954467618456
           ],
           "yaxis": "y"
          }
         ],
         "name": "2004"
        },
        {
         "data": [
          {
           "alignmentgroup": "True",
           "hovertemplate": "Pollutant=NH3<br>Year=2005<br>Province=%{x}<br>By Capita=%{y}<extra></extra>",
           "legendgroup": "NH3",
           "marker": {
            "color": "#636efa",
            "pattern": {
             "shape": ""
            }
           },
           "name": "NH3",
           "offsetgroup": "NH3",
           "orientation": "v",
           "showlegend": true,
           "textposition": "auto",
           "type": "bar",
           "x": [
            "AB",
            "BC",
            "ON",
            "MB",
            "NB",
            "NS",
            "QC",
            "SK",
            "NL",
            "PE"
           ],
           "xaxis": "x",
           "y": [
            0.0424531564957128,
            0.0060021122785631,
            0.0081238147262305,
            0.0470551348692296,
            0.0075679867087165,
            0.0048506616821341,
            0.0089221100266955,
            0.0845167347450918,
            0.0022116244218928,
            0.0270784754475171
           ],
           "yaxis": "y"
          },
          {
           "alignmentgroup": "True",
           "hovertemplate": "Pollutant=CO<br>Year=2005<br>Province=%{x}<br>By Capita=%{y}<extra></extra>",
           "legendgroup": "CO",
           "marker": {
            "color": "#EF553B",
            "pattern": {
             "shape": "/"
            }
           },
           "name": "CO",
           "offsetgroup": "CO",
           "orientation": "v",
           "showlegend": true,
           "textposition": "auto",
           "type": "bar",
           "x": [
            "AB",
            "BC",
            "ON",
            "MB",
            "NB",
            "NS",
            "QC",
            "SK",
            "NL",
            "PE"
           ],
           "xaxis": "x",
           "y": [
            0.3862679356683651,
            0.2825271466868568,
            0.1664975783575462,
            0.2195680963153601,
            0.2860332359076172,
            0.2029776172111823,
            0.2064753303892792,
            0.4089584815842917,
            0.205040735544837,
            0.273823458932681
           ],
           "yaxis": "y"
          },
          {
           "alignmentgroup": "True",
           "hovertemplate": "Pollutant=SOX<br>Year=2005<br>Province=%{x}<br>By Capita=%{y}<extra></extra>",
           "legendgroup": "SOX",
           "marker": {
            "color": "#00cc96",
            "pattern": {
             "shape": "\\"
            }
           },
           "name": "SOX",
           "offsetgroup": "SOX",
           "orientation": "v",
           "showlegend": true,
           "textposition": "auto",
           "type": "bar",
           "x": [
            "AB",
            "BC",
            "ON",
            "MB",
            "NB",
            "NS",
            "QC",
            "SK",
            "NL",
            "PE"
           ],
           "xaxis": "x",
           "y": [
            0.1390732866149423,
            0.0155486058453872,
            0.0400026821384471,
            0.3372519332596446,
            0.1242445762334025,
            0.1599441545073847,
            0.0291013383064327,
            0.1498237216949529,
            0.0949084695762993,
            0.0170371616781436
           ],
           "yaxis": "y"
          },
          {
           "alignmentgroup": "True",
           "hovertemplate": "Pollutant=NOX<br>Year=2005<br>Province=%{x}<br>By Capita=%{y}<extra></extra>",
           "legendgroup": "NOX",
           "marker": {
            "color": "#ab63fa",
            "pattern": {
             "shape": "x"
            }
           },
           "name": "NOX",
           "offsetgroup": "NOX",
           "orientation": "v",
           "showlegend": true,
           "textposition": "auto",
           "type": "bar",
           "x": [
            "AB",
            "BC",
            "ON",
            "MB",
            "NB",
            "NS",
            "QC",
            "SK",
            "NL",
            "PE"
           ],
           "xaxis": "x",
           "y": [
            0.199349002995344,
            0.0680217269524697,
            0.0430720142807206,
            0.0564379055652077,
            0.0939254065047738,
            0.0957563458061708,
            0.0386495361679346,
            0.1738321022938641,
            0.1139411492293669,
            0.0498452909859457
           ],
           "yaxis": "y"
          },
          {
           "alignmentgroup": "True",
           "hovertemplate": "Pollutant=VOC<br>Year=2005<br>Province=%{x}<br>By Capita=%{y}<extra></extra>",
           "legendgroup": "VOC",
           "marker": {
            "color": "#FFA15A",
            "pattern": {
             "shape": "+"
            }
           },
           "name": "VOC",
           "offsetgroup": "VOC",
           "orientation": "v",
           "showlegend": true,
           "textposition": "auto",
           "type": "bar",
           "x": [
            "AB",
            "BC",
            "ON",
            "MB",
            "NB",
            "NS",
            "QC",
            "SK",
            "NL",
            "PE"
           ],
           "xaxis": "x",
           "y": [
            0.1781431443597838,
            0.0610149115248935,
            0.0469106449151815,
            0.0688268178451809,
            0.0721106215655526,
            0.052518824419865,
            0.0476996378842759,
            0.2397841694852705,
            0.0619201761002204,
            0.0615428380500885
           ],
           "yaxis": "y"
          }
         ],
         "name": "2005"
        },
        {
         "data": [
          {
           "alignmentgroup": "True",
           "hovertemplate": "Pollutant=NH3<br>Year=2006<br>Province=%{x}<br>By Capita=%{y}<extra></extra>",
           "legendgroup": "NH3",
           "marker": {
            "color": "#636efa",
            "pattern": {
             "shape": ""
            }
           },
           "name": "NH3",
           "offsetgroup": "NH3",
           "orientation": "v",
           "showlegend": true,
           "textposition": "auto",
           "type": "bar",
           "x": [
            "AB",
            "BC",
            "ON",
            "MB",
            "NB",
            "NS",
            "QC",
            "SK",
            "NL",
            "PE"
           ],
           "xaxis": "x",
           "y": [
            0.0404802146433814,
            0.0050814527742273,
            0.0081191447237475,
            0.0493638920147396,
            0.0063980235059319,
            0.0046405547801907,
            0.0084214978811617,
            0.0806582208589222,
            0.0017700200509037,
            0.0251512675541445
           ],
           "yaxis": "y"
          },
          {
           "alignmentgroup": "True",
           "hovertemplate": "Pollutant=CO<br>Year=2006<br>Province=%{x}<br>By Capita=%{y}<extra></extra>",
           "legendgroup": "CO",
           "marker": {
            "color": "#EF553B",
            "pattern": {
             "shape": "/"
            }
           },
           "name": "CO",
           "offsetgroup": "CO",
           "orientation": "v",
           "showlegend": true,
           "textposition": "auto",
           "type": "bar",
           "x": [
            "AB",
            "BC",
            "ON",
            "MB",
            "NB",
            "NS",
            "QC",
            "SK",
            "NL",
            "PE"
           ],
           "xaxis": "x",
           "y": [
            0.3496667904711503,
            0.2407075693664827,
            0.1538127174320811,
            0.207407931972824,
            0.2816690568135286,
            0.1890643840639983,
            0.196603071008761,
            0.4143841043896881,
            0.1976846180337767,
            0.2669528739001612
           ],
           "yaxis": "y"
          },
          {
           "alignmentgroup": "True",
           "hovertemplate": "Pollutant=SOX<br>Year=2006<br>Province=%{x}<br>By Capita=%{y}<extra></extra>",
           "legendgroup": "SOX",
           "marker": {
            "color": "#00cc96",
            "pattern": {
             "shape": "\\"
            }
           },
           "name": "SOX",
           "offsetgroup": "SOX",
           "orientation": "v",
           "showlegend": true,
           "textposition": "auto",
           "type": "bar",
           "x": [
            "AB",
            "BC",
            "ON",
            "MB",
            "NB",
            "NS",
            "QC",
            "SK",
            "NL",
            "PE"
           ],
           "xaxis": "x",
           "y": [
            0.125549830761498,
            0.0154802095334363,
            0.0353555460151582,
            0.3302367332054428,
            0.0810156897637644,
            0.1327621778384958,
            0.0244981651446088,
            0.1368822111082907,
            0.0877691433653513,
            0.0160104623387008
           ],
           "yaxis": "y"
          },
          {
           "alignmentgroup": "True",
           "hovertemplate": "Pollutant=NOX<br>Year=2006<br>Province=%{x}<br>By Capita=%{y}<extra></extra>",
           "legendgroup": "NOX",
           "marker": {
            "color": "#ab63fa",
            "pattern": {
             "shape": "x"
            }
           },
           "name": "NOX",
           "offsetgroup": "NOX",
           "orientation": "v",
           "showlegend": true,
           "textposition": "auto",
           "type": "bar",
           "x": [
            "AB",
            "BC",
            "ON",
            "MB",
            "NB",
            "NS",
            "QC",
            "SK",
            "NL",
            "PE"
           ],
           "xaxis": "x",
           "y": [
            0.191305662101263,
            0.0624182710098766,
            0.0383028187758862,
            0.050407995343874,
            0.0822630798344303,
            0.0805226527444485,
            0.035165496019822,
            0.1679059257163764,
            0.1045868650640945,
            0.0445517772166605
           ],
           "yaxis": "y"
          },
          {
           "alignmentgroup": "True",
           "hovertemplate": "Pollutant=VOC<br>Year=2006<br>Province=%{x}<br>By Capita=%{y}<extra></extra>",
           "legendgroup": "VOC",
           "marker": {
            "color": "#FFA15A",
            "pattern": {
             "shape": "+"
            }
           },
           "name": "VOC",
           "offsetgroup": "VOC",
           "orientation": "v",
           "showlegend": true,
           "textposition": "auto",
           "type": "bar",
           "x": [
            "AB",
            "BC",
            "ON",
            "MB",
            "NB",
            "NS",
            "QC",
            "SK",
            "NL",
            "PE"
           ],
           "xaxis": "x",
           "y": [
            0.1735935154677599,
            0.0548422554317468,
            0.0429652622725084,
            0.0669078727661045,
            0.0669739235758239,
            0.0472543099905171,
            0.0435835837125004,
            0.2346261856650885,
            0.0560074355099458,
            0.0589953122160972
           ],
           "yaxis": "y"
          }
         ],
         "name": "2006"
        },
        {
         "data": [
          {
           "alignmentgroup": "True",
           "hovertemplate": "Pollutant=NH3<br>Year=2007<br>Province=%{x}<br>By Capita=%{y}<extra></extra>",
           "legendgroup": "NH3",
           "marker": {
            "color": "#636efa",
            "pattern": {
             "shape": ""
            }
           },
           "name": "NH3",
           "offsetgroup": "NH3",
           "orientation": "v",
           "showlegend": true,
           "textposition": "auto",
           "type": "bar",
           "x": [
            "AB",
            "BC",
            "ON",
            "MB",
            "NB",
            "NS",
            "QC",
            "SK",
            "NL",
            "PE"
           ],
           "xaxis": "x",
           "y": [
            0.0399862402121174,
            0.0051162996654052,
            0.0078852730703355,
            0.0489378878941456,
            0.0060962977898557,
            0.0045162562819291,
            0.0087558377699191,
            0.0824335067844185,
            0.0018344033483271,
            0.0239956764642028
           ],
           "yaxis": "y"
          },
          {
           "alignmentgroup": "True",
           "hovertemplate": "Pollutant=CO<br>Year=2007<br>Province=%{x}<br>By Capita=%{y}<extra></extra>",
           "legendgroup": "CO",
           "marker": {
            "color": "#EF553B",
            "pattern": {
             "shape": "/"
            }
           },
           "name": "CO",
           "offsetgroup": "CO",
           "orientation": "v",
           "showlegend": true,
           "textposition": "auto",
           "type": "bar",
           "x": [
            "AB",
            "BC",
            "ON",
            "MB",
            "NB",
            "NS",
            "QC",
            "SK",
            "NL",
            "PE"
           ],
           "xaxis": "x",
           "y": [
            0.3296342268376619,
            0.2255336878871572,
            0.149451634621428,
            0.1882847707319969,
            0.2736046668543311,
            0.1867635578425132,
            0.202297923289047,
            0.4322571359459213,
            0.2130918508212633,
            0.2791791597324942
           ],
           "yaxis": "y"
          },
          {
           "alignmentgroup": "True",
           "hovertemplate": "Pollutant=SOX<br>Year=2007<br>Province=%{x}<br>By Capita=%{y}<extra></extra>",
           "legendgroup": "SOX",
           "marker": {
            "color": "#00cc96",
            "pattern": {
             "shape": "\\"
            }
           },
           "name": "SOX",
           "offsetgroup": "SOX",
           "orientation": "v",
           "showlegend": true,
           "textposition": "auto",
           "type": "bar",
           "x": [
            "AB",
            "BC",
            "ON",
            "MB",
            "NB",
            "NS",
            "QC",
            "SK",
            "NL",
            "PE"
           ],
           "xaxis": "x",
           "y": [
            0.1161778714282808,
            0.0149305695485293,
            0.032807666543488,
            0.3348475297803547,
            0.0905021381466309,
            0.1356616428751731,
            0.0217539226149924,
            0.1459918426992015,
            0.0859782811370974,
            0.01266796435731
           ],
           "yaxis": "y"
          },
          {
           "alignmentgroup": "True",
           "hovertemplate": "Pollutant=NOX<br>Year=2007<br>Province=%{x}<br>By Capita=%{y}<extra></extra>",
           "legendgroup": "NOX",
           "marker": {
            "color": "#ab63fa",
            "pattern": {
             "shape": "x"
            }
           },
           "name": "NOX",
           "offsetgroup": "NOX",
           "orientation": "v",
           "showlegend": true,
           "textposition": "auto",
           "type": "bar",
           "x": [
            "AB",
            "BC",
            "ON",
            "MB",
            "NB",
            "NS",
            "QC",
            "SK",
            "NL",
            "PE"
           ],
           "xaxis": "x",
           "y": [
            0.1924420572715036,
            0.0614563476819049,
            0.0364062182793065,
            0.0503003246004913,
            0.0787414378290431,
            0.0756488851457189,
            0.0341083095376069,
            0.1793040907605151,
            0.107887237388349,
            0.0429710400022226
           ],
           "yaxis": "y"
          },
          {
           "alignmentgroup": "True",
           "hovertemplate": "Pollutant=VOC<br>Year=2007<br>Province=%{x}<br>By Capita=%{y}<extra></extra>",
           "legendgroup": "VOC",
           "marker": {
            "color": "#FFA15A",
            "pattern": {
             "shape": "+"
            }
           },
           "name": "VOC",
           "offsetgroup": "VOC",
           "orientation": "v",
           "showlegend": true,
           "textposition": "auto",
           "type": "bar",
           "x": [
            "AB",
            "BC",
            "ON",
            "MB",
            "NB",
            "NS",
            "QC",
            "SK",
            "NL",
            "PE"
           ],
           "xaxis": "x",
           "y": [
            0.1645188034193331,
            0.0517961177682953,
            0.0415597686636405,
            0.0631233683131126,
            0.0658595089480252,
            0.0478585764758776,
            0.0441084043365408,
            0.2379061928245347,
            0.0697692923479838,
            0.0645626748819432
           ],
           "yaxis": "y"
          }
         ],
         "name": "2007"
        },
        {
         "data": [
          {
           "alignmentgroup": "True",
           "hovertemplate": "Pollutant=NH3<br>Year=2008<br>Province=%{x}<br>By Capita=%{y}<extra></extra>",
           "legendgroup": "NH3",
           "marker": {
            "color": "#636efa",
            "pattern": {
             "shape": ""
            }
           },
           "name": "NH3",
           "offsetgroup": "NH3",
           "orientation": "v",
           "showlegend": true,
           "textposition": "auto",
           "type": "bar",
           "x": [
            "AB",
            "BC",
            "ON",
            "MB",
            "NB",
            "NS",
            "QC",
            "SK",
            "NL",
            "PE"
           ],
           "xaxis": "x",
           "y": [
            0.0386873359277069,
            0.0050591322048223,
            0.0069964076165913,
            0.0478832593604439,
            0.0058760399184933,
            0.0043825923064935,
            0.0084470146420758,
            0.0863315409348119,
            0.0018402885693023,
            0.022137666230876
           ],
           "yaxis": "y"
          },
          {
           "alignmentgroup": "True",
           "hovertemplate": "Pollutant=CO<br>Year=2008<br>Province=%{x}<br>By Capita=%{y}<extra></extra>",
           "legendgroup": "CO",
           "marker": {
            "color": "#EF553B",
            "pattern": {
             "shape": "/"
            }
           },
           "name": "CO",
           "offsetgroup": "CO",
           "orientation": "v",
           "showlegend": true,
           "textposition": "auto",
           "type": "bar",
           "x": [
            "AB",
            "BC",
            "ON",
            "MB",
            "NB",
            "NS",
            "QC",
            "SK",
            "NL",
            "PE"
           ],
           "xaxis": "x",
           "y": [
            0.3196815409030221,
            0.2004264019179574,
            0.1430878425869863,
            0.2122332807119679,
            0.2626749456881551,
            0.1765433104484876,
            0.1968209372227962,
            0.4072272898598493,
            0.2110372276497106,
            0.2374588122566643
           ],
           "yaxis": "y"
          },
          {
           "alignmentgroup": "True",
           "hovertemplate": "Pollutant=SOX<br>Year=2008<br>Province=%{x}<br>By Capita=%{y}<extra></extra>",
           "legendgroup": "SOX",
           "marker": {
            "color": "#00cc96",
            "pattern": {
             "shape": "\\"
            }
           },
           "name": "SOX",
           "offsetgroup": "SOX",
           "orientation": "v",
           "showlegend": true,
           "textposition": "auto",
           "type": "bar",
           "x": [
            "AB",
            "BC",
            "ON",
            "MB",
            "NB",
            "NS",
            "QC",
            "SK",
            "NL",
            "PE"
           ],
           "xaxis": "x",
           "y": [
            0.1066372768282122,
            0.0152304222042535,
            0.0284033201367656,
            0.2919043497147072,
            0.0619289006991871,
            0.1330542198133111,
            0.0194489652441814,
            0.1268013998637662,
            0.078860297975998,
            0.0153198082683209
           ],
           "yaxis": "y"
          },
          {
           "alignmentgroup": "True",
           "hovertemplate": "Pollutant=NOX<br>Year=2008<br>Province=%{x}<br>By Capita=%{y}<extra></extra>",
           "legendgroup": "NOX",
           "marker": {
            "color": "#ab63fa",
            "pattern": {
             "shape": "x"
            }
           },
           "name": "NOX",
           "offsetgroup": "NOX",
           "orientation": "v",
           "showlegend": true,
           "textposition": "auto",
           "type": "bar",
           "x": [
            "AB",
            "BC",
            "ON",
            "MB",
            "NB",
            "NS",
            "QC",
            "SK",
            "NL",
            "PE"
           ],
           "xaxis": "x",
           "y": [
            0.1899426106672954,
            0.0577830581144781,
            0.0337577586580763,
            0.0511190960187495,
            0.0707055855406836,
            0.0674451838653723,
            0.0323755152670778,
            0.17187564760602,
            0.1042065103480126,
            0.0371408573135467
           ],
           "yaxis": "y"
          },
          {
           "alignmentgroup": "True",
           "hovertemplate": "Pollutant=VOC<br>Year=2008<br>Province=%{x}<br>By Capita=%{y}<extra></extra>",
           "legendgroup": "VOC",
           "marker": {
            "color": "#FFA15A",
            "pattern": {
             "shape": "+"
            }
           },
           "name": "VOC",
           "offsetgroup": "VOC",
           "orientation": "v",
           "showlegend": true,
           "textposition": "auto",
           "type": "bar",
           "x": [
            "AB",
            "BC",
            "ON",
            "MB",
            "NB",
            "NS",
            "QC",
            "SK",
            "NL",
            "PE"
           ],
           "xaxis": "x",
           "y": [
            0.1577053542535018,
            0.0484098297814747,
            0.0402840076550563,
            0.0624511768352451,
            0.0651940479719669,
            0.0460004345006268,
            0.0418689058827208,
            0.2418454036396999,
            0.0666478802015646,
            0.0567542150768063
           ],
           "yaxis": "y"
          }
         ],
         "name": "2008"
        },
        {
         "data": [
          {
           "alignmentgroup": "True",
           "hovertemplate": "Pollutant=NH3<br>Year=2009<br>Province=%{x}<br>By Capita=%{y}<extra></extra>",
           "legendgroup": "NH3",
           "marker": {
            "color": "#636efa",
            "pattern": {
             "shape": ""
            }
           },
           "name": "NH3",
           "offsetgroup": "NH3",
           "orientation": "v",
           "showlegend": true,
           "textposition": "auto",
           "type": "bar",
           "x": [
            "AB",
            "BC",
            "ON",
            "MB",
            "NB",
            "NS",
            "QC",
            "SK",
            "NL",
            "PE"
           ],
           "xaxis": "x",
           "y": [
            0.0362596781494918,
            0.0047852469865884,
            0.0072438692134667,
            0.044715400917313,
            0.0056317027437645,
            0.004180648732116,
            0.0080472370244082,
            0.0797315962449569,
            0.0018057234822989,
            0.0197569440064884
           ],
           "yaxis": "y"
          },
          {
           "alignmentgroup": "True",
           "hovertemplate": "Pollutant=CO<br>Year=2009<br>Province=%{x}<br>By Capita=%{y}<extra></extra>",
           "legendgroup": "CO",
           "marker": {
            "color": "#EF553B",
            "pattern": {
             "shape": "/"
            }
           },
           "name": "CO",
           "offsetgroup": "CO",
           "orientation": "v",
           "showlegend": true,
           "textposition": "auto",
           "type": "bar",
           "x": [
            "AB",
            "BC",
            "ON",
            "MB",
            "NB",
            "NS",
            "QC",
            "SK",
            "NL",
            "PE"
           ],
           "xaxis": "x",
           "y": [
            0.3087745148480556,
            0.1930048022148751,
            0.1336601060740267,
            0.1668466983727382,
            0.235911084874575,
            0.1579198317289223,
            0.1847233399014898,
            0.3954229287618142,
            0.1959183703730359,
            0.2203541025534854
           ],
           "yaxis": "y"
          },
          {
           "alignmentgroup": "True",
           "hovertemplate": "Pollutant=SOX<br>Year=2009<br>Province=%{x}<br>By Capita=%{y}<extra></extra>",
           "legendgroup": "SOX",
           "marker": {
            "color": "#00cc96",
            "pattern": {
             "shape": "\\"
            }
           },
           "name": "SOX",
           "offsetgroup": "SOX",
           "orientation": "v",
           "showlegend": true,
           "textposition": "auto",
           "type": "bar",
           "x": [
            "AB",
            "BC",
            "ON",
            "MB",
            "NB",
            "NS",
            "QC",
            "SK",
            "NL",
            "PE"
           ],
           "xaxis": "x",
           "y": [
            0.1013213644017956,
            0.0149304969389644,
            0.0151110563101346,
            0.240133419586093,
            0.0681630455391613,
            0.123629923030295,
            0.0174763939659103,
            0.1306949120851861,
            0.0560285608109548,
            0.0130318373820941
           ],
           "yaxis": "y"
          },
          {
           "alignmentgroup": "True",
           "hovertemplate": "Pollutant=NOX<br>Year=2009<br>Province=%{x}<br>By Capita=%{y}<extra></extra>",
           "legendgroup": "NOX",
           "marker": {
            "color": "#ab63fa",
            "pattern": {
             "shape": "x"
            }
           },
           "name": "NOX",
           "offsetgroup": "NOX",
           "orientation": "v",
           "showlegend": true,
           "textposition": "auto",
           "type": "bar",
           "x": [
            "AB",
            "BC",
            "ON",
            "MB",
            "NB",
            "NS",
            "QC",
            "SK",
            "NL",
            "PE"
           ],
           "xaxis": "x",
           "y": [
            0.1829210976264969,
            0.0524975897945214,
            0.0295490123616183,
            0.0426370221488176,
            0.0649910718439734,
            0.0605820269340662,
            0.0297066123903051,
            0.1699424275508563,
            0.0918316018895339,
            0.0387884826817379
           ],
           "yaxis": "y"
          },
          {
           "alignmentgroup": "True",
           "hovertemplate": "Pollutant=VOC<br>Year=2009<br>Province=%{x}<br>By Capita=%{y}<extra></extra>",
           "legendgroup": "VOC",
           "marker": {
            "color": "#FFA15A",
            "pattern": {
             "shape": "+"
            }
           },
           "name": "VOC",
           "offsetgroup": "VOC",
           "orientation": "v",
           "showlegend": true,
           "textposition": "auto",
           "type": "bar",
           "x": [
            "AB",
            "BC",
            "ON",
            "MB",
            "NB",
            "NS",
            "QC",
            "SK",
            "NL",
            "PE"
           ],
           "xaxis": "x",
           "y": [
            0.139413373620476,
            0.0450945637642735,
            0.0359380139910948,
            0.0570274783346762,
            0.0609595378415612,
            0.043784460778041,
            0.039313553869859,
            0.2311507967374338,
            0.0571383993976954,
            0.0535444848476376
           ],
           "yaxis": "y"
          }
         ],
         "name": "2009"
        },
        {
         "data": [
          {
           "alignmentgroup": "True",
           "hovertemplate": "Pollutant=NH3<br>Year=2010<br>Province=%{x}<br>By Capita=%{y}<extra></extra>",
           "legendgroup": "NH3",
           "marker": {
            "color": "#636efa",
            "pattern": {
             "shape": ""
            }
           },
           "name": "NH3",
           "offsetgroup": "NH3",
           "orientation": "v",
           "showlegend": true,
           "textposition": "auto",
           "type": "bar",
           "x": [
            "AB",
            "BC",
            "ON",
            "MB",
            "NB",
            "NS",
            "QC",
            "SK",
            "NL",
            "PE"
           ],
           "xaxis": "x",
           "y": [
            0.0350908935892882,
            0.0046184469620791,
            0.0070121743445733,
            0.0454566807919847,
            0.0054402619558218,
            0.0040058784088712,
            0.0078107800209935,
            0.076162378883898,
            0.0017419659455388,
            0.0180360999176832
           ],
           "yaxis": "y"
          },
          {
           "alignmentgroup": "True",
           "hovertemplate": "Pollutant=CO<br>Year=2010<br>Province=%{x}<br>By Capita=%{y}<extra></extra>",
           "legendgroup": "CO",
           "marker": {
            "color": "#EF553B",
            "pattern": {
             "shape": "/"
            }
           },
           "name": "CO",
           "offsetgroup": "CO",
           "orientation": "v",
           "showlegend": true,
           "textposition": "auto",
           "type": "bar",
           "x": [
            "AB",
            "BC",
            "ON",
            "MB",
            "NB",
            "NS",
            "QC",
            "SK",
            "NL",
            "PE"
           ],
           "xaxis": "x",
           "y": [
            0.2888310486070155,
            0.1781716828076283,
            0.1289870324289902,
            0.1750245792733185,
            0.2437037038833593,
            0.1483826397839107,
            0.1765452679134242,
            0.3787280186939945,
            0.1761814356351993,
            0.1908152027963983
           ],
           "yaxis": "y"
          },
          {
           "alignmentgroup": "True",
           "hovertemplate": "Pollutant=SOX<br>Year=2010<br>Province=%{x}<br>By Capita=%{y}<extra></extra>",
           "legendgroup": "SOX",
           "marker": {
            "color": "#00cc96",
            "pattern": {
             "shape": "\\"
            }
           },
           "name": "SOX",
           "offsetgroup": "SOX",
           "orientation": "v",
           "showlegend": true,
           "textposition": "auto",
           "type": "bar",
           "x": [
            "AB",
            "BC",
            "ON",
            "MB",
            "NB",
            "NS",
            "QC",
            "SK",
            "NL",
            "PE"
           ],
           "xaxis": "x",
           "y": [
            0.0962123407407447,
            0.0146416193688883,
            0.0193794399183089,
            0.1605682444238125,
            0.0425505628526798,
            0.0800760442287679,
            0.0174795081169153,
            0.1254338962082897,
            0.0607509718228034,
            0.0104510076555287
           ],
           "yaxis": "y"
          },
          {
           "alignmentgroup": "True",
           "hovertemplate": "Pollutant=NOX<br>Year=2010<br>Province=%{x}<br>By Capita=%{y}<extra></extra>",
           "legendgroup": "NOX",
           "marker": {
            "color": "#ab63fa",
            "pattern": {
             "shape": "x"
            }
           },
           "name": "NOX",
           "offsetgroup": "NOX",
           "orientation": "v",
           "showlegend": true,
           "textposition": "auto",
           "type": "bar",
           "x": [
            "AB",
            "BC",
            "ON",
            "MB",
            "NB",
            "NS",
            "QC",
            "SK",
            "NL",
            "PE"
           ],
           "xaxis": "x",
           "y": [
            0.1883161333735374,
            0.0516797027888203,
            0.0293086176092857,
            0.0402595702447912,
            0.062940276361707,
            0.0589791023096846,
            0.0276453322625992,
            0.1668363212338492,
            0.0905973922882917,
            0.0362282919430289
           ],
           "yaxis": "y"
          },
          {
           "alignmentgroup": "True",
           "hovertemplate": "Pollutant=VOC<br>Year=2010<br>Province=%{x}<br>By Capita=%{y}<extra></extra>",
           "legendgroup": "VOC",
           "marker": {
            "color": "#FFA15A",
            "pattern": {
             "shape": "+"
            }
           },
           "name": "VOC",
           "offsetgroup": "VOC",
           "orientation": "v",
           "showlegend": true,
           "textposition": "auto",
           "type": "bar",
           "x": [
            "AB",
            "BC",
            "ON",
            "MB",
            "NB",
            "NS",
            "QC",
            "SK",
            "NL",
            "PE"
           ],
           "xaxis": "x",
           "y": [
            0.1316376371089209,
            0.044092285633752,
            0.0352552391794465,
            0.0577421529368909,
            0.062562468452009,
            0.0422612481842179,
            0.0369633167152084,
            0.228913109347288,
            0.052664913301406,
            0.0468539831919195
           ],
           "yaxis": "y"
          }
         ],
         "name": "2010"
        },
        {
         "data": [
          {
           "alignmentgroup": "True",
           "hovertemplate": "Pollutant=NH3<br>Year=2011<br>Province=%{x}<br>By Capita=%{y}<extra></extra>",
           "legendgroup": "NH3",
           "marker": {
            "color": "#636efa",
            "pattern": {
             "shape": ""
            }
           },
           "name": "NH3",
           "offsetgroup": "NH3",
           "orientation": "v",
           "showlegend": true,
           "textposition": "auto",
           "type": "bar",
           "x": [
            "AB",
            "BC",
            "ON",
            "MB",
            "NB",
            "NS",
            "QC",
            "SK",
            "NL",
            "PE"
           ],
           "xaxis": "x",
           "y": [
            0.0350904482819613,
            0.0043722278662956,
            0.0067772847133884,
            0.0420401054982619,
            0.0054926998569112,
            0.0040461823348927,
            0.0077337566492071,
            0.077391456235356,
            0.001733970190178,
            0.0174046855533386
           ],
           "yaxis": "y"
          },
          {
           "alignmentgroup": "True",
           "hovertemplate": "Pollutant=CO<br>Year=2011<br>Province=%{x}<br>By Capita=%{y}<extra></extra>",
           "legendgroup": "CO",
           "marker": {
            "color": "#EF553B",
            "pattern": {
             "shape": "/"
            }
           },
           "name": "CO",
           "offsetgroup": "CO",
           "orientation": "v",
           "showlegend": true,
           "textposition": "auto",
           "type": "bar",
           "x": [
            "AB",
            "BC",
            "ON",
            "MB",
            "NB",
            "NS",
            "QC",
            "SK",
            "NL",
            "PE"
           ],
           "xaxis": "x",
           "y": [
            0.268561684112677,
            0.1636198789403397,
            0.1144893619275022,
            0.1500364713972453,
            0.2434327253212491,
            0.1526295727621801,
            0.175648799554129,
            0.3086782094265773,
            0.1623374367692704,
            0.1829791025820878
           ],
           "yaxis": "y"
          },
          {
           "alignmentgroup": "True",
           "hovertemplate": "Pollutant=SOX<br>Year=2011<br>Province=%{x}<br>By Capita=%{y}<extra></extra>",
           "legendgroup": "SOX",
           "marker": {
            "color": "#00cc96",
            "pattern": {
             "shape": "\\"
            }
           },
           "name": "SOX",
           "offsetgroup": "SOX",
           "orientation": "v",
           "showlegend": true,
           "textposition": "auto",
           "type": "bar",
           "x": [
            "AB",
            "BC",
            "ON",
            "MB",
            "NB",
            "NS",
            "QC",
            "SK",
            "NL",
            "PE"
           ],
           "xaxis": "x",
           "y": [
            0.0907765561234814,
            0.0158282288797867,
            0.019687859038175,
            0.1040380226569391,
            0.0362726462231785,
            0.0818762863734875,
            0.0174874272625739,
            0.1192287376662354,
            0.0481693910607931,
            0.011990478501391
           ],
           "yaxis": "y"
          },
          {
           "alignmentgroup": "True",
           "hovertemplate": "Pollutant=NOX<br>Year=2011<br>Province=%{x}<br>By Capita=%{y}<extra></extra>",
           "legendgroup": "NOX",
           "marker": {
            "color": "#ab63fa",
            "pattern": {
             "shape": "x"
            }
           },
           "name": "NOX",
           "offsetgroup": "NOX",
           "orientation": "v",
           "showlegend": true,
           "textposition": "auto",
           "type": "bar",
           "x": [
            "AB",
            "BC",
            "ON",
            "MB",
            "NB",
            "NS",
            "QC",
            "SK",
            "NL",
            "PE"
           ],
           "xaxis": "x",
           "y": [
            0.1830530773555333,
            0.0513973487729485,
            0.0270494534371959,
            0.0390064005326334,
            0.0642616066130701,
            0.0608177248018235,
            0.0269453815197282,
            0.1505897252214591,
            0.087861615241623,
            0.0388913566921985
           ],
           "yaxis": "y"
          },
          {
           "alignmentgroup": "True",
           "hovertemplate": "Pollutant=VOC<br>Year=2011<br>Province=%{x}<br>By Capita=%{y}<extra></extra>",
           "legendgroup": "VOC",
           "marker": {
            "color": "#FFA15A",
            "pattern": {
             "shape": "+"
            }
           },
           "name": "VOC",
           "offsetgroup": "VOC",
           "orientation": "v",
           "showlegend": true,
           "textposition": "auto",
           "type": "bar",
           "x": [
            "AB",
            "BC",
            "ON",
            "MB",
            "NB",
            "NS",
            "QC",
            "SK",
            "NL",
            "PE"
           ],
           "xaxis": "x",
           "y": [
            0.1266353994690289,
            0.0372743915086652,
            0.0308003441346711,
            0.0530661211976378,
            0.0589628888498698,
            0.0409616054776725,
            0.0344646603112605,
            0.2166647234728488,
            0.0448952098751444,
            0.0430660262981743
           ],
           "yaxis": "y"
          }
         ],
         "name": "2011"
        },
        {
         "data": [
          {
           "alignmentgroup": "True",
           "hovertemplate": "Pollutant=NH3<br>Year=2012<br>Province=%{x}<br>By Capita=%{y}<extra></extra>",
           "legendgroup": "NH3",
           "marker": {
            "color": "#636efa",
            "pattern": {
             "shape": ""
            }
           },
           "name": "NH3",
           "offsetgroup": "NH3",
           "orientation": "v",
           "showlegend": true,
           "textposition": "auto",
           "type": "bar",
           "x": [
            "AB",
            "BC",
            "ON",
            "MB",
            "NB",
            "NS",
            "QC",
            "SK",
            "NL",
            "PE"
           ],
           "xaxis": "x",
           "y": [
            0.0356378715781292,
            0.0042971664543804,
            0.0065983933978626,
            0.0417623173604316,
            0.0052962234947208,
            0.003956657191323,
            0.0078729714767643,
            0.0859342170134402,
            0.00171086744096,
            0.0177129506477604
           ],
           "yaxis": "y"
          },
          {
           "alignmentgroup": "True",
           "hovertemplate": "Pollutant=CO<br>Year=2012<br>Province=%{x}<br>By Capita=%{y}<extra></extra>",
           "legendgroup": "CO",
           "marker": {
            "color": "#EF553B",
            "pattern": {
             "shape": "/"
            }
           },
           "name": "CO",
           "offsetgroup": "CO",
           "orientation": "v",
           "showlegend": true,
           "textposition": "auto",
           "type": "bar",
           "x": [
            "AB",
            "BC",
            "ON",
            "MB",
            "NB",
            "NS",
            "QC",
            "SK",
            "NL",
            "PE"
           ],
           "xaxis": "x",
           "y": [
            0.2641622280815075,
            0.1616156968503635,
            0.0996914953121498,
            0.1479339744700678,
            0.2333527898747475,
            0.1430568136951255,
            0.1628953463472089,
            0.318549118020886,
            0.1601849740242595,
            0.1632778544026548
           ],
           "yaxis": "y"
          },
          {
           "alignmentgroup": "True",
           "hovertemplate": "Pollutant=SOX<br>Year=2012<br>Province=%{x}<br>By Capita=%{y}<extra></extra>",
           "legendgroup": "SOX",
           "marker": {
            "color": "#00cc96",
            "pattern": {
             "shape": "\\"
            }
           },
           "name": "SOX",
           "offsetgroup": "SOX",
           "orientation": "v",
           "showlegend": true,
           "textposition": "auto",
           "type": "bar",
           "x": [
            "AB",
            "BC",
            "ON",
            "MB",
            "NB",
            "NS",
            "QC",
            "SK",
            "NL",
            "PE"
           ],
           "xaxis": "x",
           "y": [
            0.0864538675792773,
            0.0160534228745692,
            0.0189752549229546,
            0.1118782751837269,
            0.0343202902540486,
            0.0798363214344134,
            0.0167996885877715,
            0.1204367521995209,
            0.0534119082927065,
            0.0070356283039138
           ],
           "yaxis": "y"
          },
          {
           "alignmentgroup": "True",
           "hovertemplate": "Pollutant=NOX<br>Year=2012<br>Province=%{x}<br>By Capita=%{y}<extra></extra>",
           "legendgroup": "NOX",
           "marker": {
            "color": "#ab63fa",
            "pattern": {
             "shape": "x"
            }
           },
           "name": "NOX",
           "offsetgroup": "NOX",
           "orientation": "v",
           "showlegend": true,
           "textposition": "auto",
           "type": "bar",
           "x": [
            "AB",
            "BC",
            "ON",
            "MB",
            "NB",
            "NS",
            "QC",
            "SK",
            "NL",
            "PE"
           ],
           "xaxis": "x",
           "y": [
            0.1680643133095885,
            0.0493607186304353,
            0.0250388508606688,
            0.0408296885078738,
            0.051454186903245,
            0.050963434824842,
            0.024990568273588,
            0.1468552993708873,
            0.0779662944768341,
            0.033874753099804
           ],
           "yaxis": "y"
          },
          {
           "alignmentgroup": "True",
           "hovertemplate": "Pollutant=VOC<br>Year=2012<br>Province=%{x}<br>By Capita=%{y}<extra></extra>",
           "legendgroup": "VOC",
           "marker": {
            "color": "#FFA15A",
            "pattern": {
             "shape": "+"
            }
           },
           "name": "VOC",
           "offsetgroup": "VOC",
           "orientation": "v",
           "showlegend": true,
           "textposition": "auto",
           "type": "bar",
           "x": [
            "AB",
            "BC",
            "ON",
            "MB",
            "NB",
            "NS",
            "QC",
            "SK",
            "NL",
            "PE"
           ],
           "xaxis": "x",
           "y": [
            0.1343437169751272,
            0.0362208353125583,
            0.0285999418864478,
            0.0547825226282801,
            0.0552385109971781,
            0.0379267729858522,
            0.0327755868685866,
            0.2256619747999534,
            0.0394021082055498,
            0.0388786987923635
           ],
           "yaxis": "y"
          }
         ],
         "name": "2012"
        },
        {
         "data": [
          {
           "alignmentgroup": "True",
           "hovertemplate": "Pollutant=NH3<br>Year=2013<br>Province=%{x}<br>By Capita=%{y}<extra></extra>",
           "legendgroup": "NH3",
           "marker": {
            "color": "#636efa",
            "pattern": {
             "shape": ""
            }
           },
           "name": "NH3",
           "offsetgroup": "NH3",
           "orientation": "v",
           "showlegend": true,
           "textposition": "auto",
           "type": "bar",
           "x": [
            "AB",
            "BC",
            "ON",
            "MB",
            "NB",
            "NS",
            "QC",
            "SK",
            "NL",
            "PE"
           ],
           "xaxis": "x",
           "y": [
            0.0352369734757397,
            0.0043152969075925,
            0.0067112771735262,
            0.0451508760001969,
            0.0049335295823101,
            0.0038862703309875,
            0.0076838873081433,
            0.0896069815594006,
            0.0017103287367099,
            0.0162572530327308
           ],
           "yaxis": "y"
          },
          {
           "alignmentgroup": "True",
           "hovertemplate": "Pollutant=CO<br>Year=2013<br>Province=%{x}<br>By Capita=%{y}<extra></extra>",
           "legendgroup": "CO",
           "marker": {
            "color": "#EF553B",
            "pattern": {
             "shape": "/"
            }
           },
           "name": "CO",
           "offsetgroup": "CO",
           "orientation": "v",
           "showlegend": true,
           "textposition": "auto",
           "type": "bar",
           "x": [
            "AB",
            "BC",
            "ON",
            "MB",
            "NB",
            "NS",
            "QC",
            "SK",
            "NL",
            "PE"
           ],
           "xaxis": "x",
           "y": [
            0.2635204110497017,
            0.143137425027079,
            0.0998341712231276,
            0.1429446206799773,
            0.2179718091725575,
            0.1447791798903054,
            0.1641564476541536,
            0.3260850288231767,
            0.1371288458294269,
            0.1400417022183254
           ],
           "yaxis": "y"
          },
          {
           "alignmentgroup": "True",
           "hovertemplate": "Pollutant=SOX<br>Year=2013<br>Province=%{x}<br>By Capita=%{y}<extra></extra>",
           "legendgroup": "SOX",
           "marker": {
            "color": "#00cc96",
            "pattern": {
             "shape": "\\"
            }
           },
           "name": "SOX",
           "offsetgroup": "SOX",
           "orientation": "v",
           "showlegend": true,
           "textposition": "auto",
           "type": "bar",
           "x": [
            "AB",
            "BC",
            "ON",
            "MB",
            "NB",
            "NS",
            "QC",
            "SK",
            "NL",
            "PE"
           ],
           "xaxis": "x",
           "y": [
            0.0792442176344573,
            0.0163079982112327,
            0.0198769776755491,
            0.1262064107690856,
            0.0290556957052516,
            0.0820690301167642,
            0.0147531707398927,
            0.1139292008911647,
            0.0539042612079117,
            0.0058998142199011
           ],
           "yaxis": "y"
          },
          {
           "alignmentgroup": "True",
           "hovertemplate": "Pollutant=NOX<br>Year=2013<br>Province=%{x}<br>By Capita=%{y}<extra></extra>",
           "legendgroup": "NOX",
           "marker": {
            "color": "#ab63fa",
            "pattern": {
             "shape": "x"
            }
           },
           "name": "NOX",
           "offsetgroup": "NOX",
           "orientation": "v",
           "showlegend": true,
           "textposition": "auto",
           "type": "bar",
           "x": [
            "AB",
            "BC",
            "ON",
            "MB",
            "NB",
            "NS",
            "QC",
            "SK",
            "NL",
            "PE"
           ],
           "xaxis": "x",
           "y": [
            0.1623561957609479,
            0.0493484165796856,
            0.023531699641109,
            0.0366419549047534,
            0.0449191062005356,
            0.0495097716957066,
            0.0232348715593218,
            0.143826485315611,
            0.074069662371114,
            0.0294558942439753
           ],
           "yaxis": "y"
          },
          {
           "alignmentgroup": "True",
           "hovertemplate": "Pollutant=VOC<br>Year=2013<br>Province=%{x}<br>By Capita=%{y}<extra></extra>",
           "legendgroup": "VOC",
           "marker": {
            "color": "#FFA15A",
            "pattern": {
             "shape": "+"
            }
           },
           "name": "VOC",
           "offsetgroup": "VOC",
           "orientation": "v",
           "showlegend": true,
           "textposition": "auto",
           "type": "bar",
           "x": [
            "AB",
            "BC",
            "ON",
            "MB",
            "NB",
            "NS",
            "QC",
            "SK",
            "NL",
            "PE"
           ],
           "xaxis": "x",
           "y": [
            0.1403376440806276,
            0.0360127379835965,
            0.028136556668737,
            0.054040720926358,
            0.0517301849909216,
            0.0373633493083843,
            0.0320579342255202,
            0.2286400678723877,
            0.0363414645122326,
            0.0356714150812995
           ],
           "yaxis": "y"
          }
         ],
         "name": "2013"
        },
        {
         "data": [
          {
           "alignmentgroup": "True",
           "hovertemplate": "Pollutant=NH3<br>Year=2014<br>Province=%{x}<br>By Capita=%{y}<extra></extra>",
           "legendgroup": "NH3",
           "marker": {
            "color": "#636efa",
            "pattern": {
             "shape": ""
            }
           },
           "name": "NH3",
           "offsetgroup": "NH3",
           "orientation": "v",
           "showlegend": true,
           "textposition": "auto",
           "type": "bar",
           "x": [
            "AB",
            "BC",
            "ON",
            "MB",
            "NB",
            "NS",
            "QC",
            "SK",
            "NL",
            "PE"
           ],
           "xaxis": "x",
           "y": [
            0.0346800276172958,
            0.0041299307253863,
            0.0064064827345924,
            0.0426803564069535,
            0.0051539738254164,
            0.0038500092120853,
            0.0075975644652553,
            0.0853006383023803,
            0.001754382231318,
            0.0177103991272805
           ],
           "yaxis": "y"
          },
          {
           "alignmentgroup": "True",
           "hovertemplate": "Pollutant=CO<br>Year=2014<br>Province=%{x}<br>By Capita=%{y}<extra></extra>",
           "legendgroup": "CO",
           "marker": {
            "color": "#EF553B",
            "pattern": {
             "shape": "/"
            }
           },
           "name": "CO",
           "offsetgroup": "CO",
           "orientation": "v",
           "showlegend": true,
           "textposition": "auto",
           "type": "bar",
           "x": [
            "AB",
            "BC",
            "ON",
            "MB",
            "NB",
            "NS",
            "QC",
            "SK",
            "NL",
            "PE"
           ],
           "xaxis": "x",
           "y": [
            0.2663034149617927,
            0.1405429057938262,
            0.0967820889046714,
            0.1382074334879336,
            0.2213560950748991,
            0.125222786342201,
            0.1576657195136716,
            0.2978382804543901,
            0.1496346419338947,
            0.1275986154283128
           ],
           "yaxis": "y"
          },
          {
           "alignmentgroup": "True",
           "hovertemplate": "Pollutant=SOX<br>Year=2014<br>Province=%{x}<br>By Capita=%{y}<extra></extra>",
           "legendgroup": "SOX",
           "marker": {
            "color": "#00cc96",
            "pattern": {
             "shape": "\\"
            }
           },
           "name": "SOX",
           "offsetgroup": "SOX",
           "orientation": "v",
           "showlegend": true,
           "textposition": "auto",
           "type": "bar",
           "x": [
            "AB",
            "BC",
            "ON",
            "MB",
            "NB",
            "NS",
            "QC",
            "SK",
            "NL",
            "PE"
           ],
           "xaxis": "x",
           "y": [
            0.0716710430161649,
            0.0161410497654628,
            0.018743580814015,
            0.1239775925934402,
            0.0293933595524867,
            0.0764381942864948,
            0.0148856522023575,
            0.1124962502076484,
            0.0529416246581267,
            0.0048044698840324
           ],
           "yaxis": "y"
          },
          {
           "alignmentgroup": "True",
           "hovertemplate": "Pollutant=NOX<br>Year=2014<br>Province=%{x}<br>By Capita=%{y}<extra></extra>",
           "legendgroup": "NOX",
           "marker": {
            "color": "#ab63fa",
            "pattern": {
             "shape": "x"
            }
           },
           "name": "NOX",
           "offsetgroup": "NOX",
           "orientation": "v",
           "showlegend": true,
           "textposition": "auto",
           "type": "bar",
           "x": [
            "AB",
            "BC",
            "ON",
            "MB",
            "NB",
            "NS",
            "QC",
            "SK",
            "NL",
            "PE"
           ],
           "xaxis": "x",
           "y": [
            0.1614202467490506,
            0.0473968090271031,
            0.0214024920473493,
            0.0355446055796286,
            0.0419118049881237,
            0.044438496776765,
            0.0214067303872535,
            0.1380380059643478,
            0.0770731776515859,
            0.0285210576384323
           ],
           "yaxis": "y"
          },
          {
           "alignmentgroup": "True",
           "hovertemplate": "Pollutant=VOC<br>Year=2014<br>Province=%{x}<br>By Capita=%{y}<extra></extra>",
           "legendgroup": "VOC",
           "marker": {
            "color": "#FFA15A",
            "pattern": {
             "shape": "+"
            }
           },
           "name": "VOC",
           "offsetgroup": "VOC",
           "orientation": "v",
           "showlegend": true,
           "textposition": "auto",
           "type": "bar",
           "x": [
            "AB",
            "BC",
            "ON",
            "MB",
            "NB",
            "NS",
            "QC",
            "SK",
            "NL",
            "PE"
           ],
           "xaxis": "x",
           "y": [
            0.1407441599775558,
            0.0339190513755499,
            0.027384723922052,
            0.0527437901783694,
            0.0528940821452056,
            0.0353915712584216,
            0.0310727651317277,
            0.2499567767158437,
            0.035002267227483,
            0.0330187864222707
           ],
           "yaxis": "y"
          }
         ],
         "name": "2014"
        },
        {
         "data": [
          {
           "alignmentgroup": "True",
           "hovertemplate": "Pollutant=NH3<br>Year=2015<br>Province=%{x}<br>By Capita=%{y}<extra></extra>",
           "legendgroup": "NH3",
           "marker": {
            "color": "#636efa",
            "pattern": {
             "shape": ""
            }
           },
           "name": "NH3",
           "offsetgroup": "NH3",
           "orientation": "v",
           "showlegend": true,
           "textposition": "auto",
           "type": "bar",
           "x": [
            "AB",
            "BC",
            "ON",
            "MB",
            "NB",
            "NS",
            "QC",
            "SK",
            "NL",
            "PE"
           ],
           "xaxis": "x",
           "y": [
            0.0338251316429402,
            0.0040779144489831,
            0.006188689708712,
            0.0435794065737175,
            0.0049518995475287,
            0.0037671123983818,
            0.0077268427264896,
            0.0871830086040425,
            0.0017158484912194,
            0.0163096807483132
           ],
           "yaxis": "y"
          },
          {
           "alignmentgroup": "True",
           "hovertemplate": "Pollutant=CO<br>Year=2015<br>Province=%{x}<br>By Capita=%{y}<extra></extra>",
           "legendgroup": "CO",
           "marker": {
            "color": "#EF553B",
            "pattern": {
             "shape": "/"
            }
           },
           "name": "CO",
           "offsetgroup": "CO",
           "orientation": "v",
           "showlegend": true,
           "textposition": "auto",
           "type": "bar",
           "x": [
            "AB",
            "BC",
            "ON",
            "MB",
            "NB",
            "NS",
            "QC",
            "SK",
            "NL",
            "PE"
           ],
           "xaxis": "x",
           "y": [
            0.2382150540722998,
            0.1322663796848896,
            0.0950426860259908,
            0.145228049154184,
            0.2441311020535009,
            0.1422061540146551,
            0.1567462549539594,
            0.2984440982644325,
            0.1455043811601028,
            0.1161329179997198
           ],
           "yaxis": "y"
          },
          {
           "alignmentgroup": "True",
           "hovertemplate": "Pollutant=SOX<br>Year=2015<br>Province=%{x}<br>By Capita=%{y}<extra></extra>",
           "legendgroup": "SOX",
           "marker": {
            "color": "#00cc96",
            "pattern": {
             "shape": "\\"
            }
           },
           "name": "SOX",
           "offsetgroup": "SOX",
           "orientation": "v",
           "showlegend": true,
           "textposition": "auto",
           "type": "bar",
           "x": [
            "AB",
            "BC",
            "ON",
            "MB",
            "NB",
            "NS",
            "QC",
            "SK",
            "NL",
            "PE"
           ],
           "xaxis": "x",
           "y": [
            0.0627797364939121,
            0.0131095122309724,
            0.0182877920797396,
            0.118975950982965,
            0.0302368144117508,
            0.0676204142826527,
            0.0136631706563721,
            0.1141138989436429,
            0.0363789966673245,
            0.0020745589730591
           ],
           "yaxis": "y"
          },
          {
           "alignmentgroup": "True",
           "hovertemplate": "Pollutant=NOX<br>Year=2015<br>Province=%{x}<br>By Capita=%{y}<extra></extra>",
           "legendgroup": "NOX",
           "marker": {
            "color": "#ab63fa",
            "pattern": {
             "shape": "x"
            }
           },
           "name": "NOX",
           "offsetgroup": "NOX",
           "orientation": "v",
           "showlegend": true,
           "textposition": "auto",
           "type": "bar",
           "x": [
            "AB",
            "BC",
            "ON",
            "MB",
            "NB",
            "NS",
            "QC",
            "SK",
            "NL",
            "PE"
           ],
           "xaxis": "x",
           "y": [
            0.152517769512436,
            0.0446867855131898,
            0.0205012396561827,
            0.0315592445062895,
            0.0390560347737372,
            0.0406872334998883,
            0.02077483938521,
            0.131171926922175,
            0.0743360484409904,
            0.02799632504012
           ],
           "yaxis": "y"
          },
          {
           "alignmentgroup": "True",
           "hovertemplate": "Pollutant=VOC<br>Year=2015<br>Province=%{x}<br>By Capita=%{y}<extra></extra>",
           "legendgroup": "VOC",
           "marker": {
            "color": "#FFA15A",
            "pattern": {
             "shape": "+"
            }
           },
           "name": "VOC",
           "offsetgroup": "VOC",
           "orientation": "v",
           "showlegend": true,
           "textposition": "auto",
           "type": "bar",
           "x": [
            "AB",
            "BC",
            "ON",
            "MB",
            "NB",
            "NS",
            "QC",
            "SK",
            "NL",
            "PE"
           ],
           "xaxis": "x",
           "y": [
            0.1250690500234584,
            0.0327656158370853,
            0.0258901993666737,
            0.0493838151516064,
            0.0511361470556365,
            0.036284595527289,
            0.0291987375360797,
            0.2580260691382917,
            0.0340843987540032,
            0.0307335140921298
           ],
           "yaxis": "y"
          }
         ],
         "name": "2015"
        },
        {
         "data": [
          {
           "alignmentgroup": "True",
           "hovertemplate": "Pollutant=NH3<br>Year=2016<br>Province=%{x}<br>By Capita=%{y}<extra></extra>",
           "legendgroup": "NH3",
           "marker": {
            "color": "#636efa",
            "pattern": {
             "shape": ""
            }
           },
           "name": "NH3",
           "offsetgroup": "NH3",
           "orientation": "v",
           "showlegend": true,
           "textposition": "auto",
           "type": "bar",
           "x": [
            "AB",
            "BC",
            "ON",
            "MB",
            "NB",
            "NS",
            "QC",
            "SK",
            "NL",
            "PE"
           ],
           "xaxis": "x",
           "y": [
            0.0316578231333526,
            0.0041055723772891,
            0.0063993847852251,
            0.0437763384813482,
            0.0051346028113623,
            0.003687076145442,
            0.00785991683635,
            0.0865725071200514,
            0.0017726522563957,
            0.0181141662753401
           ],
           "yaxis": "y"
          },
          {
           "alignmentgroup": "True",
           "hovertemplate": "Pollutant=CO<br>Year=2016<br>Province=%{x}<br>By Capita=%{y}<extra></extra>",
           "legendgroup": "CO",
           "marker": {
            "color": "#EF553B",
            "pattern": {
             "shape": "/"
            }
           },
           "name": "CO",
           "offsetgroup": "CO",
           "orientation": "v",
           "showlegend": true,
           "textposition": "auto",
           "type": "bar",
           "x": [
            "AB",
            "BC",
            "ON",
            "MB",
            "NB",
            "NS",
            "QC",
            "SK",
            "NL",
            "PE"
           ],
           "xaxis": "x",
           "y": [
            0.2268806728472298,
            0.1362870763276128,
            0.0911599389027709,
            0.1263168597587595,
            0.2289010342368649,
            0.1341392921479312,
            0.1534660536889928,
            0.2752025047974314,
            0.2068852200338353,
            0.1288005859552962
           ],
           "yaxis": "y"
          },
          {
           "alignmentgroup": "True",
           "hovertemplate": "Pollutant=SOX<br>Year=2016<br>Province=%{x}<br>By Capita=%{y}<extra></extra>",
           "legendgroup": "SOX",
           "marker": {
            "color": "#00cc96",
            "pattern": {
             "shape": "\\"
            }
           },
           "name": "SOX",
           "offsetgroup": "SOX",
           "orientation": "v",
           "showlegend": true,
           "textposition": "auto",
           "type": "bar",
           "x": [
            "AB",
            "BC",
            "ON",
            "MB",
            "NB",
            "NS",
            "QC",
            "SK",
            "NL",
            "PE"
           ],
           "xaxis": "x",
           "y": [
            0.0571878760956859,
            0.0141216656699352,
            0.0179753618795906,
            0.1106663160598652,
            0.0273932453836944,
            0.0689181816025929,
            0.0134619253370573,
            0.1114983928787161,
            0.0464526611571707,
            0.0019298253209128
           ],
           "yaxis": "y"
          },
          {
           "alignmentgroup": "True",
           "hovertemplate": "Pollutant=NOX<br>Year=2016<br>Province=%{x}<br>By Capita=%{y}<extra></extra>",
           "legendgroup": "NOX",
           "marker": {
            "color": "#ab63fa",
            "pattern": {
             "shape": "x"
            }
           },
           "name": "NOX",
           "offsetgroup": "NOX",
           "orientation": "v",
           "showlegend": true,
           "textposition": "auto",
           "type": "bar",
           "x": [
            "AB",
            "BC",
            "ON",
            "MB",
            "NB",
            "NS",
            "QC",
            "SK",
            "NL",
            "PE"
           ],
           "xaxis": "x",
           "y": [
            0.1440073562283087,
            0.0435005249046857,
            0.0190902409633282,
            0.0299732846364822,
            0.040911888394755,
            0.0392124542043283,
            0.0202930894829756,
            0.1229183697643983,
            0.0762851967159734,
            0.0270834493233711
           ],
           "yaxis": "y"
          },
          {
           "alignmentgroup": "True",
           "hovertemplate": "Pollutant=VOC<br>Year=2016<br>Province=%{x}<br>By Capita=%{y}<extra></extra>",
           "legendgroup": "VOC",
           "marker": {
            "color": "#FFA15A",
            "pattern": {
             "shape": "+"
            }
           },
           "name": "VOC",
           "offsetgroup": "VOC",
           "orientation": "v",
           "showlegend": true,
           "textposition": "auto",
           "type": "bar",
           "x": [
            "AB",
            "BC",
            "ON",
            "MB",
            "NB",
            "NS",
            "QC",
            "SK",
            "NL",
            "PE"
           ],
           "xaxis": "x",
           "y": [
            0.1138034506732747,
            0.0297895212075601,
            0.0244616747125058,
            0.0467565267893992,
            0.043566706263473,
            0.0331990060313273,
            0.027512052619853,
            0.2391715781063655,
            0.0360347585594712,
            0.0326438731915315
           ],
           "yaxis": "y"
          }
         ],
         "name": "2016"
        },
        {
         "data": [
          {
           "alignmentgroup": "True",
           "hovertemplate": "Pollutant=NH3<br>Year=2017<br>Province=%{x}<br>By Capita=%{y}<extra></extra>",
           "legendgroup": "NH3",
           "marker": {
            "color": "#636efa",
            "pattern": {
             "shape": ""
            }
           },
           "name": "NH3",
           "offsetgroup": "NH3",
           "orientation": "v",
           "showlegend": true,
           "textposition": "auto",
           "type": "bar",
           "x": [
            "AB",
            "BC",
            "ON",
            "MB",
            "NB",
            "NS",
            "QC",
            "SK",
            "NL",
            "PE"
           ],
           "xaxis": "x",
           "y": [
            0.0292758895087172,
            0.0040940542230141,
            0.0062345283263061,
            0.0429690849941282,
            0.0049202459943019,
            0.0036284941033953,
            0.0074211842812759,
            0.0874799789384849,
            0.0017291503661628,
            0.0172480438109277
           ],
           "yaxis": "y"
          },
          {
           "alignmentgroup": "True",
           "hovertemplate": "Pollutant=CO<br>Year=2017<br>Province=%{x}<br>By Capita=%{y}<extra></extra>",
           "legendgroup": "CO",
           "marker": {
            "color": "#EF553B",
            "pattern": {
             "shape": "/"
            }
           },
           "name": "CO",
           "offsetgroup": "CO",
           "orientation": "v",
           "showlegend": true,
           "textposition": "auto",
           "type": "bar",
           "x": [
            "AB",
            "BC",
            "ON",
            "MB",
            "NB",
            "NS",
            "QC",
            "SK",
            "NL",
            "PE"
           ],
           "xaxis": "x",
           "y": [
            0.2382443413699192,
            0.1384656341005617,
            0.0897480660997638,
            0.119035185339088,
            0.1880598190401943,
            0.1368758444294862,
            0.1562257462701702,
            0.2746780026708186,
            0.1547304675640906,
            0.1428840647141182
           ],
           "yaxis": "y"
          },
          {
           "alignmentgroup": "True",
           "hovertemplate": "Pollutant=SOX<br>Year=2017<br>Province=%{x}<br>By Capita=%{y}<extra></extra>",
           "legendgroup": "SOX",
           "marker": {
            "color": "#00cc96",
            "pattern": {
             "shape": "\\"
            }
           },
           "name": "SOX",
           "offsetgroup": "SOX",
           "orientation": "v",
           "showlegend": true,
           "textposition": "auto",
           "type": "bar",
           "x": [
            "AB",
            "BC",
            "ON",
            "MB",
            "NB",
            "NS",
            "QC",
            "SK",
            "NL",
            "PE"
           ],
           "xaxis": "x",
           "y": [
            0.0569934031484362,
            0.0146157470420105,
            0.012494747063216,
            0.0895700499857659,
            0.027230576675306,
            0.070192467531354,
            0.0134834285504819,
            0.1087561345196193,
            0.0425005009151274,
            0.0021539785598156
           ],
           "yaxis": "y"
          },
          {
           "alignmentgroup": "True",
           "hovertemplate": "Pollutant=NOX<br>Year=2017<br>Province=%{x}<br>By Capita=%{y}<extra></extra>",
           "legendgroup": "NOX",
           "marker": {
            "color": "#ab63fa",
            "pattern": {
             "shape": "x"
            }
           },
           "name": "NOX",
           "offsetgroup": "NOX",
           "orientation": "v",
           "showlegend": true,
           "textposition": "auto",
           "type": "bar",
           "x": [
            "AB",
            "BC",
            "ON",
            "MB",
            "NB",
            "NS",
            "QC",
            "SK",
            "NL",
            "PE"
           ],
           "xaxis": "x",
           "y": [
            0.1480713948298271,
            0.0438907160830895,
            0.0192062340488586,
            0.0306905789404681,
            0.0370826207357308,
            0.0420783478708473,
            0.0209332584342585,
            0.1245482875312475,
            0.0786060695855936,
            0.0271323787442833
           ],
           "yaxis": "y"
          },
          {
           "alignmentgroup": "True",
           "hovertemplate": "Pollutant=VOC<br>Year=2017<br>Province=%{x}<br>By Capita=%{y}<extra></extra>",
           "legendgroup": "VOC",
           "marker": {
            "color": "#FFA15A",
            "pattern": {
             "shape": "+"
            }
           },
           "name": "VOC",
           "offsetgroup": "VOC",
           "orientation": "v",
           "showlegend": true,
           "textposition": "auto",
           "type": "bar",
           "x": [
            "AB",
            "BC",
            "ON",
            "MB",
            "NB",
            "NS",
            "QC",
            "SK",
            "NL",
            "PE"
           ],
           "xaxis": "x",
           "y": [
            0.111961780277555,
            0.0289166021728261,
            0.0239707805154483,
            0.0463704631422802,
            0.0375049992516076,
            0.0329994202832156,
            0.0270282784890825,
            0.2589136430756438,
            0.0407663989570121,
            0.0349290322379926
           ],
           "yaxis": "y"
          }
         ],
         "name": "2017"
        },
        {
         "data": [
          {
           "alignmentgroup": "True",
           "hovertemplate": "Pollutant=NH3<br>Year=2018<br>Province=%{x}<br>By Capita=%{y}<extra></extra>",
           "legendgroup": "NH3",
           "marker": {
            "color": "#636efa",
            "pattern": {
             "shape": ""
            }
           },
           "name": "NH3",
           "offsetgroup": "NH3",
           "orientation": "v",
           "showlegend": true,
           "textposition": "auto",
           "type": "bar",
           "x": [
            "AB",
            "BC",
            "ON",
            "MB",
            "NB",
            "NS",
            "QC",
            "SK",
            "NL",
            "PE"
           ],
           "xaxis": "x",
           "y": [
            0.0304062193323669,
            0.0041921220859177,
            0.0061245524595136,
            0.0432142055725501,
            0.0047628493977972,
            0.0037114416283289,
            0.0078841329923924,
            0.08847893911949,
            0.00175523786085,
            0.0175927191480214
           ],
           "yaxis": "y"
          },
          {
           "alignmentgroup": "True",
           "hovertemplate": "Pollutant=CO<br>Year=2018<br>Province=%{x}<br>By Capita=%{y}<extra></extra>",
           "legendgroup": "CO",
           "marker": {
            "color": "#EF553B",
            "pattern": {
             "shape": "/"
            }
           },
           "name": "CO",
           "offsetgroup": "CO",
           "orientation": "v",
           "showlegend": true,
           "textposition": "auto",
           "type": "bar",
           "x": [
            "AB",
            "BC",
            "ON",
            "MB",
            "NB",
            "NS",
            "QC",
            "SK",
            "NL",
            "PE"
           ],
           "xaxis": "x",
           "y": [
            0.2332900967620911,
            0.1386706443067713,
            0.089772398770371,
            0.1298826814599956,
            0.175752521940153,
            0.1392318539077817,
            0.1510468998771136,
            0.2612189296237061,
            0.1603554766044707,
            0.1349826063476321
           ],
           "yaxis": "y"
          },
          {
           "alignmentgroup": "True",
           "hovertemplate": "Pollutant=SOX<br>Year=2018<br>Province=%{x}<br>By Capita=%{y}<extra></extra>",
           "legendgroup": "SOX",
           "marker": {
            "color": "#00cc96",
            "pattern": {
             "shape": "\\"
            }
           },
           "name": "SOX",
           "offsetgroup": "SOX",
           "orientation": "v",
           "showlegend": true,
           "textposition": "auto",
           "type": "bar",
           "x": [
            "AB",
            "BC",
            "ON",
            "MB",
            "NB",
            "NS",
            "QC",
            "SK",
            "NL",
            "PE"
           ],
           "xaxis": "x",
           "y": [
            0.0526045378785598,
            0.0146701524814787,
            0.0101779420777869,
            0.0298045818020654,
            0.0288493442377151,
            0.0675971265815382,
            0.0115233412521066,
            0.1067414141881053,
            0.0353199325847004,
            0.002055352446734
           ],
           "yaxis": "y"
          },
          {
           "alignmentgroup": "True",
           "hovertemplate": "Pollutant=NOX<br>Year=2018<br>Province=%{x}<br>By Capita=%{y}<extra></extra>",
           "legendgroup": "NOX",
           "marker": {
            "color": "#ab63fa",
            "pattern": {
             "shape": "x"
            }
           },
           "name": "NOX",
           "offsetgroup": "NOX",
           "orientation": "v",
           "showlegend": true,
           "textposition": "auto",
           "type": "bar",
           "x": [
            "AB",
            "BC",
            "ON",
            "MB",
            "NB",
            "NS",
            "QC",
            "SK",
            "NL",
            "PE"
           ],
           "xaxis": "x",
           "y": [
            0.1458600139908996,
            0.0447352426581339,
            0.0194509910509099,
            0.0318413415769192,
            0.0360732531199334,
            0.0420001809165306,
            0.0206556110775273,
            0.1259325956515311,
            0.0766723752632081,
            0.0272096585837438
           ],
           "yaxis": "y"
          },
          {
           "alignmentgroup": "True",
           "hovertemplate": "Pollutant=VOC<br>Year=2018<br>Province=%{x}<br>By Capita=%{y}<extra></extra>",
           "legendgroup": "VOC",
           "marker": {
            "color": "#FFA15A",
            "pattern": {
             "shape": "+"
            }
           },
           "name": "VOC",
           "offsetgroup": "VOC",
           "orientation": "v",
           "showlegend": true,
           "textposition": "auto",
           "type": "bar",
           "x": [
            "AB",
            "BC",
            "ON",
            "MB",
            "NB",
            "NS",
            "QC",
            "SK",
            "NL",
            "PE"
           ],
           "xaxis": "x",
           "y": [
            0.1167564422577507,
            0.0283331729434161,
            0.024658095603582,
            0.0476507893733443,
            0.0366535230624258,
            0.0334560448610847,
            0.027849330900329,
            0.2487212659583702,
            0.0407932910482295,
            0.0342736566916531
           ],
           "yaxis": "y"
          }
         ],
         "name": "2018"
        },
        {
         "data": [
          {
           "alignmentgroup": "True",
           "hovertemplate": "Pollutant=NH3<br>Year=2019<br>Province=%{x}<br>By Capita=%{y}<extra></extra>",
           "legendgroup": "NH3",
           "marker": {
            "color": "#636efa",
            "pattern": {
             "shape": ""
            }
           },
           "name": "NH3",
           "offsetgroup": "NH3",
           "orientation": "v",
           "showlegend": true,
           "textposition": "auto",
           "type": "bar",
           "x": [
            "AB",
            "BC",
            "ON",
            "MB",
            "NB",
            "NS",
            "QC",
            "SK",
            "NL",
            "PE"
           ],
           "xaxis": "x",
           "y": [
            0.0301765942786463,
            0.0041473721900434,
            0.0061141901969634,
            0.0432850676514213,
            0.0047158308235445,
            0.0035910931063156,
            0.0074002393711862,
            0.0863986752918516,
            0.0017851599531717,
            0.0184275182103642
           ],
           "yaxis": "y"
          },
          {
           "alignmentgroup": "True",
           "hovertemplate": "Pollutant=CO<br>Year=2019<br>Province=%{x}<br>By Capita=%{y}<extra></extra>",
           "legendgroup": "CO",
           "marker": {
            "color": "#EF553B",
            "pattern": {
             "shape": "/"
            }
           },
           "name": "CO",
           "offsetgroup": "CO",
           "orientation": "v",
           "showlegend": true,
           "textposition": "auto",
           "type": "bar",
           "x": [
            "AB",
            "BC",
            "ON",
            "MB",
            "NB",
            "NS",
            "QC",
            "SK",
            "NL",
            "PE"
           ],
           "xaxis": "x",
           "y": [
            0.2277613700706927,
            0.1336656375220477,
            0.0881723727238682,
            0.1285736960556646,
            0.1618921696075803,
            0.126345821195468,
            0.1487336153092822,
            0.2542608394440857,
            0.1602978193321675,
            0.1343264786064211
           ],
           "yaxis": "y"
          },
          {
           "alignmentgroup": "True",
           "hovertemplate": "Pollutant=SOX<br>Year=2019<br>Province=%{x}<br>By Capita=%{y}<extra></extra>",
           "legendgroup": "SOX",
           "marker": {
            "color": "#00cc96",
            "pattern": {
             "shape": "\\"
            }
           },
           "name": "SOX",
           "offsetgroup": "SOX",
           "orientation": "v",
           "showlegend": true,
           "textposition": "auto",
           "type": "bar",
           "x": [
            "AB",
            "BC",
            "ON",
            "MB",
            "NB",
            "NS",
            "QC",
            "SK",
            "NL",
            "PE"
           ],
           "xaxis": "x",
           "y": [
            0.0508040606403439,
            0.0135546228199078,
            0.0076692873054111,
            0.0014887423375036,
            0.0252410493662586,
            0.0545040210017398,
            0.0108543764593764,
            0.1047212228671777,
            0.0394812176277818,
            0.0020405823783182
           ],
           "yaxis": "y"
          },
          {
           "alignmentgroup": "True",
           "hovertemplate": "Pollutant=NOX<br>Year=2019<br>Province=%{x}<br>By Capita=%{y}<extra></extra>",
           "legendgroup": "NOX",
           "marker": {
            "color": "#ab63fa",
            "pattern": {
             "shape": "x"
            }
           },
           "name": "NOX",
           "offsetgroup": "NOX",
           "orientation": "v",
           "showlegend": true,
           "textposition": "auto",
           "type": "bar",
           "x": [
            "AB",
            "BC",
            "ON",
            "MB",
            "NB",
            "NS",
            "QC",
            "SK",
            "NL",
            "PE"
           ],
           "xaxis": "x",
           "y": [
            0.1436359497834382,
            0.0433809487577872,
            0.0186969198716494,
            0.0304635687716134,
            0.0345220877657215,
            0.0403539943044282,
            0.0207213373944096,
            0.1233980444241687,
            0.0798767554640791,
            0.0266655371293867
           ],
           "yaxis": "y"
          },
          {
           "alignmentgroup": "True",
           "hovertemplate": "Pollutant=VOC<br>Year=2019<br>Province=%{x}<br>By Capita=%{y}<extra></extra>",
           "legendgroup": "VOC",
           "marker": {
            "color": "#FFA15A",
            "pattern": {
             "shape": "+"
            }
           },
           "name": "VOC",
           "offsetgroup": "VOC",
           "orientation": "v",
           "showlegend": true,
           "textposition": "auto",
           "type": "bar",
           "x": [
            "AB",
            "BC",
            "ON",
            "MB",
            "NB",
            "NS",
            "QC",
            "SK",
            "NL",
            "PE"
           ],
           "xaxis": "x",
           "y": [
            0.1131013018300055,
            0.0275229752187505,
            0.0239098199204946,
            0.0466144690512608,
            0.034116539959347,
            0.0318774537077174,
            0.0276162015008755,
            0.2356047497775336,
            0.0392964215953974,
            0.0345877544901435
           ],
           "yaxis": "y"
          }
         ],
         "name": "2019"
        },
        {
         "data": [
          {
           "alignmentgroup": "True",
           "hovertemplate": "Pollutant=NH3<br>Year=2020<br>Province=%{x}<br>By Capita=%{y}<extra></extra>",
           "legendgroup": "NH3",
           "marker": {
            "color": "#636efa",
            "pattern": {
             "shape": ""
            }
           },
           "name": "NH3",
           "offsetgroup": "NH3",
           "orientation": "v",
           "showlegend": true,
           "textposition": "auto",
           "type": "bar",
           "x": [
            "AB",
            "BC",
            "ON",
            "MB",
            "NB",
            "NS",
            "QC",
            "SK",
            "NL",
            "PE"
           ],
           "xaxis": "x",
           "y": [
            0.0301587168630833,
            0.0044066589020318,
            0.0062433411797258,
            0.0453604059466186,
            0.0046653146541502,
            0.0035552877123784,
            0.0074263414653987,
            0.08624661021167,
            0.0017822632838408,
            0.0199425659321175
           ],
           "yaxis": "y"
          },
          {
           "alignmentgroup": "True",
           "hovertemplate": "Pollutant=CO<br>Year=2020<br>Province=%{x}<br>By Capita=%{y}<extra></extra>",
           "legendgroup": "CO",
           "marker": {
            "color": "#EF553B",
            "pattern": {
             "shape": "/"
            }
           },
           "name": "CO",
           "offsetgroup": "CO",
           "orientation": "v",
           "showlegend": true,
           "textposition": "auto",
           "type": "bar",
           "x": [
            "AB",
            "BC",
            "ON",
            "MB",
            "NB",
            "NS",
            "QC",
            "SK",
            "NL",
            "PE"
           ],
           "xaxis": "x",
           "y": [
            0.2016220105081781,
            0.1252536364253929,
            0.0766132604398796,
            0.1219899001767777,
            0.1406908795358716,
            0.1184666943543393,
            0.1395011876985973,
            0.2358695848745972,
            0.1609911014277946,
            0.126375991998374
           ],
           "yaxis": "y"
          },
          {
           "alignmentgroup": "True",
           "hovertemplate": "Pollutant=SOX<br>Year=2020<br>Province=%{x}<br>By Capita=%{y}<extra></extra>",
           "legendgroup": "SOX",
           "marker": {
            "color": "#00cc96",
            "pattern": {
             "shape": "\\"
            }
           },
           "name": "SOX",
           "offsetgroup": "SOX",
           "orientation": "v",
           "showlegend": true,
           "textposition": "auto",
           "type": "bar",
           "x": [
            "AB",
            "BC",
            "ON",
            "MB",
            "NB",
            "NS",
            "QC",
            "SK",
            "NL",
            "PE"
           ],
           "xaxis": "x",
           "y": [
            0.0413411502266584,
            0.0135737820891733,
            0.0076572804117822,
            0.0014023654015563,
            0.0159323599701017,
            0.05435725352036,
            0.011568783173519,
            0.0902348165819794,
            0.022079777596231,
            0.0016864731382338
           ],
           "yaxis": "y"
          },
          {
           "alignmentgroup": "True",
           "hovertemplate": "Pollutant=NOX<br>Year=2020<br>Province=%{x}<br>By Capita=%{y}<extra></extra>",
           "legendgroup": "NOX",
           "marker": {
            "color": "#ab63fa",
            "pattern": {
             "shape": "x"
            }
           },
           "name": "NOX",
           "offsetgroup": "NOX",
           "orientation": "v",
           "showlegend": true,
           "textposition": "auto",
           "type": "bar",
           "x": [
            "AB",
            "BC",
            "ON",
            "MB",
            "NB",
            "NS",
            "QC",
            "SK",
            "NL",
            "PE"
           ],
           "xaxis": "x",
           "y": [
            0.1285730633873446,
            0.0406674875999019,
            0.0155682744260972,
            0.0280678858965288,
            0.0303409974795741,
            0.0345190054818876,
            0.0180635887186685,
            0.1098312683674055,
            0.0725963682615474,
            0.0205555572895216
           ],
           "yaxis": "y"
          },
          {
           "alignmentgroup": "True",
           "hovertemplate": "Pollutant=VOC<br>Year=2020<br>Province=%{x}<br>By Capita=%{y}<extra></extra>",
           "legendgroup": "VOC",
           "marker": {
            "color": "#FFA15A",
            "pattern": {
             "shape": "+"
            }
           },
           "name": "VOC",
           "offsetgroup": "VOC",
           "orientation": "v",
           "showlegend": true,
           "textposition": "auto",
           "type": "bar",
           "x": [
            "AB",
            "BC",
            "ON",
            "MB",
            "NB",
            "NS",
            "QC",
            "SK",
            "NL",
            "PE"
           ],
           "xaxis": "x",
           "y": [
            0.1034869128675872,
            0.0254740656274259,
            0.0209284612861667,
            0.0441931587621321,
            0.0306330405338679,
            0.0284964649655274,
            0.0246898800110767,
            0.1806815346627897,
            0.0372304371018126,
            0.0312267575667464
           ],
           "yaxis": "y"
          }
         ],
         "name": "2020"
        }
       ],
       "layout": {
        "barmode": "relative",
        "height": 600,
        "legend": {
         "title": {
          "text": "Pollutant"
         },
         "tracegroupgap": 0
        },
        "margin": {
         "t": 60
        },
        "sliders": [
         {
          "active": 0,
          "currentvalue": {
           "prefix": "Year="
          },
          "len": 0.9,
          "pad": {
           "b": 10,
           "t": 60
          },
          "steps": [
           {
            "args": [
             [
              "1990"
             ],
             {
              "frame": {
               "duration": 0,
               "redraw": true
              },
              "fromcurrent": true,
              "mode": "immediate",
              "transition": {
               "duration": 0,
               "easing": "linear"
              }
             }
            ],
            "label": "1990",
            "method": "animate"
           },
           {
            "args": [
             [
              "1991"
             ],
             {
              "frame": {
               "duration": 0,
               "redraw": true
              },
              "fromcurrent": true,
              "mode": "immediate",
              "transition": {
               "duration": 0,
               "easing": "linear"
              }
             }
            ],
            "label": "1991",
            "method": "animate"
           },
           {
            "args": [
             [
              "1992"
             ],
             {
              "frame": {
               "duration": 0,
               "redraw": true
              },
              "fromcurrent": true,
              "mode": "immediate",
              "transition": {
               "duration": 0,
               "easing": "linear"
              }
             }
            ],
            "label": "1992",
            "method": "animate"
           },
           {
            "args": [
             [
              "1993"
             ],
             {
              "frame": {
               "duration": 0,
               "redraw": true
              },
              "fromcurrent": true,
              "mode": "immediate",
              "transition": {
               "duration": 0,
               "easing": "linear"
              }
             }
            ],
            "label": "1993",
            "method": "animate"
           },
           {
            "args": [
             [
              "1994"
             ],
             {
              "frame": {
               "duration": 0,
               "redraw": true
              },
              "fromcurrent": true,
              "mode": "immediate",
              "transition": {
               "duration": 0,
               "easing": "linear"
              }
             }
            ],
            "label": "1994",
            "method": "animate"
           },
           {
            "args": [
             [
              "1995"
             ],
             {
              "frame": {
               "duration": 0,
               "redraw": true
              },
              "fromcurrent": true,
              "mode": "immediate",
              "transition": {
               "duration": 0,
               "easing": "linear"
              }
             }
            ],
            "label": "1995",
            "method": "animate"
           },
           {
            "args": [
             [
              "1996"
             ],
             {
              "frame": {
               "duration": 0,
               "redraw": true
              },
              "fromcurrent": true,
              "mode": "immediate",
              "transition": {
               "duration": 0,
               "easing": "linear"
              }
             }
            ],
            "label": "1996",
            "method": "animate"
           },
           {
            "args": [
             [
              "1997"
             ],
             {
              "frame": {
               "duration": 0,
               "redraw": true
              },
              "fromcurrent": true,
              "mode": "immediate",
              "transition": {
               "duration": 0,
               "easing": "linear"
              }
             }
            ],
            "label": "1997",
            "method": "animate"
           },
           {
            "args": [
             [
              "1998"
             ],
             {
              "frame": {
               "duration": 0,
               "redraw": true
              },
              "fromcurrent": true,
              "mode": "immediate",
              "transition": {
               "duration": 0,
               "easing": "linear"
              }
             }
            ],
            "label": "1998",
            "method": "animate"
           },
           {
            "args": [
             [
              "1999"
             ],
             {
              "frame": {
               "duration": 0,
               "redraw": true
              },
              "fromcurrent": true,
              "mode": "immediate",
              "transition": {
               "duration": 0,
               "easing": "linear"
              }
             }
            ],
            "label": "1999",
            "method": "animate"
           },
           {
            "args": [
             [
              "2000"
             ],
             {
              "frame": {
               "duration": 0,
               "redraw": true
              },
              "fromcurrent": true,
              "mode": "immediate",
              "transition": {
               "duration": 0,
               "easing": "linear"
              }
             }
            ],
            "label": "2000",
            "method": "animate"
           },
           {
            "args": [
             [
              "2001"
             ],
             {
              "frame": {
               "duration": 0,
               "redraw": true
              },
              "fromcurrent": true,
              "mode": "immediate",
              "transition": {
               "duration": 0,
               "easing": "linear"
              }
             }
            ],
            "label": "2001",
            "method": "animate"
           },
           {
            "args": [
             [
              "2002"
             ],
             {
              "frame": {
               "duration": 0,
               "redraw": true
              },
              "fromcurrent": true,
              "mode": "immediate",
              "transition": {
               "duration": 0,
               "easing": "linear"
              }
             }
            ],
            "label": "2002",
            "method": "animate"
           },
           {
            "args": [
             [
              "2003"
             ],
             {
              "frame": {
               "duration": 0,
               "redraw": true
              },
              "fromcurrent": true,
              "mode": "immediate",
              "transition": {
               "duration": 0,
               "easing": "linear"
              }
             }
            ],
            "label": "2003",
            "method": "animate"
           },
           {
            "args": [
             [
              "2004"
             ],
             {
              "frame": {
               "duration": 0,
               "redraw": true
              },
              "fromcurrent": true,
              "mode": "immediate",
              "transition": {
               "duration": 0,
               "easing": "linear"
              }
             }
            ],
            "label": "2004",
            "method": "animate"
           },
           {
            "args": [
             [
              "2005"
             ],
             {
              "frame": {
               "duration": 0,
               "redraw": true
              },
              "fromcurrent": true,
              "mode": "immediate",
              "transition": {
               "duration": 0,
               "easing": "linear"
              }
             }
            ],
            "label": "2005",
            "method": "animate"
           },
           {
            "args": [
             [
              "2006"
             ],
             {
              "frame": {
               "duration": 0,
               "redraw": true
              },
              "fromcurrent": true,
              "mode": "immediate",
              "transition": {
               "duration": 0,
               "easing": "linear"
              }
             }
            ],
            "label": "2006",
            "method": "animate"
           },
           {
            "args": [
             [
              "2007"
             ],
             {
              "frame": {
               "duration": 0,
               "redraw": true
              },
              "fromcurrent": true,
              "mode": "immediate",
              "transition": {
               "duration": 0,
               "easing": "linear"
              }
             }
            ],
            "label": "2007",
            "method": "animate"
           },
           {
            "args": [
             [
              "2008"
             ],
             {
              "frame": {
               "duration": 0,
               "redraw": true
              },
              "fromcurrent": true,
              "mode": "immediate",
              "transition": {
               "duration": 0,
               "easing": "linear"
              }
             }
            ],
            "label": "2008",
            "method": "animate"
           },
           {
            "args": [
             [
              "2009"
             ],
             {
              "frame": {
               "duration": 0,
               "redraw": true
              },
              "fromcurrent": true,
              "mode": "immediate",
              "transition": {
               "duration": 0,
               "easing": "linear"
              }
             }
            ],
            "label": "2009",
            "method": "animate"
           },
           {
            "args": [
             [
              "2010"
             ],
             {
              "frame": {
               "duration": 0,
               "redraw": true
              },
              "fromcurrent": true,
              "mode": "immediate",
              "transition": {
               "duration": 0,
               "easing": "linear"
              }
             }
            ],
            "label": "2010",
            "method": "animate"
           },
           {
            "args": [
             [
              "2011"
             ],
             {
              "frame": {
               "duration": 0,
               "redraw": true
              },
              "fromcurrent": true,
              "mode": "immediate",
              "transition": {
               "duration": 0,
               "easing": "linear"
              }
             }
            ],
            "label": "2011",
            "method": "animate"
           },
           {
            "args": [
             [
              "2012"
             ],
             {
              "frame": {
               "duration": 0,
               "redraw": true
              },
              "fromcurrent": true,
              "mode": "immediate",
              "transition": {
               "duration": 0,
               "easing": "linear"
              }
             }
            ],
            "label": "2012",
            "method": "animate"
           },
           {
            "args": [
             [
              "2013"
             ],
             {
              "frame": {
               "duration": 0,
               "redraw": true
              },
              "fromcurrent": true,
              "mode": "immediate",
              "transition": {
               "duration": 0,
               "easing": "linear"
              }
             }
            ],
            "label": "2013",
            "method": "animate"
           },
           {
            "args": [
             [
              "2014"
             ],
             {
              "frame": {
               "duration": 0,
               "redraw": true
              },
              "fromcurrent": true,
              "mode": "immediate",
              "transition": {
               "duration": 0,
               "easing": "linear"
              }
             }
            ],
            "label": "2014",
            "method": "animate"
           },
           {
            "args": [
             [
              "2015"
             ],
             {
              "frame": {
               "duration": 0,
               "redraw": true
              },
              "fromcurrent": true,
              "mode": "immediate",
              "transition": {
               "duration": 0,
               "easing": "linear"
              }
             }
            ],
            "label": "2015",
            "method": "animate"
           },
           {
            "args": [
             [
              "2016"
             ],
             {
              "frame": {
               "duration": 0,
               "redraw": true
              },
              "fromcurrent": true,
              "mode": "immediate",
              "transition": {
               "duration": 0,
               "easing": "linear"
              }
             }
            ],
            "label": "2016",
            "method": "animate"
           },
           {
            "args": [
             [
              "2017"
             ],
             {
              "frame": {
               "duration": 0,
               "redraw": true
              },
              "fromcurrent": true,
              "mode": "immediate",
              "transition": {
               "duration": 0,
               "easing": "linear"
              }
             }
            ],
            "label": "2017",
            "method": "animate"
           },
           {
            "args": [
             [
              "2018"
             ],
             {
              "frame": {
               "duration": 0,
               "redraw": true
              },
              "fromcurrent": true,
              "mode": "immediate",
              "transition": {
               "duration": 0,
               "easing": "linear"
              }
             }
            ],
            "label": "2018",
            "method": "animate"
           },
           {
            "args": [
             [
              "2019"
             ],
             {
              "frame": {
               "duration": 0,
               "redraw": true
              },
              "fromcurrent": true,
              "mode": "immediate",
              "transition": {
               "duration": 0,
               "easing": "linear"
              }
             }
            ],
            "label": "2019",
            "method": "animate"
           },
           {
            "args": [
             [
              "2020"
             ],
             {
              "frame": {
               "duration": 0,
               "redraw": true
              },
              "fromcurrent": true,
              "mode": "immediate",
              "transition": {
               "duration": 0,
               "easing": "linear"
              }
             }
            ],
            "label": "2020",
            "method": "animate"
           }
          ],
          "x": 0.1,
          "xanchor": "left",
          "y": 0,
          "yanchor": "top"
         }
        ],
        "template": {
         "data": {
          "bar": [
           {
            "error_x": {
             "color": "#2a3f5f"
            },
            "error_y": {
             "color": "#2a3f5f"
            },
            "marker": {
             "line": {
              "color": "#E5ECF6",
              "width": 0.5
             },
             "pattern": {
              "fillmode": "overlay",
              "size": 10,
              "solidity": 0.2
             }
            },
            "type": "bar"
           }
          ],
          "barpolar": [
           {
            "marker": {
             "line": {
              "color": "#E5ECF6",
              "width": 0.5
             },
             "pattern": {
              "fillmode": "overlay",
              "size": 10,
              "solidity": 0.2
             }
            },
            "type": "barpolar"
           }
          ],
          "carpet": [
           {
            "aaxis": {
             "endlinecolor": "#2a3f5f",
             "gridcolor": "white",
             "linecolor": "white",
             "minorgridcolor": "white",
             "startlinecolor": "#2a3f5f"
            },
            "baxis": {
             "endlinecolor": "#2a3f5f",
             "gridcolor": "white",
             "linecolor": "white",
             "minorgridcolor": "white",
             "startlinecolor": "#2a3f5f"
            },
            "type": "carpet"
           }
          ],
          "choropleth": [
           {
            "colorbar": {
             "outlinewidth": 0,
             "ticks": ""
            },
            "type": "choropleth"
           }
          ],
          "contour": [
           {
            "colorbar": {
             "outlinewidth": 0,
             "ticks": ""
            },
            "colorscale": [
             [
              0,
              "#0d0887"
             ],
             [
              0.1111111111111111,
              "#46039f"
             ],
             [
              0.2222222222222222,
              "#7201a8"
             ],
             [
              0.3333333333333333,
              "#9c179e"
             ],
             [
              0.4444444444444444,
              "#bd3786"
             ],
             [
              0.5555555555555556,
              "#d8576b"
             ],
             [
              0.6666666666666666,
              "#ed7953"
             ],
             [
              0.7777777777777778,
              "#fb9f3a"
             ],
             [
              0.8888888888888888,
              "#fdca26"
             ],
             [
              1,
              "#f0f921"
             ]
            ],
            "type": "contour"
           }
          ],
          "contourcarpet": [
           {
            "colorbar": {
             "outlinewidth": 0,
             "ticks": ""
            },
            "type": "contourcarpet"
           }
          ],
          "heatmap": [
           {
            "colorbar": {
             "outlinewidth": 0,
             "ticks": ""
            },
            "colorscale": [
             [
              0,
              "#0d0887"
             ],
             [
              0.1111111111111111,
              "#46039f"
             ],
             [
              0.2222222222222222,
              "#7201a8"
             ],
             [
              0.3333333333333333,
              "#9c179e"
             ],
             [
              0.4444444444444444,
              "#bd3786"
             ],
             [
              0.5555555555555556,
              "#d8576b"
             ],
             [
              0.6666666666666666,
              "#ed7953"
             ],
             [
              0.7777777777777778,
              "#fb9f3a"
             ],
             [
              0.8888888888888888,
              "#fdca26"
             ],
             [
              1,
              "#f0f921"
             ]
            ],
            "type": "heatmap"
           }
          ],
          "heatmapgl": [
           {
            "colorbar": {
             "outlinewidth": 0,
             "ticks": ""
            },
            "colorscale": [
             [
              0,
              "#0d0887"
             ],
             [
              0.1111111111111111,
              "#46039f"
             ],
             [
              0.2222222222222222,
              "#7201a8"
             ],
             [
              0.3333333333333333,
              "#9c179e"
             ],
             [
              0.4444444444444444,
              "#bd3786"
             ],
             [
              0.5555555555555556,
              "#d8576b"
             ],
             [
              0.6666666666666666,
              "#ed7953"
             ],
             [
              0.7777777777777778,
              "#fb9f3a"
             ],
             [
              0.8888888888888888,
              "#fdca26"
             ],
             [
              1,
              "#f0f921"
             ]
            ],
            "type": "heatmapgl"
           }
          ],
          "histogram": [
           {
            "marker": {
             "pattern": {
              "fillmode": "overlay",
              "size": 10,
              "solidity": 0.2
             }
            },
            "type": "histogram"
           }
          ],
          "histogram2d": [
           {
            "colorbar": {
             "outlinewidth": 0,
             "ticks": ""
            },
            "colorscale": [
             [
              0,
              "#0d0887"
             ],
             [
              0.1111111111111111,
              "#46039f"
             ],
             [
              0.2222222222222222,
              "#7201a8"
             ],
             [
              0.3333333333333333,
              "#9c179e"
             ],
             [
              0.4444444444444444,
              "#bd3786"
             ],
             [
              0.5555555555555556,
              "#d8576b"
             ],
             [
              0.6666666666666666,
              "#ed7953"
             ],
             [
              0.7777777777777778,
              "#fb9f3a"
             ],
             [
              0.8888888888888888,
              "#fdca26"
             ],
             [
              1,
              "#f0f921"
             ]
            ],
            "type": "histogram2d"
           }
          ],
          "histogram2dcontour": [
           {
            "colorbar": {
             "outlinewidth": 0,
             "ticks": ""
            },
            "colorscale": [
             [
              0,
              "#0d0887"
             ],
             [
              0.1111111111111111,
              "#46039f"
             ],
             [
              0.2222222222222222,
              "#7201a8"
             ],
             [
              0.3333333333333333,
              "#9c179e"
             ],
             [
              0.4444444444444444,
              "#bd3786"
             ],
             [
              0.5555555555555556,
              "#d8576b"
             ],
             [
              0.6666666666666666,
              "#ed7953"
             ],
             [
              0.7777777777777778,
              "#fb9f3a"
             ],
             [
              0.8888888888888888,
              "#fdca26"
             ],
             [
              1,
              "#f0f921"
             ]
            ],
            "type": "histogram2dcontour"
           }
          ],
          "mesh3d": [
           {
            "colorbar": {
             "outlinewidth": 0,
             "ticks": ""
            },
            "type": "mesh3d"
           }
          ],
          "parcoords": [
           {
            "line": {
             "colorbar": {
              "outlinewidth": 0,
              "ticks": ""
             }
            },
            "type": "parcoords"
           }
          ],
          "pie": [
           {
            "automargin": true,
            "type": "pie"
           }
          ],
          "scatter": [
           {
            "fillpattern": {
             "fillmode": "overlay",
             "size": 10,
             "solidity": 0.2
            },
            "type": "scatter"
           }
          ],
          "scatter3d": [
           {
            "line": {
             "colorbar": {
              "outlinewidth": 0,
              "ticks": ""
             }
            },
            "marker": {
             "colorbar": {
              "outlinewidth": 0,
              "ticks": ""
             }
            },
            "type": "scatter3d"
           }
          ],
          "scattercarpet": [
           {
            "marker": {
             "colorbar": {
              "outlinewidth": 0,
              "ticks": ""
             }
            },
            "type": "scattercarpet"
           }
          ],
          "scattergeo": [
           {
            "marker": {
             "colorbar": {
              "outlinewidth": 0,
              "ticks": ""
             }
            },
            "type": "scattergeo"
           }
          ],
          "scattergl": [
           {
            "marker": {
             "colorbar": {
              "outlinewidth": 0,
              "ticks": ""
             }
            },
            "type": "scattergl"
           }
          ],
          "scattermapbox": [
           {
            "marker": {
             "colorbar": {
              "outlinewidth": 0,
              "ticks": ""
             }
            },
            "type": "scattermapbox"
           }
          ],
          "scatterpolar": [
           {
            "marker": {
             "colorbar": {
              "outlinewidth": 0,
              "ticks": ""
             }
            },
            "type": "scatterpolar"
           }
          ],
          "scatterpolargl": [
           {
            "marker": {
             "colorbar": {
              "outlinewidth": 0,
              "ticks": ""
             }
            },
            "type": "scatterpolargl"
           }
          ],
          "scatterternary": [
           {
            "marker": {
             "colorbar": {
              "outlinewidth": 0,
              "ticks": ""
             }
            },
            "type": "scatterternary"
           }
          ],
          "surface": [
           {
            "colorbar": {
             "outlinewidth": 0,
             "ticks": ""
            },
            "colorscale": [
             [
              0,
              "#0d0887"
             ],
             [
              0.1111111111111111,
              "#46039f"
             ],
             [
              0.2222222222222222,
              "#7201a8"
             ],
             [
              0.3333333333333333,
              "#9c179e"
             ],
             [
              0.4444444444444444,
              "#bd3786"
             ],
             [
              0.5555555555555556,
              "#d8576b"
             ],
             [
              0.6666666666666666,
              "#ed7953"
             ],
             [
              0.7777777777777778,
              "#fb9f3a"
             ],
             [
              0.8888888888888888,
              "#fdca26"
             ],
             [
              1,
              "#f0f921"
             ]
            ],
            "type": "surface"
           }
          ],
          "table": [
           {
            "cells": {
             "fill": {
              "color": "#EBF0F8"
             },
             "line": {
              "color": "white"
             }
            },
            "header": {
             "fill": {
              "color": "#C8D4E3"
             },
             "line": {
              "color": "white"
             }
            },
            "type": "table"
           }
          ]
         },
         "layout": {
          "annotationdefaults": {
           "arrowcolor": "#2a3f5f",
           "arrowhead": 0,
           "arrowwidth": 1
          },
          "autotypenumbers": "strict",
          "coloraxis": {
           "colorbar": {
            "outlinewidth": 0,
            "ticks": ""
           }
          },
          "colorscale": {
           "diverging": [
            [
             0,
             "#8e0152"
            ],
            [
             0.1,
             "#c51b7d"
            ],
            [
             0.2,
             "#de77ae"
            ],
            [
             0.3,
             "#f1b6da"
            ],
            [
             0.4,
             "#fde0ef"
            ],
            [
             0.5,
             "#f7f7f7"
            ],
            [
             0.6,
             "#e6f5d0"
            ],
            [
             0.7,
             "#b8e186"
            ],
            [
             0.8,
             "#7fbc41"
            ],
            [
             0.9,
             "#4d9221"
            ],
            [
             1,
             "#276419"
            ]
           ],
           "sequential": [
            [
             0,
             "#0d0887"
            ],
            [
             0.1111111111111111,
             "#46039f"
            ],
            [
             0.2222222222222222,
             "#7201a8"
            ],
            [
             0.3333333333333333,
             "#9c179e"
            ],
            [
             0.4444444444444444,
             "#bd3786"
            ],
            [
             0.5555555555555556,
             "#d8576b"
            ],
            [
             0.6666666666666666,
             "#ed7953"
            ],
            [
             0.7777777777777778,
             "#fb9f3a"
            ],
            [
             0.8888888888888888,
             "#fdca26"
            ],
            [
             1,
             "#f0f921"
            ]
           ],
           "sequentialminus": [
            [
             0,
             "#0d0887"
            ],
            [
             0.1111111111111111,
             "#46039f"
            ],
            [
             0.2222222222222222,
             "#7201a8"
            ],
            [
             0.3333333333333333,
             "#9c179e"
            ],
            [
             0.4444444444444444,
             "#bd3786"
            ],
            [
             0.5555555555555556,
             "#d8576b"
            ],
            [
             0.6666666666666666,
             "#ed7953"
            ],
            [
             0.7777777777777778,
             "#fb9f3a"
            ],
            [
             0.8888888888888888,
             "#fdca26"
            ],
            [
             1,
             "#f0f921"
            ]
           ]
          },
          "colorway": [
           "#636efa",
           "#EF553B",
           "#00cc96",
           "#ab63fa",
           "#FFA15A",
           "#19d3f3",
           "#FF6692",
           "#B6E880",
           "#FF97FF",
           "#FECB52"
          ],
          "font": {
           "color": "#2a3f5f"
          },
          "geo": {
           "bgcolor": "white",
           "lakecolor": "white",
           "landcolor": "#E5ECF6",
           "showlakes": true,
           "showland": true,
           "subunitcolor": "white"
          },
          "hoverlabel": {
           "align": "left"
          },
          "hovermode": "closest",
          "mapbox": {
           "style": "light"
          },
          "paper_bgcolor": "white",
          "plot_bgcolor": "#E5ECF6",
          "polar": {
           "angularaxis": {
            "gridcolor": "white",
            "linecolor": "white",
            "ticks": ""
           },
           "bgcolor": "#E5ECF6",
           "radialaxis": {
            "gridcolor": "white",
            "linecolor": "white",
            "ticks": ""
           }
          },
          "scene": {
           "xaxis": {
            "backgroundcolor": "#E5ECF6",
            "gridcolor": "white",
            "gridwidth": 2,
            "linecolor": "white",
            "showbackground": true,
            "ticks": "",
            "zerolinecolor": "white"
           },
           "yaxis": {
            "backgroundcolor": "#E5ECF6",
            "gridcolor": "white",
            "gridwidth": 2,
            "linecolor": "white",
            "showbackground": true,
            "ticks": "",
            "zerolinecolor": "white"
           },
           "zaxis": {
            "backgroundcolor": "#E5ECF6",
            "gridcolor": "white",
            "gridwidth": 2,
            "linecolor": "white",
            "showbackground": true,
            "ticks": "",
            "zerolinecolor": "white"
           }
          },
          "shapedefaults": {
           "line": {
            "color": "#2a3f5f"
           }
          },
          "ternary": {
           "aaxis": {
            "gridcolor": "white",
            "linecolor": "white",
            "ticks": ""
           },
           "baxis": {
            "gridcolor": "white",
            "linecolor": "white",
            "ticks": ""
           },
           "bgcolor": "#E5ECF6",
           "caxis": {
            "gridcolor": "white",
            "linecolor": "white",
            "ticks": ""
           }
          },
          "title": {
           "x": 0.05
          },
          "xaxis": {
           "automargin": true,
           "gridcolor": "white",
           "linecolor": "white",
           "ticks": "",
           "title": {
            "standoff": 15
           },
           "zerolinecolor": "white",
           "zerolinewidth": 2
          },
          "yaxis": {
           "automargin": true,
           "gridcolor": "white",
           "linecolor": "white",
           "ticks": "",
           "title": {
            "standoff": 15
           },
           "zerolinecolor": "white",
           "zerolinewidth": 2
          }
         }
        },
        "title": {
         "text": "Provincial Emission per Capita 1990-2020",
         "x": 0.5
        },
        "updatemenus": [
         {
          "buttons": [
           {
            "args": [
             null,
             {
              "frame": {
               "duration": 500,
               "redraw": true
              },
              "fromcurrent": true,
              "mode": "immediate",
              "transition": {
               "duration": 500,
               "easing": "linear"
              }
             }
            ],
            "label": "&#9654;",
            "method": "animate"
           },
           {
            "args": [
             [
              null
             ],
             {
              "frame": {
               "duration": 0,
               "redraw": true
              },
              "fromcurrent": true,
              "mode": "immediate",
              "transition": {
               "duration": 0,
               "easing": "linear"
              }
             }
            ],
            "label": "&#9724;",
            "method": "animate"
           }
          ],
          "direction": "left",
          "pad": {
           "r": 10,
           "t": 70
          },
          "showactive": false,
          "type": "buttons",
          "x": 0.1,
          "xanchor": "right",
          "y": 0,
          "yanchor": "top"
         }
        ],
        "width": 800,
        "xaxis": {
         "anchor": "y",
         "domain": [
          0,
          1
         ],
         "title": {
          "text": "Province"
         }
        },
        "yaxis": {
         "anchor": "x",
         "domain": [
          0,
          1
         ],
         "range": [
          0,
          1.5
         ],
         "title": {
          "text": "Annual Emissions per Capita (tonnes/capita)"
         }
        }
       }
      }
     },
     "metadata": {},
     "output_type": "display_data"
    }
   ],
   "source": [
    "with open('projects/environmental-health/figure/stacked_bar.json', 'r') as f:\n",
    "    fig = pio.from_json(f.read())\n",
    "fig.show()"
   ]
  },
  {
   "cell_type": "markdown",
   "metadata": {},
   "source": [
    "Second, we construct a **bar graph** to illustrate the cumulative contribution of air pollutants for each province."
   ]
  },
  {
   "cell_type": "code",
   "execution_count": 18,
   "metadata": {
    "tags": [
     "remove-input"
    ]
   },
   "outputs": [
    {
     "data": {
      "application/vnd.plotly.v1+json": {
       "config": {
        "plotlyServerURL": "https://plot.ly"
       },
       "data": [
        {
         "name": "CO",
         "type": "bar",
         "visible": true,
         "x": [
          "AB",
          "BC",
          "MB",
          "NB",
          "NL",
          "NS",
          "ON",
          "PE",
          "QC",
          "SK"
         ],
         "y": [
          41946958.66568156,
          41845697.0266292,
          8267194.828446357,
          7025921.834692263,
          3774899.9485389367,
          6304546.796160095,
          69624334.06878209,
          1127183.306129856,
          52564611.508487105,
          13292868.16812015
         ]
        },
        {
         "name": "NH3",
         "type": "bar",
         "visible": false,
         "x": [
          "AB",
          "BC",
          "MB",
          "NB",
          "NL",
          "NS",
          "ON",
          "PE",
          "QC",
          "SK"
         ],
         "y": [
          3989200.259315091,
          690283.4385865291,
          1637953.542176185,
          142194.5453205687,
          30799.458027829744,
          132349.89472921714,
          3074232.000441828,
          97482.89444553398,
          2018582.4480009836,
          2465965.9099005316
         ]
        },
        {
         "name": "NOX",
         "type": "bar",
         "visible": false,
         "x": [
          "AB",
          "BC",
          "MB",
          "NB",
          "NL",
          "NS",
          "ON",
          "PE",
          "QC",
          "SK"
         ],
         "y": [
          21214605.858536135,
          8206903.518110224,
          1851065.8026959684,
          1816307.2829796665,
          1528915.833122027,
          2165476.015746865,
          15186883.224171003,
          189130.03308927472,
          8155654.321929074,
          5120907.390641408
         ]
        },
        {
         "name": "SOX",
         "type": "bar",
         "visible": false,
         "x": [
          "AB",
          "BC",
          "MB",
          "NB",
          "NL",
          "NS",
          "ON",
          "PE",
          "QC",
          "SK"
         ],
         "y": [
          12840699.813067049,
          2320020.1727009164,
          8860711.928643145,
          2308227.359354756,
          1450961.3608996803,
          4269691.852034008,
          14406440.618109368,
          61059.4679257465,
          6366197.906912319,
          4027020.7752506062
         ]
        },
        {
         "name": "VOC",
         "type": "bar",
         "visible": false,
         "x": [
          "AB",
          "BC",
          "MB",
          "NB",
          "NL",
          "NS",
          "ON",
          "PE",
          "QC",
          "SK"
         ],
         "y": [
          17996496.6811455,
          7951780.660204959,
          2426976.9664337435,
          1745402.8983258926,
          1094257.2986501504,
          1546767.6802555404,
          18200321.603748266,
          243752.3629543475,
          11123000.592246976,
          7463920.748175912
         ]
        }
       ],
       "layout": {
        "annotations": [
         {
          "align": "left",
          "showarrow": false,
          "text": "Pollutant:",
          "x": 0,
          "xref": "paper",
          "y": 1.09,
          "yref": "paper"
         }
        ],
        "barmode": "group",
        "height": 500,
        "hovermode": "x unified",
        "legend": {
         "bgcolor": "rgba(0,0,0,0)",
         "x": 0.01,
         "xanchor": "left",
         "y": 1,
         "yanchor": "top"
        },
        "showlegend": false,
        "template": {
         "data": {
          "bar": [
           {
            "error_x": {
             "color": "#2a3f5f"
            },
            "error_y": {
             "color": "#2a3f5f"
            },
            "marker": {
             "line": {
              "color": "#E5ECF6",
              "width": 0.5
             },
             "pattern": {
              "fillmode": "overlay",
              "size": 10,
              "solidity": 0.2
             }
            },
            "type": "bar"
           }
          ],
          "barpolar": [
           {
            "marker": {
             "line": {
              "color": "#E5ECF6",
              "width": 0.5
             },
             "pattern": {
              "fillmode": "overlay",
              "size": 10,
              "solidity": 0.2
             }
            },
            "type": "barpolar"
           }
          ],
          "carpet": [
           {
            "aaxis": {
             "endlinecolor": "#2a3f5f",
             "gridcolor": "white",
             "linecolor": "white",
             "minorgridcolor": "white",
             "startlinecolor": "#2a3f5f"
            },
            "baxis": {
             "endlinecolor": "#2a3f5f",
             "gridcolor": "white",
             "linecolor": "white",
             "minorgridcolor": "white",
             "startlinecolor": "#2a3f5f"
            },
            "type": "carpet"
           }
          ],
          "choropleth": [
           {
            "colorbar": {
             "outlinewidth": 0,
             "ticks": ""
            },
            "type": "choropleth"
           }
          ],
          "contour": [
           {
            "colorbar": {
             "outlinewidth": 0,
             "ticks": ""
            },
            "colorscale": [
             [
              0,
              "#0d0887"
             ],
             [
              0.1111111111111111,
              "#46039f"
             ],
             [
              0.2222222222222222,
              "#7201a8"
             ],
             [
              0.3333333333333333,
              "#9c179e"
             ],
             [
              0.4444444444444444,
              "#bd3786"
             ],
             [
              0.5555555555555556,
              "#d8576b"
             ],
             [
              0.6666666666666666,
              "#ed7953"
             ],
             [
              0.7777777777777778,
              "#fb9f3a"
             ],
             [
              0.8888888888888888,
              "#fdca26"
             ],
             [
              1,
              "#f0f921"
             ]
            ],
            "type": "contour"
           }
          ],
          "contourcarpet": [
           {
            "colorbar": {
             "outlinewidth": 0,
             "ticks": ""
            },
            "type": "contourcarpet"
           }
          ],
          "heatmap": [
           {
            "colorbar": {
             "outlinewidth": 0,
             "ticks": ""
            },
            "colorscale": [
             [
              0,
              "#0d0887"
             ],
             [
              0.1111111111111111,
              "#46039f"
             ],
             [
              0.2222222222222222,
              "#7201a8"
             ],
             [
              0.3333333333333333,
              "#9c179e"
             ],
             [
              0.4444444444444444,
              "#bd3786"
             ],
             [
              0.5555555555555556,
              "#d8576b"
             ],
             [
              0.6666666666666666,
              "#ed7953"
             ],
             [
              0.7777777777777778,
              "#fb9f3a"
             ],
             [
              0.8888888888888888,
              "#fdca26"
             ],
             [
              1,
              "#f0f921"
             ]
            ],
            "type": "heatmap"
           }
          ],
          "heatmapgl": [
           {
            "colorbar": {
             "outlinewidth": 0,
             "ticks": ""
            },
            "colorscale": [
             [
              0,
              "#0d0887"
             ],
             [
              0.1111111111111111,
              "#46039f"
             ],
             [
              0.2222222222222222,
              "#7201a8"
             ],
             [
              0.3333333333333333,
              "#9c179e"
             ],
             [
              0.4444444444444444,
              "#bd3786"
             ],
             [
              0.5555555555555556,
              "#d8576b"
             ],
             [
              0.6666666666666666,
              "#ed7953"
             ],
             [
              0.7777777777777778,
              "#fb9f3a"
             ],
             [
              0.8888888888888888,
              "#fdca26"
             ],
             [
              1,
              "#f0f921"
             ]
            ],
            "type": "heatmapgl"
           }
          ],
          "histogram": [
           {
            "marker": {
             "pattern": {
              "fillmode": "overlay",
              "size": 10,
              "solidity": 0.2
             }
            },
            "type": "histogram"
           }
          ],
          "histogram2d": [
           {
            "colorbar": {
             "outlinewidth": 0,
             "ticks": ""
            },
            "colorscale": [
             [
              0,
              "#0d0887"
             ],
             [
              0.1111111111111111,
              "#46039f"
             ],
             [
              0.2222222222222222,
              "#7201a8"
             ],
             [
              0.3333333333333333,
              "#9c179e"
             ],
             [
              0.4444444444444444,
              "#bd3786"
             ],
             [
              0.5555555555555556,
              "#d8576b"
             ],
             [
              0.6666666666666666,
              "#ed7953"
             ],
             [
              0.7777777777777778,
              "#fb9f3a"
             ],
             [
              0.8888888888888888,
              "#fdca26"
             ],
             [
              1,
              "#f0f921"
             ]
            ],
            "type": "histogram2d"
           }
          ],
          "histogram2dcontour": [
           {
            "colorbar": {
             "outlinewidth": 0,
             "ticks": ""
            },
            "colorscale": [
             [
              0,
              "#0d0887"
             ],
             [
              0.1111111111111111,
              "#46039f"
             ],
             [
              0.2222222222222222,
              "#7201a8"
             ],
             [
              0.3333333333333333,
              "#9c179e"
             ],
             [
              0.4444444444444444,
              "#bd3786"
             ],
             [
              0.5555555555555556,
              "#d8576b"
             ],
             [
              0.6666666666666666,
              "#ed7953"
             ],
             [
              0.7777777777777778,
              "#fb9f3a"
             ],
             [
              0.8888888888888888,
              "#fdca26"
             ],
             [
              1,
              "#f0f921"
             ]
            ],
            "type": "histogram2dcontour"
           }
          ],
          "mesh3d": [
           {
            "colorbar": {
             "outlinewidth": 0,
             "ticks": ""
            },
            "type": "mesh3d"
           }
          ],
          "parcoords": [
           {
            "line": {
             "colorbar": {
              "outlinewidth": 0,
              "ticks": ""
             }
            },
            "type": "parcoords"
           }
          ],
          "pie": [
           {
            "automargin": true,
            "type": "pie"
           }
          ],
          "scatter": [
           {
            "fillpattern": {
             "fillmode": "overlay",
             "size": 10,
             "solidity": 0.2
            },
            "type": "scatter"
           }
          ],
          "scatter3d": [
           {
            "line": {
             "colorbar": {
              "outlinewidth": 0,
              "ticks": ""
             }
            },
            "marker": {
             "colorbar": {
              "outlinewidth": 0,
              "ticks": ""
             }
            },
            "type": "scatter3d"
           }
          ],
          "scattercarpet": [
           {
            "marker": {
             "colorbar": {
              "outlinewidth": 0,
              "ticks": ""
             }
            },
            "type": "scattercarpet"
           }
          ],
          "scattergeo": [
           {
            "marker": {
             "colorbar": {
              "outlinewidth": 0,
              "ticks": ""
             }
            },
            "type": "scattergeo"
           }
          ],
          "scattergl": [
           {
            "marker": {
             "colorbar": {
              "outlinewidth": 0,
              "ticks": ""
             }
            },
            "type": "scattergl"
           }
          ],
          "scattermapbox": [
           {
            "marker": {
             "colorbar": {
              "outlinewidth": 0,
              "ticks": ""
             }
            },
            "type": "scattermapbox"
           }
          ],
          "scatterpolar": [
           {
            "marker": {
             "colorbar": {
              "outlinewidth": 0,
              "ticks": ""
             }
            },
            "type": "scatterpolar"
           }
          ],
          "scatterpolargl": [
           {
            "marker": {
             "colorbar": {
              "outlinewidth": 0,
              "ticks": ""
             }
            },
            "type": "scatterpolargl"
           }
          ],
          "scatterternary": [
           {
            "marker": {
             "colorbar": {
              "outlinewidth": 0,
              "ticks": ""
             }
            },
            "type": "scatterternary"
           }
          ],
          "surface": [
           {
            "colorbar": {
             "outlinewidth": 0,
             "ticks": ""
            },
            "colorscale": [
             [
              0,
              "#0d0887"
             ],
             [
              0.1111111111111111,
              "#46039f"
             ],
             [
              0.2222222222222222,
              "#7201a8"
             ],
             [
              0.3333333333333333,
              "#9c179e"
             ],
             [
              0.4444444444444444,
              "#bd3786"
             ],
             [
              0.5555555555555556,
              "#d8576b"
             ],
             [
              0.6666666666666666,
              "#ed7953"
             ],
             [
              0.7777777777777778,
              "#fb9f3a"
             ],
             [
              0.8888888888888888,
              "#fdca26"
             ],
             [
              1,
              "#f0f921"
             ]
            ],
            "type": "surface"
           }
          ],
          "table": [
           {
            "cells": {
             "fill": {
              "color": "#EBF0F8"
             },
             "line": {
              "color": "white"
             }
            },
            "header": {
             "fill": {
              "color": "#C8D4E3"
             },
             "line": {
              "color": "white"
             }
            },
            "type": "table"
           }
          ]
         },
         "layout": {
          "annotationdefaults": {
           "arrowcolor": "#2a3f5f",
           "arrowhead": 0,
           "arrowwidth": 1
          },
          "autotypenumbers": "strict",
          "coloraxis": {
           "colorbar": {
            "outlinewidth": 0,
            "ticks": ""
           }
          },
          "colorscale": {
           "diverging": [
            [
             0,
             "#8e0152"
            ],
            [
             0.1,
             "#c51b7d"
            ],
            [
             0.2,
             "#de77ae"
            ],
            [
             0.3,
             "#f1b6da"
            ],
            [
             0.4,
             "#fde0ef"
            ],
            [
             0.5,
             "#f7f7f7"
            ],
            [
             0.6,
             "#e6f5d0"
            ],
            [
             0.7,
             "#b8e186"
            ],
            [
             0.8,
             "#7fbc41"
            ],
            [
             0.9,
             "#4d9221"
            ],
            [
             1,
             "#276419"
            ]
           ],
           "sequential": [
            [
             0,
             "#0d0887"
            ],
            [
             0.1111111111111111,
             "#46039f"
            ],
            [
             0.2222222222222222,
             "#7201a8"
            ],
            [
             0.3333333333333333,
             "#9c179e"
            ],
            [
             0.4444444444444444,
             "#bd3786"
            ],
            [
             0.5555555555555556,
             "#d8576b"
            ],
            [
             0.6666666666666666,
             "#ed7953"
            ],
            [
             0.7777777777777778,
             "#fb9f3a"
            ],
            [
             0.8888888888888888,
             "#fdca26"
            ],
            [
             1,
             "#f0f921"
            ]
           ],
           "sequentialminus": [
            [
             0,
             "#0d0887"
            ],
            [
             0.1111111111111111,
             "#46039f"
            ],
            [
             0.2222222222222222,
             "#7201a8"
            ],
            [
             0.3333333333333333,
             "#9c179e"
            ],
            [
             0.4444444444444444,
             "#bd3786"
            ],
            [
             0.5555555555555556,
             "#d8576b"
            ],
            [
             0.6666666666666666,
             "#ed7953"
            ],
            [
             0.7777777777777778,
             "#fb9f3a"
            ],
            [
             0.8888888888888888,
             "#fdca26"
            ],
            [
             1,
             "#f0f921"
            ]
           ]
          },
          "colorway": [
           "#636efa",
           "#EF553B",
           "#00cc96",
           "#ab63fa",
           "#FFA15A",
           "#19d3f3",
           "#FF6692",
           "#B6E880",
           "#FF97FF",
           "#FECB52"
          ],
          "font": {
           "color": "#2a3f5f"
          },
          "geo": {
           "bgcolor": "white",
           "lakecolor": "white",
           "landcolor": "#E5ECF6",
           "showlakes": true,
           "showland": true,
           "subunitcolor": "white"
          },
          "hoverlabel": {
           "align": "left"
          },
          "hovermode": "closest",
          "mapbox": {
           "style": "light"
          },
          "paper_bgcolor": "white",
          "plot_bgcolor": "#E5ECF6",
          "polar": {
           "angularaxis": {
            "gridcolor": "white",
            "linecolor": "white",
            "ticks": ""
           },
           "bgcolor": "#E5ECF6",
           "radialaxis": {
            "gridcolor": "white",
            "linecolor": "white",
            "ticks": ""
           }
          },
          "scene": {
           "xaxis": {
            "backgroundcolor": "#E5ECF6",
            "gridcolor": "white",
            "gridwidth": 2,
            "linecolor": "white",
            "showbackground": true,
            "ticks": "",
            "zerolinecolor": "white"
           },
           "yaxis": {
            "backgroundcolor": "#E5ECF6",
            "gridcolor": "white",
            "gridwidth": 2,
            "linecolor": "white",
            "showbackground": true,
            "ticks": "",
            "zerolinecolor": "white"
           },
           "zaxis": {
            "backgroundcolor": "#E5ECF6",
            "gridcolor": "white",
            "gridwidth": 2,
            "linecolor": "white",
            "showbackground": true,
            "ticks": "",
            "zerolinecolor": "white"
           }
          },
          "shapedefaults": {
           "line": {
            "color": "#2a3f5f"
           }
          },
          "ternary": {
           "aaxis": {
            "gridcolor": "white",
            "linecolor": "white",
            "ticks": ""
           },
           "baxis": {
            "gridcolor": "white",
            "linecolor": "white",
            "ticks": ""
           },
           "bgcolor": "#E5ECF6",
           "caxis": {
            "gridcolor": "white",
            "linecolor": "white",
            "ticks": ""
           }
          },
          "title": {
           "x": 0.05
          },
          "xaxis": {
           "automargin": true,
           "gridcolor": "white",
           "linecolor": "white",
           "ticks": "",
           "title": {
            "standoff": 15
           },
           "zerolinecolor": "white",
           "zerolinewidth": 2
          },
          "yaxis": {
           "automargin": true,
           "gridcolor": "white",
           "linecolor": "white",
           "ticks": "",
           "title": {
            "standoff": 15
           },
           "zerolinecolor": "white",
           "zerolinewidth": 2
          }
         }
        },
        "title": {
         "text": "Cumulative Air Pollutants Emission Across Provinces 1990-2020",
         "x": 0.5
        },
        "updatemenus": [
         {
          "active": 0,
          "buttons": [
           {
            "args": [
             {
              "visible": [
               true,
               false,
               false,
               false,
               false
              ]
             }
            ],
            "label": "CO",
            "method": "update"
           },
           {
            "args": [
             {
              "visible": [
               false,
               true,
               false,
               false,
               false
              ]
             }
            ],
            "label": "NH3",
            "method": "update"
           },
           {
            "args": [
             {
              "visible": [
               false,
               false,
               true,
               false,
               false
              ]
             }
            ],
            "label": "NOX",
            "method": "update"
           },
           {
            "args": [
             {
              "visible": [
               false,
               false,
               false,
               true,
               false
              ]
             }
            ],
            "label": "SOX",
            "method": "update"
           },
           {
            "args": [
             {
              "visible": [
               false,
               false,
               false,
               false,
               true
              ]
             }
            ],
            "label": "VOC",
            "method": "update"
           }
          ],
          "direction": "down",
          "pad": {
           "r": 10,
           "t": 10
          },
          "showactive": true,
          "x": 0.11,
          "xanchor": "left",
          "y": 1.15,
          "yanchor": "top"
         }
        ],
        "width": 800,
        "xaxis": {
         "title": {
          "text": "Province"
         }
        },
        "yaxis": {
         "title": {
          "text": "Emission per Capita (tonnes/capita)"
         }
        }
       }
      }
     },
     "metadata": {},
     "output_type": "display_data"
    }
   ],
   "source": [
    "with open('projects/environmental-health/figure/bar_fig.json', 'r') as f:\n",
    "    fig = pio.from_json(f.read())\n",
    "fig.show()"
   ]
  },
  {
   "cell_type": "markdown",
   "metadata": {},
   "source": [
    "Lastly, we create a **pie graph** to visualize provincial contributions to total air pollutant emissions. This pie graph facilitates a simpler observation of the provincial breakdown of pollutant emissions."
   ]
  },
  {
   "cell_type": "code",
   "execution_count": 19,
   "metadata": {
    "tags": [
     "remove-input"
    ]
   },
   "outputs": [
    {
     "data": {
      "application/vnd.plotly.v1+json": {
       "config": {
        "plotlyServerURL": "https://plot.ly"
       },
       "data": [
        {
         "insidetextorientation": "radial",
         "labels": [
          "AB",
          "BC",
          "ON",
          "MB",
          "NB",
          "NS",
          "YT",
          "QC",
          "SK",
          "NL",
          "PE"
         ],
         "marker": {
          "line": {
           "color": "#FFFFFF",
           "width": 1.5
          }
         },
         "name": "CO",
         "sort": false,
         "textinfo": "percent+label",
         "textposition": "inside",
         "type": "pie",
         "values": [
          0.4268339248913951,
          0.3401565580735238,
          0.2269061156581471,
          0.3014165764775366,
          0.2254389359128817,
          0.217794190078447,
          0.189769580594253,
          0.2642893046246796,
          0.2245449716411087,
          0.4145660542227241
         ],
         "visible": true
        },
        {
         "insidetextorientation": "radial",
         "labels": [
          "AB",
          "BC",
          "ON",
          "MB",
          "NB",
          "NS",
          "YT",
          "QC",
          "SK",
          "NL",
          "PE"
         ],
         "marker": {
          "line": {
           "color": "#FFFFFF",
           "width": 1.5
          }
         },
         "name": "NH3",
         "sort": false,
         "textinfo": "percent+label",
         "textposition": "inside",
         "type": "pie",
         "values": [
          0.0385779978224951,
          0.0053563048113876,
          0.0439345355142765,
          0.0060920249871574,
          0.0018567303934351,
          0.004561598791328,
          0.0081445202442696,
          0.0226120477522811,
          0.008525442575522,
          0.0755594356997364
         ],
         "visible": false
        },
        {
         "insidetextorientation": "radial",
         "labels": [
          "AB",
          "BC",
          "ON",
          "MB",
          "NB",
          "NS",
          "YT",
          "QC",
          "SK",
          "NL",
          "PE"
         ],
         "marker": {
          "line": {
           "color": "#FFFFFF",
           "width": 1.5
          }
         },
         "name": "NOX",
         "sort": false,
         "textinfo": "percent+label",
         "textposition": "inside",
         "type": "pie",
         "values": [
          0.2091314961843391,
          0.0640604292606989,
          0.0505658733815328,
          0.0779881764720601,
          0.0922532090066381,
          0.074748274676987,
          0.0411023726932467,
          0.0441065642683178,
          0.0348740182338435,
          0.1588551170490921
         ],
         "visible": false
        },
        {
         "insidetextorientation": "radial",
         "labels": [
          "AB",
          "BC",
          "ON",
          "MB",
          "NB",
          "NS",
          "YT",
          "QC",
          "SK",
          "NL",
          "PE"
         ],
         "marker": {
          "line": {
           "color": "#FFFFFF",
           "width": 1.5
          }
         },
         "name": "SOX",
         "sort": false,
         "textinfo": "percent+label",
         "textposition": "inside",
         "type": "pie",
         "values": [
          0.131819533673919,
          0.0181017718659635,
          0.245935508513556,
          0.0992550858261992,
          0.0863958978534495,
          0.1476232060016874,
          0.0398970825060214,
          0.0144500132408426,
          0.0274082259160084,
          0.1246841408901552
         ],
         "visible": false
        },
        {
         "insidetextorientation": "radial",
         "labels": [
          "AB",
          "BC",
          "ON",
          "MB",
          "NB",
          "NS",
          "YT",
          "QC",
          "SK",
          "NL",
          "PE"
         ],
         "marker": {
          "line": {
           "color": "#FFFFFF",
           "width": 1.5
          }
         },
         "name": "VOC",
         "sort": false,
         "textinfo": "percent+label",
         "textposition": "inside",
         "type": "pie",
         "values": [
          0.1796159068098924,
          0.0637723503880646,
          0.0660556250453925,
          0.0749193558020461,
          0.0655630657274882,
          0.0534176450352083,
          0.0494761306290896,
          0.0569544755740267,
          0.0476718656708734,
          0.2297594960953784
         ],
         "visible": false
        }
       ],
       "layout": {
        "annotations": [
         {
          "align": "left",
          "showarrow": false,
          "text": "Pollutant:",
          "x": 0,
          "xref": "paper",
          "y": 1.09,
          "yref": "paper"
         }
        ],
        "height": 500,
        "legend": {
         "bgcolor": "rgba(0,0,0,0)",
         "x": 0.01,
         "xanchor": "left",
         "y": 1,
         "yanchor": "top"
        },
        "showlegend": true,
        "template": {
         "data": {
          "bar": [
           {
            "error_x": {
             "color": "#2a3f5f"
            },
            "error_y": {
             "color": "#2a3f5f"
            },
            "marker": {
             "line": {
              "color": "#E5ECF6",
              "width": 0.5
             },
             "pattern": {
              "fillmode": "overlay",
              "size": 10,
              "solidity": 0.2
             }
            },
            "type": "bar"
           }
          ],
          "barpolar": [
           {
            "marker": {
             "line": {
              "color": "#E5ECF6",
              "width": 0.5
             },
             "pattern": {
              "fillmode": "overlay",
              "size": 10,
              "solidity": 0.2
             }
            },
            "type": "barpolar"
           }
          ],
          "carpet": [
           {
            "aaxis": {
             "endlinecolor": "#2a3f5f",
             "gridcolor": "white",
             "linecolor": "white",
             "minorgridcolor": "white",
             "startlinecolor": "#2a3f5f"
            },
            "baxis": {
             "endlinecolor": "#2a3f5f",
             "gridcolor": "white",
             "linecolor": "white",
             "minorgridcolor": "white",
             "startlinecolor": "#2a3f5f"
            },
            "type": "carpet"
           }
          ],
          "choropleth": [
           {
            "colorbar": {
             "outlinewidth": 0,
             "ticks": ""
            },
            "type": "choropleth"
           }
          ],
          "contour": [
           {
            "colorbar": {
             "outlinewidth": 0,
             "ticks": ""
            },
            "colorscale": [
             [
              0,
              "#0d0887"
             ],
             [
              0.1111111111111111,
              "#46039f"
             ],
             [
              0.2222222222222222,
              "#7201a8"
             ],
             [
              0.3333333333333333,
              "#9c179e"
             ],
             [
              0.4444444444444444,
              "#bd3786"
             ],
             [
              0.5555555555555556,
              "#d8576b"
             ],
             [
              0.6666666666666666,
              "#ed7953"
             ],
             [
              0.7777777777777778,
              "#fb9f3a"
             ],
             [
              0.8888888888888888,
              "#fdca26"
             ],
             [
              1,
              "#f0f921"
             ]
            ],
            "type": "contour"
           }
          ],
          "contourcarpet": [
           {
            "colorbar": {
             "outlinewidth": 0,
             "ticks": ""
            },
            "type": "contourcarpet"
           }
          ],
          "heatmap": [
           {
            "colorbar": {
             "outlinewidth": 0,
             "ticks": ""
            },
            "colorscale": [
             [
              0,
              "#0d0887"
             ],
             [
              0.1111111111111111,
              "#46039f"
             ],
             [
              0.2222222222222222,
              "#7201a8"
             ],
             [
              0.3333333333333333,
              "#9c179e"
             ],
             [
              0.4444444444444444,
              "#bd3786"
             ],
             [
              0.5555555555555556,
              "#d8576b"
             ],
             [
              0.6666666666666666,
              "#ed7953"
             ],
             [
              0.7777777777777778,
              "#fb9f3a"
             ],
             [
              0.8888888888888888,
              "#fdca26"
             ],
             [
              1,
              "#f0f921"
             ]
            ],
            "type": "heatmap"
           }
          ],
          "heatmapgl": [
           {
            "colorbar": {
             "outlinewidth": 0,
             "ticks": ""
            },
            "colorscale": [
             [
              0,
              "#0d0887"
             ],
             [
              0.1111111111111111,
              "#46039f"
             ],
             [
              0.2222222222222222,
              "#7201a8"
             ],
             [
              0.3333333333333333,
              "#9c179e"
             ],
             [
              0.4444444444444444,
              "#bd3786"
             ],
             [
              0.5555555555555556,
              "#d8576b"
             ],
             [
              0.6666666666666666,
              "#ed7953"
             ],
             [
              0.7777777777777778,
              "#fb9f3a"
             ],
             [
              0.8888888888888888,
              "#fdca26"
             ],
             [
              1,
              "#f0f921"
             ]
            ],
            "type": "heatmapgl"
           }
          ],
          "histogram": [
           {
            "marker": {
             "pattern": {
              "fillmode": "overlay",
              "size": 10,
              "solidity": 0.2
             }
            },
            "type": "histogram"
           }
          ],
          "histogram2d": [
           {
            "colorbar": {
             "outlinewidth": 0,
             "ticks": ""
            },
            "colorscale": [
             [
              0,
              "#0d0887"
             ],
             [
              0.1111111111111111,
              "#46039f"
             ],
             [
              0.2222222222222222,
              "#7201a8"
             ],
             [
              0.3333333333333333,
              "#9c179e"
             ],
             [
              0.4444444444444444,
              "#bd3786"
             ],
             [
              0.5555555555555556,
              "#d8576b"
             ],
             [
              0.6666666666666666,
              "#ed7953"
             ],
             [
              0.7777777777777778,
              "#fb9f3a"
             ],
             [
              0.8888888888888888,
              "#fdca26"
             ],
             [
              1,
              "#f0f921"
             ]
            ],
            "type": "histogram2d"
           }
          ],
          "histogram2dcontour": [
           {
            "colorbar": {
             "outlinewidth": 0,
             "ticks": ""
            },
            "colorscale": [
             [
              0,
              "#0d0887"
             ],
             [
              0.1111111111111111,
              "#46039f"
             ],
             [
              0.2222222222222222,
              "#7201a8"
             ],
             [
              0.3333333333333333,
              "#9c179e"
             ],
             [
              0.4444444444444444,
              "#bd3786"
             ],
             [
              0.5555555555555556,
              "#d8576b"
             ],
             [
              0.6666666666666666,
              "#ed7953"
             ],
             [
              0.7777777777777778,
              "#fb9f3a"
             ],
             [
              0.8888888888888888,
              "#fdca26"
             ],
             [
              1,
              "#f0f921"
             ]
            ],
            "type": "histogram2dcontour"
           }
          ],
          "mesh3d": [
           {
            "colorbar": {
             "outlinewidth": 0,
             "ticks": ""
            },
            "type": "mesh3d"
           }
          ],
          "parcoords": [
           {
            "line": {
             "colorbar": {
              "outlinewidth": 0,
              "ticks": ""
             }
            },
            "type": "parcoords"
           }
          ],
          "pie": [
           {
            "automargin": true,
            "type": "pie"
           }
          ],
          "scatter": [
           {
            "fillpattern": {
             "fillmode": "overlay",
             "size": 10,
             "solidity": 0.2
            },
            "type": "scatter"
           }
          ],
          "scatter3d": [
           {
            "line": {
             "colorbar": {
              "outlinewidth": 0,
              "ticks": ""
             }
            },
            "marker": {
             "colorbar": {
              "outlinewidth": 0,
              "ticks": ""
             }
            },
            "type": "scatter3d"
           }
          ],
          "scattercarpet": [
           {
            "marker": {
             "colorbar": {
              "outlinewidth": 0,
              "ticks": ""
             }
            },
            "type": "scattercarpet"
           }
          ],
          "scattergeo": [
           {
            "marker": {
             "colorbar": {
              "outlinewidth": 0,
              "ticks": ""
             }
            },
            "type": "scattergeo"
           }
          ],
          "scattergl": [
           {
            "marker": {
             "colorbar": {
              "outlinewidth": 0,
              "ticks": ""
             }
            },
            "type": "scattergl"
           }
          ],
          "scattermapbox": [
           {
            "marker": {
             "colorbar": {
              "outlinewidth": 0,
              "ticks": ""
             }
            },
            "type": "scattermapbox"
           }
          ],
          "scatterpolar": [
           {
            "marker": {
             "colorbar": {
              "outlinewidth": 0,
              "ticks": ""
             }
            },
            "type": "scatterpolar"
           }
          ],
          "scatterpolargl": [
           {
            "marker": {
             "colorbar": {
              "outlinewidth": 0,
              "ticks": ""
             }
            },
            "type": "scatterpolargl"
           }
          ],
          "scatterternary": [
           {
            "marker": {
             "colorbar": {
              "outlinewidth": 0,
              "ticks": ""
             }
            },
            "type": "scatterternary"
           }
          ],
          "surface": [
           {
            "colorbar": {
             "outlinewidth": 0,
             "ticks": ""
            },
            "colorscale": [
             [
              0,
              "#0d0887"
             ],
             [
              0.1111111111111111,
              "#46039f"
             ],
             [
              0.2222222222222222,
              "#7201a8"
             ],
             [
              0.3333333333333333,
              "#9c179e"
             ],
             [
              0.4444444444444444,
              "#bd3786"
             ],
             [
              0.5555555555555556,
              "#d8576b"
             ],
             [
              0.6666666666666666,
              "#ed7953"
             ],
             [
              0.7777777777777778,
              "#fb9f3a"
             ],
             [
              0.8888888888888888,
              "#fdca26"
             ],
             [
              1,
              "#f0f921"
             ]
            ],
            "type": "surface"
           }
          ],
          "table": [
           {
            "cells": {
             "fill": {
              "color": "#EBF0F8"
             },
             "line": {
              "color": "white"
             }
            },
            "header": {
             "fill": {
              "color": "#C8D4E3"
             },
             "line": {
              "color": "white"
             }
            },
            "type": "table"
           }
          ]
         },
         "layout": {
          "annotationdefaults": {
           "arrowcolor": "#2a3f5f",
           "arrowhead": 0,
           "arrowwidth": 1
          },
          "autotypenumbers": "strict",
          "coloraxis": {
           "colorbar": {
            "outlinewidth": 0,
            "ticks": ""
           }
          },
          "colorscale": {
           "diverging": [
            [
             0,
             "#8e0152"
            ],
            [
             0.1,
             "#c51b7d"
            ],
            [
             0.2,
             "#de77ae"
            ],
            [
             0.3,
             "#f1b6da"
            ],
            [
             0.4,
             "#fde0ef"
            ],
            [
             0.5,
             "#f7f7f7"
            ],
            [
             0.6,
             "#e6f5d0"
            ],
            [
             0.7,
             "#b8e186"
            ],
            [
             0.8,
             "#7fbc41"
            ],
            [
             0.9,
             "#4d9221"
            ],
            [
             1,
             "#276419"
            ]
           ],
           "sequential": [
            [
             0,
             "#0d0887"
            ],
            [
             0.1111111111111111,
             "#46039f"
            ],
            [
             0.2222222222222222,
             "#7201a8"
            ],
            [
             0.3333333333333333,
             "#9c179e"
            ],
            [
             0.4444444444444444,
             "#bd3786"
            ],
            [
             0.5555555555555556,
             "#d8576b"
            ],
            [
             0.6666666666666666,
             "#ed7953"
            ],
            [
             0.7777777777777778,
             "#fb9f3a"
            ],
            [
             0.8888888888888888,
             "#fdca26"
            ],
            [
             1,
             "#f0f921"
            ]
           ],
           "sequentialminus": [
            [
             0,
             "#0d0887"
            ],
            [
             0.1111111111111111,
             "#46039f"
            ],
            [
             0.2222222222222222,
             "#7201a8"
            ],
            [
             0.3333333333333333,
             "#9c179e"
            ],
            [
             0.4444444444444444,
             "#bd3786"
            ],
            [
             0.5555555555555556,
             "#d8576b"
            ],
            [
             0.6666666666666666,
             "#ed7953"
            ],
            [
             0.7777777777777778,
             "#fb9f3a"
            ],
            [
             0.8888888888888888,
             "#fdca26"
            ],
            [
             1,
             "#f0f921"
            ]
           ]
          },
          "colorway": [
           "#636efa",
           "#EF553B",
           "#00cc96",
           "#ab63fa",
           "#FFA15A",
           "#19d3f3",
           "#FF6692",
           "#B6E880",
           "#FF97FF",
           "#FECB52"
          ],
          "font": {
           "color": "#2a3f5f"
          },
          "geo": {
           "bgcolor": "white",
           "lakecolor": "white",
           "landcolor": "#E5ECF6",
           "showlakes": true,
           "showland": true,
           "subunitcolor": "white"
          },
          "hoverlabel": {
           "align": "left"
          },
          "hovermode": "closest",
          "mapbox": {
           "style": "light"
          },
          "paper_bgcolor": "white",
          "plot_bgcolor": "#E5ECF6",
          "polar": {
           "angularaxis": {
            "gridcolor": "white",
            "linecolor": "white",
            "ticks": ""
           },
           "bgcolor": "#E5ECF6",
           "radialaxis": {
            "gridcolor": "white",
            "linecolor": "white",
            "ticks": ""
           }
          },
          "scene": {
           "xaxis": {
            "backgroundcolor": "#E5ECF6",
            "gridcolor": "white",
            "gridwidth": 2,
            "linecolor": "white",
            "showbackground": true,
            "ticks": "",
            "zerolinecolor": "white"
           },
           "yaxis": {
            "backgroundcolor": "#E5ECF6",
            "gridcolor": "white",
            "gridwidth": 2,
            "linecolor": "white",
            "showbackground": true,
            "ticks": "",
            "zerolinecolor": "white"
           },
           "zaxis": {
            "backgroundcolor": "#E5ECF6",
            "gridcolor": "white",
            "gridwidth": 2,
            "linecolor": "white",
            "showbackground": true,
            "ticks": "",
            "zerolinecolor": "white"
           }
          },
          "shapedefaults": {
           "line": {
            "color": "#2a3f5f"
           }
          },
          "ternary": {
           "aaxis": {
            "gridcolor": "white",
            "linecolor": "white",
            "ticks": ""
           },
           "baxis": {
            "gridcolor": "white",
            "linecolor": "white",
            "ticks": ""
           },
           "bgcolor": "#E5ECF6",
           "caxis": {
            "gridcolor": "white",
            "linecolor": "white",
            "ticks": ""
           }
          },
          "title": {
           "x": 0.05
          },
          "xaxis": {
           "automargin": true,
           "gridcolor": "white",
           "linecolor": "white",
           "ticks": "",
           "title": {
            "standoff": 15
           },
           "zerolinecolor": "white",
           "zerolinewidth": 2
          },
          "yaxis": {
           "automargin": true,
           "gridcolor": "white",
           "linecolor": "white",
           "ticks": "",
           "title": {
            "standoff": 15
           },
           "zerolinecolor": "white",
           "zerolinewidth": 2
          }
         }
        },
        "title": {
         "text": "Provincial Mean for Air Pollutant Emission per Capita 1990-2020",
         "x": 0.5
        },
        "updatemenus": [
         {
          "active": 0,
          "buttons": [
           {
            "args": [
             {
              "visible": [
               true,
               false,
               false,
               false,
               false
              ]
             }
            ],
            "label": "CO",
            "method": "update"
           },
           {
            "args": [
             {
              "visible": [
               false,
               true,
               false,
               false,
               false
              ]
             }
            ],
            "label": "NH3",
            "method": "update"
           },
           {
            "args": [
             {
              "visible": [
               false,
               false,
               true,
               false,
               false
              ]
             }
            ],
            "label": "NOX",
            "method": "update"
           },
           {
            "args": [
             {
              "visible": [
               false,
               false,
               false,
               true,
               false
              ]
             }
            ],
            "label": "SOX",
            "method": "update"
           },
           {
            "args": [
             {
              "visible": [
               false,
               false,
               false,
               false,
               true
              ]
             }
            ],
            "label": "VOC",
            "method": "update"
           }
          ],
          "direction": "down",
          "pad": {
           "r": 10,
           "t": 10
          },
          "showactive": true,
          "x": 0.11,
          "xanchor": "left",
          "y": 1.15,
          "yanchor": "top"
         }
        ],
        "width": 800,
        "xaxis": {
         "title": {
          "text": "Province"
         }
        },
        "yaxis": {
         "title": {
          "text": "Emission per Capita (tonnes/capita)"
         }
        }
       }
      }
     },
     "metadata": {},
     "output_type": "display_data"
    }
   ],
   "source": [
    "with open('projects/environmental-health/figure/pie_fig.json', 'r') as f:\n",
    "    fig = pio.from_json(f.read())\n",
    "fig.show()"
   ]
  },
  {
   "cell_type": "markdown",
   "metadata": {},
   "source": [
    "Now we examine the combined wildfire and PM2.5 data. Here, we've created subplots of scatterplots to illustrate any relationships present between the two datasets. We observe similar trends in the wildfire data and PM2.5 emission data, as expected. However, what do these patterns truly signify?"
   ]
  },
  {
   "cell_type": "code",
   "execution_count": 20,
   "metadata": {
    "tags": [
     "remove-input"
    ]
   },
   "outputs": [
    {
     "data": {
      "application/vnd.plotly.v1+json": {
       "config": {
        "plotlyServerURL": "https://plot.ly"
       },
       "data": [
        {
         "legendgroup": "group1",
         "name": "Total PM2.5 Emission(tonnes)",
         "showlegend": true,
         "type": "scatter",
         "x": [
          "AB",
          "BC",
          "MB",
          "NB",
          "NL",
          "NS",
          "ON",
          "PE",
          "QC",
          "SK"
         ],
         "xaxis": "x",
         "y": [
          13308215.431345392,
          2600960.148195841,
          3077027.493711514,
          621120.6648935655,
          487498.1766003918,
          645516.8551247807,
          5625879.9898003545,
          123533.51021445422,
          3890464.0154027697,
          14223731.34426682
         ],
         "yaxis": "y"
        },
        {
         "legendgroup": "group1",
         "name": "Total number of wildfire",
         "showlegend": true,
         "type": "scatter",
         "x": [
          "AB",
          "BC",
          "MB",
          "NB",
          "NL",
          "NS",
          "ON",
          "PE",
          "QC",
          "SK"
         ],
         "xaxis": "x",
         "y": [
          38015,
          56698,
          10953,
          9985,
          2937,
          8841,
          35041,
          11,
          21222,
          16964
         ],
         "yaxis": "y2"
        },
        {
         "legendgroup": "group2",
         "name": "Total PM2.5 Emission(tonnes)",
         "showlegend": true,
         "type": "scatter",
         "x": [
          "AB",
          "BC",
          "MB",
          "NB",
          "NL",
          "NS",
          "ON",
          "PE",
          "QC",
          "SK"
         ],
         "xaxis": "x2",
         "y": [
          13308215.431345392,
          2600960.148195841,
          3077027.493711514,
          621120.6648935655,
          487498.1766003918,
          645516.8551247807,
          5625879.9898003545,
          123533.51021445422,
          3890464.0154027697,
          14223731.34426682
         ],
         "yaxis": "y3"
        },
        {
         "legendgroup": "group2",
         "name": "Total area burned (hectres)",
         "showlegend": true,
         "type": "scatter",
         "x": [
          "AB",
          "BC",
          "MB",
          "NB",
          "NL",
          "NS",
          "ON",
          "PE",
          "QC",
          "SK"
         ],
         "xaxis": "x2",
         "y": [
          5923754.080000004,
          5123187.9860000005,
          6672827.799999994,
          29089.400000000005,
          414891.66618,
          21594.801600305625,
          4865411.700084934,
          21.6012797019822,
          8173950.999999997,
          14885774.27765337
         ],
         "yaxis": "y4"
        }
       ],
       "layout": {
        "annotations": [
         {
          "font": {
           "size": 15
          },
          "showarrow": false,
          "text": "Total PM2.5 Emission vs. Total Number of Fire",
          "x": 0.47,
          "xanchor": "center",
          "xref": "paper",
          "y": 1,
          "yanchor": "bottom",
          "yref": "paper"
         },
         {
          "font": {
           "size": 15
          },
          "showarrow": false,
          "text": "Total PM2.5 Emission vs. Total Area Burned",
          "x": 0.47,
          "xanchor": "center",
          "xref": "paper",
          "y": 0.45,
          "yanchor": "bottom",
          "yref": "paper"
         }
        ],
        "font": {
         "size": 10
        },
        "height": 800,
        "hovermode": "x unified",
        "legend": {
         "bgcolor": "rgba(0,0,0,0)",
         "tracegroupgap": 305,
         "x": 0.01,
         "xanchor": "left",
         "y": 1,
         "yanchor": "top"
        },
        "template": {
         "data": {
          "bar": [
           {
            "error_x": {
             "color": "#2a3f5f"
            },
            "error_y": {
             "color": "#2a3f5f"
            },
            "marker": {
             "line": {
              "color": "#E5ECF6",
              "width": 0.5
             },
             "pattern": {
              "fillmode": "overlay",
              "size": 10,
              "solidity": 0.2
             }
            },
            "type": "bar"
           }
          ],
          "barpolar": [
           {
            "marker": {
             "line": {
              "color": "#E5ECF6",
              "width": 0.5
             },
             "pattern": {
              "fillmode": "overlay",
              "size": 10,
              "solidity": 0.2
             }
            },
            "type": "barpolar"
           }
          ],
          "carpet": [
           {
            "aaxis": {
             "endlinecolor": "#2a3f5f",
             "gridcolor": "white",
             "linecolor": "white",
             "minorgridcolor": "white",
             "startlinecolor": "#2a3f5f"
            },
            "baxis": {
             "endlinecolor": "#2a3f5f",
             "gridcolor": "white",
             "linecolor": "white",
             "minorgridcolor": "white",
             "startlinecolor": "#2a3f5f"
            },
            "type": "carpet"
           }
          ],
          "choropleth": [
           {
            "colorbar": {
             "outlinewidth": 0,
             "ticks": ""
            },
            "type": "choropleth"
           }
          ],
          "contour": [
           {
            "colorbar": {
             "outlinewidth": 0,
             "ticks": ""
            },
            "colorscale": [
             [
              0,
              "#0d0887"
             ],
             [
              0.1111111111111111,
              "#46039f"
             ],
             [
              0.2222222222222222,
              "#7201a8"
             ],
             [
              0.3333333333333333,
              "#9c179e"
             ],
             [
              0.4444444444444444,
              "#bd3786"
             ],
             [
              0.5555555555555556,
              "#d8576b"
             ],
             [
              0.6666666666666666,
              "#ed7953"
             ],
             [
              0.7777777777777778,
              "#fb9f3a"
             ],
             [
              0.8888888888888888,
              "#fdca26"
             ],
             [
              1,
              "#f0f921"
             ]
            ],
            "type": "contour"
           }
          ],
          "contourcarpet": [
           {
            "colorbar": {
             "outlinewidth": 0,
             "ticks": ""
            },
            "type": "contourcarpet"
           }
          ],
          "heatmap": [
           {
            "colorbar": {
             "outlinewidth": 0,
             "ticks": ""
            },
            "colorscale": [
             [
              0,
              "#0d0887"
             ],
             [
              0.1111111111111111,
              "#46039f"
             ],
             [
              0.2222222222222222,
              "#7201a8"
             ],
             [
              0.3333333333333333,
              "#9c179e"
             ],
             [
              0.4444444444444444,
              "#bd3786"
             ],
             [
              0.5555555555555556,
              "#d8576b"
             ],
             [
              0.6666666666666666,
              "#ed7953"
             ],
             [
              0.7777777777777778,
              "#fb9f3a"
             ],
             [
              0.8888888888888888,
              "#fdca26"
             ],
             [
              1,
              "#f0f921"
             ]
            ],
            "type": "heatmap"
           }
          ],
          "heatmapgl": [
           {
            "colorbar": {
             "outlinewidth": 0,
             "ticks": ""
            },
            "colorscale": [
             [
              0,
              "#0d0887"
             ],
             [
              0.1111111111111111,
              "#46039f"
             ],
             [
              0.2222222222222222,
              "#7201a8"
             ],
             [
              0.3333333333333333,
              "#9c179e"
             ],
             [
              0.4444444444444444,
              "#bd3786"
             ],
             [
              0.5555555555555556,
              "#d8576b"
             ],
             [
              0.6666666666666666,
              "#ed7953"
             ],
             [
              0.7777777777777778,
              "#fb9f3a"
             ],
             [
              0.8888888888888888,
              "#fdca26"
             ],
             [
              1,
              "#f0f921"
             ]
            ],
            "type": "heatmapgl"
           }
          ],
          "histogram": [
           {
            "marker": {
             "pattern": {
              "fillmode": "overlay",
              "size": 10,
              "solidity": 0.2
             }
            },
            "type": "histogram"
           }
          ],
          "histogram2d": [
           {
            "colorbar": {
             "outlinewidth": 0,
             "ticks": ""
            },
            "colorscale": [
             [
              0,
              "#0d0887"
             ],
             [
              0.1111111111111111,
              "#46039f"
             ],
             [
              0.2222222222222222,
              "#7201a8"
             ],
             [
              0.3333333333333333,
              "#9c179e"
             ],
             [
              0.4444444444444444,
              "#bd3786"
             ],
             [
              0.5555555555555556,
              "#d8576b"
             ],
             [
              0.6666666666666666,
              "#ed7953"
             ],
             [
              0.7777777777777778,
              "#fb9f3a"
             ],
             [
              0.8888888888888888,
              "#fdca26"
             ],
             [
              1,
              "#f0f921"
             ]
            ],
            "type": "histogram2d"
           }
          ],
          "histogram2dcontour": [
           {
            "colorbar": {
             "outlinewidth": 0,
             "ticks": ""
            },
            "colorscale": [
             [
              0,
              "#0d0887"
             ],
             [
              0.1111111111111111,
              "#46039f"
             ],
             [
              0.2222222222222222,
              "#7201a8"
             ],
             [
              0.3333333333333333,
              "#9c179e"
             ],
             [
              0.4444444444444444,
              "#bd3786"
             ],
             [
              0.5555555555555556,
              "#d8576b"
             ],
             [
              0.6666666666666666,
              "#ed7953"
             ],
             [
              0.7777777777777778,
              "#fb9f3a"
             ],
             [
              0.8888888888888888,
              "#fdca26"
             ],
             [
              1,
              "#f0f921"
             ]
            ],
            "type": "histogram2dcontour"
           }
          ],
          "mesh3d": [
           {
            "colorbar": {
             "outlinewidth": 0,
             "ticks": ""
            },
            "type": "mesh3d"
           }
          ],
          "parcoords": [
           {
            "line": {
             "colorbar": {
              "outlinewidth": 0,
              "ticks": ""
             }
            },
            "type": "parcoords"
           }
          ],
          "pie": [
           {
            "automargin": true,
            "type": "pie"
           }
          ],
          "scatter": [
           {
            "fillpattern": {
             "fillmode": "overlay",
             "size": 10,
             "solidity": 0.2
            },
            "type": "scatter"
           }
          ],
          "scatter3d": [
           {
            "line": {
             "colorbar": {
              "outlinewidth": 0,
              "ticks": ""
             }
            },
            "marker": {
             "colorbar": {
              "outlinewidth": 0,
              "ticks": ""
             }
            },
            "type": "scatter3d"
           }
          ],
          "scattercarpet": [
           {
            "marker": {
             "colorbar": {
              "outlinewidth": 0,
              "ticks": ""
             }
            },
            "type": "scattercarpet"
           }
          ],
          "scattergeo": [
           {
            "marker": {
             "colorbar": {
              "outlinewidth": 0,
              "ticks": ""
             }
            },
            "type": "scattergeo"
           }
          ],
          "scattergl": [
           {
            "marker": {
             "colorbar": {
              "outlinewidth": 0,
              "ticks": ""
             }
            },
            "type": "scattergl"
           }
          ],
          "scattermapbox": [
           {
            "marker": {
             "colorbar": {
              "outlinewidth": 0,
              "ticks": ""
             }
            },
            "type": "scattermapbox"
           }
          ],
          "scatterpolar": [
           {
            "marker": {
             "colorbar": {
              "outlinewidth": 0,
              "ticks": ""
             }
            },
            "type": "scatterpolar"
           }
          ],
          "scatterpolargl": [
           {
            "marker": {
             "colorbar": {
              "outlinewidth": 0,
              "ticks": ""
             }
            },
            "type": "scatterpolargl"
           }
          ],
          "scatterternary": [
           {
            "marker": {
             "colorbar": {
              "outlinewidth": 0,
              "ticks": ""
             }
            },
            "type": "scatterternary"
           }
          ],
          "surface": [
           {
            "colorbar": {
             "outlinewidth": 0,
             "ticks": ""
            },
            "colorscale": [
             [
              0,
              "#0d0887"
             ],
             [
              0.1111111111111111,
              "#46039f"
             ],
             [
              0.2222222222222222,
              "#7201a8"
             ],
             [
              0.3333333333333333,
              "#9c179e"
             ],
             [
              0.4444444444444444,
              "#bd3786"
             ],
             [
              0.5555555555555556,
              "#d8576b"
             ],
             [
              0.6666666666666666,
              "#ed7953"
             ],
             [
              0.7777777777777778,
              "#fb9f3a"
             ],
             [
              0.8888888888888888,
              "#fdca26"
             ],
             [
              1,
              "#f0f921"
             ]
            ],
            "type": "surface"
           }
          ],
          "table": [
           {
            "cells": {
             "fill": {
              "color": "#EBF0F8"
             },
             "line": {
              "color": "white"
             }
            },
            "header": {
             "fill": {
              "color": "#C8D4E3"
             },
             "line": {
              "color": "white"
             }
            },
            "type": "table"
           }
          ]
         },
         "layout": {
          "annotationdefaults": {
           "arrowcolor": "#2a3f5f",
           "arrowhead": 0,
           "arrowwidth": 1
          },
          "autotypenumbers": "strict",
          "coloraxis": {
           "colorbar": {
            "outlinewidth": 0,
            "ticks": ""
           }
          },
          "colorscale": {
           "diverging": [
            [
             0,
             "#8e0152"
            ],
            [
             0.1,
             "#c51b7d"
            ],
            [
             0.2,
             "#de77ae"
            ],
            [
             0.3,
             "#f1b6da"
            ],
            [
             0.4,
             "#fde0ef"
            ],
            [
             0.5,
             "#f7f7f7"
            ],
            [
             0.6,
             "#e6f5d0"
            ],
            [
             0.7,
             "#b8e186"
            ],
            [
             0.8,
             "#7fbc41"
            ],
            [
             0.9,
             "#4d9221"
            ],
            [
             1,
             "#276419"
            ]
           ],
           "sequential": [
            [
             0,
             "#0d0887"
            ],
            [
             0.1111111111111111,
             "#46039f"
            ],
            [
             0.2222222222222222,
             "#7201a8"
            ],
            [
             0.3333333333333333,
             "#9c179e"
            ],
            [
             0.4444444444444444,
             "#bd3786"
            ],
            [
             0.5555555555555556,
             "#d8576b"
            ],
            [
             0.6666666666666666,
             "#ed7953"
            ],
            [
             0.7777777777777778,
             "#fb9f3a"
            ],
            [
             0.8888888888888888,
             "#fdca26"
            ],
            [
             1,
             "#f0f921"
            ]
           ],
           "sequentialminus": [
            [
             0,
             "#0d0887"
            ],
            [
             0.1111111111111111,
             "#46039f"
            ],
            [
             0.2222222222222222,
             "#7201a8"
            ],
            [
             0.3333333333333333,
             "#9c179e"
            ],
            [
             0.4444444444444444,
             "#bd3786"
            ],
            [
             0.5555555555555556,
             "#d8576b"
            ],
            [
             0.6666666666666666,
             "#ed7953"
            ],
            [
             0.7777777777777778,
             "#fb9f3a"
            ],
            [
             0.8888888888888888,
             "#fdca26"
            ],
            [
             1,
             "#f0f921"
            ]
           ]
          },
          "colorway": [
           "#636efa",
           "#EF553B",
           "#00cc96",
           "#ab63fa",
           "#FFA15A",
           "#19d3f3",
           "#FF6692",
           "#B6E880",
           "#FF97FF",
           "#FECB52"
          ],
          "font": {
           "color": "#2a3f5f"
          },
          "geo": {
           "bgcolor": "white",
           "lakecolor": "white",
           "landcolor": "#E5ECF6",
           "showlakes": true,
           "showland": true,
           "subunitcolor": "white"
          },
          "hoverlabel": {
           "align": "left"
          },
          "hovermode": "closest",
          "mapbox": {
           "style": "light"
          },
          "paper_bgcolor": "white",
          "plot_bgcolor": "#E5ECF6",
          "polar": {
           "angularaxis": {
            "gridcolor": "white",
            "linecolor": "white",
            "ticks": ""
           },
           "bgcolor": "#E5ECF6",
           "radialaxis": {
            "gridcolor": "white",
            "linecolor": "white",
            "ticks": ""
           }
          },
          "scene": {
           "xaxis": {
            "backgroundcolor": "#E5ECF6",
            "gridcolor": "white",
            "gridwidth": 2,
            "linecolor": "white",
            "showbackground": true,
            "ticks": "",
            "zerolinecolor": "white"
           },
           "yaxis": {
            "backgroundcolor": "#E5ECF6",
            "gridcolor": "white",
            "gridwidth": 2,
            "linecolor": "white",
            "showbackground": true,
            "ticks": "",
            "zerolinecolor": "white"
           },
           "zaxis": {
            "backgroundcolor": "#E5ECF6",
            "gridcolor": "white",
            "gridwidth": 2,
            "linecolor": "white",
            "showbackground": true,
            "ticks": "",
            "zerolinecolor": "white"
           }
          },
          "shapedefaults": {
           "line": {
            "color": "#2a3f5f"
           }
          },
          "ternary": {
           "aaxis": {
            "gridcolor": "white",
            "linecolor": "white",
            "ticks": ""
           },
           "baxis": {
            "gridcolor": "white",
            "linecolor": "white",
            "ticks": ""
           },
           "bgcolor": "#E5ECF6",
           "caxis": {
            "gridcolor": "white",
            "linecolor": "white",
            "ticks": ""
           }
          },
          "title": {
           "x": 0.05
          },
          "xaxis": {
           "automargin": true,
           "gridcolor": "white",
           "linecolor": "white",
           "ticks": "",
           "title": {
            "standoff": 15
           },
           "zerolinecolor": "white",
           "zerolinewidth": 2
          },
          "yaxis": {
           "automargin": true,
           "gridcolor": "white",
           "linecolor": "white",
           "ticks": "",
           "title": {
            "standoff": 15
           },
           "zerolinecolor": "white",
           "zerolinewidth": 2
          }
         }
        },
        "title": {
         "text": "PM2.5 Emissons Across Provinces",
         "x": 0.5
        },
        "width": 800,
        "xaxis": {
         "anchor": "y",
         "domain": [
          0,
          0.94
         ]
        },
        "xaxis2": {
         "anchor": "y3",
         "domain": [
          0,
          0.94
         ],
         "title": {
          "text": "Province"
         }
        },
        "yaxis": {
         "anchor": "x",
         "domain": [
          0.55,
          1
         ],
         "title": {
          "text": "Total PM2.5 Emission (tonnes)"
         }
        },
        "yaxis2": {
         "anchor": "x",
         "overlaying": "y",
         "side": "right",
         "title": {
          "text": "Total number of wildfire"
         }
        },
        "yaxis3": {
         "anchor": "x2",
         "domain": [
          0,
          0.45
         ],
         "title": {
          "text": "Total PM2.5 Emission (tonnes)"
         }
        },
        "yaxis4": {
         "anchor": "x2",
         "overlaying": "y3",
         "side": "right",
         "title": {
          "text": "Total area burned (hectres)"
         }
        }
       }
      }
     },
     "metadata": {},
     "output_type": "display_data"
    }
   ],
   "source": [
    "with open('projects/environmental-health/figure/fire_fig.json', 'r') as f:\n",
    "    fig = pio.from_json(f.read())\n",
    "fig.show()"
   ]
  },
  {
   "cell_type": "code",
   "execution_count": 25,
   "metadata": {
    "tags": [
     "hide-input"
    ]
   },
   "outputs": [
    {
     "name": "stdout",
     "output_type": "stream",
     "text": [
      "Correlation coefficient for total area burnt and total PM2.5 emission: 0.7947497297236447\n",
      "Correlation coefficient for number of fire and total PM2.5 emission: 0.38717314196102626\n"
     ]
    }
   ],
   "source": [
    "# calculating correlational coefficient for the occurance of wildfire and PM2.5 emission.\n",
    "corr, pval=stats.pearsonr(pm25_fire[\"Total Emission\"],pm25_fire[\"Area Burned (hectre)\"])\n",
    "print(\"Correlation coefficient for total area burnt and total PM2.5 emission: \" + str(corr))\n",
    "corr, pval=stats.pearsonr(pm25_fire[\"Total Emission\"],pm25_fire[\"Number of Fire\"])\n",
    "print(\"Correlation coefficient for number of fire and total PM2.5 emission: \" + str(corr))"
   ]
  },
  {
   "cell_type": "markdown",
   "metadata": {},
   "source": [
    "The code above has confirmed that the total number of wildfires and PM2.5 emissions exhibit a correlation value of $0.795$, whereas the total area burnt by wildfires and PM2.5 emissions show a correlation value of $0.387$. Therefore, it can be concluded that the total area burnt by wildfires is a better predictor for PM2.5 emissions."
   ]
  },
  {
   "cell_type": "markdown",
   "metadata": {},
   "source": [
    "## References\n",
    "[^ref1]: Environment and Climate Change Canada. (n.d.). Canada's Air Pollutant Emissions Inventory. Retrieved September 2021, from https://data.ec.gc.ca/data/substances/monitor/canada-s-air-pollutant-emissions-inventory/APEI_Tables_Canada_Provinces_Territories/?lang\n",
    "[^ref2]: Canadian Forest Service. (n.d.). Canadian National Fire Database. Retrieved September 2021, from https://cwfis.cfs.nrcan.gc.ca/ha/nfdb\n",
    "[^ref3]: Statistics Canada. (n.d.). Population Estimates. Retrieved September 2021, from https://www150.statcan.gc.ca/t1/tbl1/en/tv.action?pid=1710000901\n",
    "[^ref4]: Government of Canada. (n.d.). Common Contaminants - Air Pollution. Retrieved September 2021, from https://www.canada.ca/en/environment-climate-change/services/air-pollution/pollutants/common-contaminants.html\n",
    "[^ref5]: Environment and Climate Change Canada. (n.d.). Canada's Air Pollutant Inventory. Retrieved September 2021, from https://data.ec.gc.ca/data/substances/monitor/canada-s-air-pollutant-emissions-inventory/APEI_Tables_Canada_Provinces_Territories/?lang"
   ]
  }
 ],
 "metadata": {
  "kernelspec": {
   "display_name": "base",
   "language": "python",
   "name": "python3"
  },
  "language_info": {
   "codemirror_mode": {
    "name": "ipython",
    "version": 3
   },
   "file_extension": ".py",
   "mimetype": "text/x-python",
   "name": "python",
   "nbconvert_exporter": "python",
   "pygments_lexer": "ipython3",
   "version": "3.11.7"
  }
 },
 "nbformat": 4,
 "nbformat_minor": 2
}
