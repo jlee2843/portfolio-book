{
 "cells": [
  {
   "cell_type": "markdown",
   "id": "978499c3-45c6-428c-a820-3485c0cf7623",
   "metadata": {},
   "source": [
    "# About Me"
   ]
  },
  {
   "cell_type": "markdown",
   "id": "147c0bcc-d195-4011-be2c-ee7fb2b43b03",
   "metadata": {},
   "source": [
    "![info](hub_new.gif \"segment\")\n"
   ]
  },
  {
   "cell_type": "markdown",
   "id": "e70eb1a8",
   "metadata": {},
   "source": [
    "<span align=\"center\" style=\"color: pink;\" > \n",
    "\n",
    "{fab}`github` [jlee2843](https://github.com/jlee2843)  | {fab}`linkedin` [jennyjeeun](https://www.linkedin.com/in/jennyjeeun/)  |  {fas}`inbox` <a href=\"mailto:jenny.jeeun@gmail.com\"> jenny.jeeun@gmail.com </a> | [Resume](Resume_2023.pdf)\n",
    "\n",
    "</span>\n"
   ]
  },
  {
   "cell_type": "markdown",
   "id": "9bb3e7ec",
   "metadata": {},
   "source": [
    "## Introduction\n",
    "Greetings! I'm on an exciting journey in the Master of Data Science program at the University of British Columbia, fueled by a solid foundation in statistics and neuroscience from my undergraduate days. I thrive on exploring the intricacies of data, uncovering trends, and seamlessly applying those insights in unexpected domains. \n",
    "\n",
    "My latest role in the relam of data science was working as a Data Science Intern at Teck Resources Limited. There, I delved into the world of Hugging Face transformers and the BERT model, tackling NLP challenges with gusto. When I am not exploring through data, you'll often find me indulging my creative side by sketching and listening to music across various genres. \n",
    "\n",
    "I am thrilled to share my data journey with my portfolio! Please feel free to reach out through any of the contact information above if you'd like to chat with me. 🚀🎨🎶"
   ]
  },
  {
   "cell_type": "markdown",
   "id": "2d8d74b7",
   "metadata": {},
   "source": [
    "## Skills Toolbox"
   ]
  },
  {
   "cell_type": "markdown",
   "id": "e6434479",
   "metadata": {},
   "source": [
    "<!-- ## Skills\n",
    "- <strong><span style=\"color:pink\">Programming Languages</span></strong>: `R`, `Python`, `Java`, `SQL` <span style=\"color:gray\">(PostgreSQL, MySQL)</span>\n",
    "- <strong><span style=\"color:salmon\">Data Analysis</span></strong>: Data wrangling with `pandas` and `numpy`, data retrival and management with `SQL`\n",
    "- <strong><span style=\"color:lightcoral\">Data Visualization</span></strong>: `matplotlib`, `seaborn`, interactive visualizations using `plotly` and `altair`\n",
    "- <strong><span style=\"color:palevioletred\">Data Science</span></strong>: Supervised learning, unsupervised learning, emsemble models, neural networks, deep learning\n",
    "- <strong><span style=\"color:hotpink\">App Development</span></strong>: Web-based applications made with `plotly Dash` and `streamlit` -->\n"
   ]
  },
  {
   "cell_type": "markdown",
   "id": "75dce04d",
   "metadata": {
    "tags": [
     "remove-cell"
    ]
   },
   "source": [
    "````{div} full-width\n",
    "\n",
    "::::{grid}\n",
    ":gutter: 3\n",
    "\n",
    ":::{grid-item-card} ⌨️ Programming Languages\n",
    "- Python\n",
    "- R\n",
    "- Java\n",
    "- SQL (PostgreSQL, MySQL)\n",
    ":::\n",
    "\n",
    "\n",
    ":::{grid-item-card} 📈 Data Analysis\n",
    "- Data wrangling with `pandas` and `numpy`\n",
    "- Data retrival and management with SQL\n",
    "- Static visualization with `matplotlib` and `seaborn`\n",
    "- Interactive dashboards with `plotly Dash`, `streamlit` and `altair`\n",
    "<!-- :img-top: _images/analysis-comb.png\n",
    ":text-align: center\n",
    "<span style=\"font-size: small; color: PaleVioletRed; align: center\"><strong>Data Analysis and Web-App Development</strong></span> -->\n",
    ":::\n",
    "\n",
    ":::{grid-item-card} 📊 Machine Learning\n",
    "- Supvervised learning\n",
    "- Unsupervised learning\n",
    "- Ensemble models\n",
    "- Neural networks\n",
    "- Deep learning\n",
    "- Familiar working with `scikit-learn`, `scipy`, `PyTorch`, `Tensorflow`, `NetworkX`\n",
    ":::\n",
    "\n",
    "::::\n",
    "\n",
    "````"
   ]
  },
  {
   "cell_type": "markdown",
   "id": "6bcab872",
   "metadata": {
    "tags": [
     "full-width"
    ]
   },
   "source": [
    "````{div} full-width\n",
    "\n",
    "\n",
    "::::{grid} 3 \n",
    "\n",
    ":::{grid-item}\n",
    ":::{dropdown} ⌨️ Programming Languages\n",
    ":animate: fade-in \n",
    "- Python\n",
    "- R\n",
    "- Java\n",
    "- SQL (PostgreSQL, MySQL)\n",
    "\n",
    ":::\n",
    "\n",
    ":::{grid-item}\n",
    ":::{dropdown} 📈 Data Analysis\n",
    ":animate: fade-in \n",
    "- Data wrangling with `pandas` and `numpy`\n",
    "- Data retrival and management with SQL\n",
    "- Static visualization with `matplotlib` and `seaborn`\n",
    "- Interactive dashboards with `plotly Dash`, `streamlit` and `altair`\n",
    ":::\n",
    "\n",
    ":::{grid-item}\n",
    ":::{dropdown}  📊 Machine Learning\n",
    ":animate: fade-in \n",
    "- Supvervised learning\n",
    "- Unsupervised learning\n",
    "- Ensemble models\n",
    "- Neural networks\n",
    "- Deep learning\n",
    "- Familiar working with `scikit-learn`, `scipy`, `PyTorch`, `Tensorflow`, `NetworkX`\n",
    ":::\n",
    "::::\n",
    "\n",
    "````"
   ]
  },
  {
   "cell_type": "markdown",
   "id": "c253cd59",
   "metadata": {},
   "source": [
    "## Career"
   ]
  },
  {
   "cell_type": "markdown",
   "id": "130f0467",
   "metadata": {
    "tags": [
     "full-width"
    ]
   },
   "source": [
    "\n",
    "<div style=\"display: flex; justify-content: space-between;\">\n",
    "  <p style=\"text-align: left; margin: 0;\"><strong>University of British Columbia</strong>  <span style=\"color: silver;\"> | </span> <span style=\"color: PaleVioletRed;\"> Food Sustainability Data Analyst</span></p>\n",
    "  <p style=\"text-align: right; margin: 0;\">09/2023 - Present</p>\n",
    "</div>\n",
    "<!-- \n",
    "<span class=\"badge badge-mine badge-outlined\">Part-Time</span> <span style=\"color: silver;\"> -->\n",
    "\n",
    "▸ {bdg-primary-line}`Part-Time`<span style=\"color: silver;\"> | </span> {bdg-light}`Python` {bdg-light}`R` {bdg-light}`Git` {bdg-light}`GitHub` {bdg-light}`Docker`\n",
    "\n",
    ":::{dropdown} Description\n",
    ":animate: fade-in \n",
    "<!-- {bdg-light}`Python` {bdg-light}`R` {bdg-light}`Git` {bdg-light}`GitHub` {bdg-light}`Docker` -->\n",
    "<ul>\n",
    "  <li>Engineered an automated workflow to evaluate the cumulative greenhouse gas emissions resulting from all procurement items acquired and utilized by UBC Food Services and AMS.</li>\n",
    "  <li>Implemented machine learning models to gauge UBC’s ability to achieve the Climate Action Plan 2030. In cases where meeting the goal is doubtful, the models offer recommendations to reduce annual greenhouse gas emissions.</li>\n",
    "</ul>\n",
    ":::\n",
    "\n",
    "\n",
    "<div style=\"display: flex; justify-content: space-between;\">\n",
    "  <p style=\"text-align: left; margin: 0;\"><strong>University of British Columbia</strong>  <span style=\"color: silver;\"> | </span> <span style=\"color: PaleVioletRed;\"> Graduate Teaching Assistant</span></p>\n",
    "  <p style=\"text-align: right; margin: 0;\">09/2023 - Present</p>\n",
    "</div>\n",
    "\n",
    "▸ {bdg-primary-line}`Part-Time`<span style=\"color: silver;\"> | </span> {bdg-light}`R` {bdg-light}`Git`  {bdg-light}`GitHub`\n",
    "\n",
    ":::{dropdown} Description \n",
    ":animate: fade-in \n",
    "<ul>\n",
    "  <li>Member of the teaching team for STAT 200 (Elementary Statistics for Applications) and DSCI 100 (Introduction to Data Science) at UBC. </li>\n",
    "  <li>Attended lectures to address students’ questions in real-time. Facilitated a lab section, guiding students through weekly lab materials. Assessed and graded student exams and assignments.</li>\n",
    "</ul>\n",
    ":::\n",
    "\n",
    "<div style=\"display: flex; justify-content: space-between;\">\n",
    "  <p style=\"text-align: left; margin: 0;\"><strong>Teck Resources Limited</strong>  <span style=\"color: silver;\"> | </span> <span style=\"color: PaleVioletRed;\"> Data Science Intern</span></p>\n",
    "  <p style=\"text-align: right; margin: 0;\">01/2023 - 08/2023</p>\n",
    "</div>\n",
    "\n",
    "▸ {bdg-secondary-line}`Full-Time`<span style=\"color: silver;\"> | </span> {bdg-light}`Python` {bdg-light}`Git` {bdg-light}`GitHub` {bdg-light}`Docker` {bdg-light}`Databricks` {bdg-light}`AWS`\n",
    "\n",
    ":::{dropdown} Description \n",
    ":animate: fade-in \n",
    "<ul>\n",
    "  <li>Developed statistical solutions to address machine learning model performance degradation resulting from data drift. Automated the process of re-scaling incoming data values upon detecting data drift.</li>\n",
    "  <li>Explored and implemented alternative machine learning models aimed at replacing the existing high-performance but costly BERT model. Investigated models with enhanced interpretability, such as K-means clustering, logistic regression, and DBSCAN clustering.</li>\n",
    "</ul>\n",
    ":::\n",
    "\n",
    "<div style=\"display: flex; justify-content: space-between;\">\n",
    "  <p style=\"text-align: left; margin: 0;\"><strong>University of British Columbia</strong>  <span style=\"color: silver;\"> | </span> <span style=\"color: PaleVioletRed;\"> \n",
    "Climate-Friendly Sustainability Data Analyst</span></p>\n",
    "  <p style=\"text-align: right; margin: 0;\">08/2022 - 04/2023</p>\n",
    "</div>\n",
    "\n",
    "▸ {bdg-primary-line}`Part-Time`<span style=\"color: silver;\"> | </span> {bdg-light}`Python` {bdg-light}`R` {bdg-light}`Git` {bdg-light}`GitHub` {bdg-light}`Docker`\n",
    "\n",
    ":::{dropdown} Description \n",
    ":animate: fade-in \n",
    "<ul>\n",
    "  <li>Engineered an automated workflow to evaluate the overall impact of newly added food items to the UBC Food Services database.</li>\n",
    "  <li>Categorized all food items offered by UBC Food Services into green, yellow, and red based on the total greenhouse gas emissions produced by 100g of each menu item.</li>\n",
    "  <li>Labeled newly added food ingredients in the UBC database.</li>\n",
    "  <li>Developed a web-based application for Food Services staff to eﬀiciently search for climate-friendly labels.The application incorporates dynamic graphs that change based on the selection of particular residence halls or vendors.</li>\n",
    "</ul>\n",
    ":::\n",
    "\n",
    "<div style=\"display: flex; justify-content: space-between;\">\n",
    "  <p style=\"text-align: left; margin: 0;\"><strong>Ciena</strong>  <span style=\"color: silver;\"> | </span> <span style=\"color: PaleVioletRed;\"> Machine Learning and Modelling Intern</span></p>\n",
    "  <p style=\"text-align: right; margin: 0;\">09/2022 - 12/2022</p>\n",
    "</div>\n",
    "\n",
    "▸ {bdg-secondary-line}`Full-Time`<span style=\"color: silver;\"> | </span> {bdg-light}`Python` {bdg-light}`PostgresSQL` {bdg-light}`Bigbucket` {bdg-light}`NetworkX` \n",
    "\n",
    ":::{dropdown} Description \n",
    ":animate: fade-in \n",
    "<ul>\n",
    "  <li>Enhanced an outdated artificial neural network model through real-time data analysis. Conducted comprehensive testing using six different methods and generated a detailed report comparing the performance of each approach.</li>\n",
    "  <li>Collaborated with colleagues to develop an interactive app using Plotly Dash. This app enables clients to effortlessly monitor their current network traﬀic and explore future predictions.</li>\n",
    "</ul>\n",
    ":::\n",
    "\n",
    "<div style=\"display: flex; justify-content: space-between;\">\n",
    "  <p style=\"text-align: left; margin: 0;\"><strong>Cybera Inc.</strong>  <span style=\"color: silver;\"> | </span> <span style=\"color: PaleVioletRed;\"> Data Science Intern</span></p>\n",
    "  <p style=\"text-align: right; margin: 0;\">04/2022 - 03/2024</p>\n",
    "</div>\n",
    "\n",
    "▸ {bdg-secondary-line}`Full-Time`<span style=\"color: silver;\"> | </span> {bdg-light}`Python` {bdg-light}`R` {bdg-light}`Git` {bdg-light}`GitHub`\n",
    "\n",
    ":::{dropdown} Description \n",
    ":animate: fade-in \n",
    "<ul>\n",
    "  <li>Analyzed, wrangled, and visualized data sourced from an open-source database on trending topics. Gained exposure to various Python and R packages for visualization, including Matplotlib, Seaborn, Plotly, Plotly Dash, and Ggplot.</li>\n",
    "  <li>Collaborated with colleagues to create hackathon content for Albertans. Prepared and processed open-source datasets to serve as valuable resources for a data science hackathon.</li>\n",
    "</ul>\n",
    ":::\n"
   ]
  }
 ],
 "metadata": {
  "kernelspec": {
   "display_name": "Python 3 (ipykernel)",
   "language": "python",
   "name": "python3"
  },
  "language_info": {
   "codemirror_mode": {
    "name": "ipython",
    "version": 3
   },
   "file_extension": ".py",
   "mimetype": "text/x-python",
   "name": "python",
   "nbconvert_exporter": "python",
   "pygments_lexer": "ipython3",
   "version": "3.11.7"
  }
 },
 "nbformat": 4,
 "nbformat_minor": 5
}