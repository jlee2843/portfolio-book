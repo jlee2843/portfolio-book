{
 "cells": [
  {
   "cell_type": "markdown",
   "metadata": {},
   "source": [
    "# List of Projects"
   ]
  },
  {
   "cell_type": "markdown",
   "metadata": {},
   "source": [
    "## Individual Projects"
   ]
  },
  {
   "cell_type": "markdown",
   "metadata": {},
   "source": [
    "<!-- ::::{grid}\n",
    ":gutter: 3\n",
    "\n",
    ":::{grid-item-card} Alternative Recipe\n",
    "<span style=\"font-size: small;\">Data Analysis and Web-App</span>\n",
    "^^^\n",
    "Alternative Recipe is a web-based application that assesses the carbon footprints of meals, offering sustainable recipe modifications and the convenience of receiving modified recipes via email.\n",
    "+++\n",
    "[→ Explore Project](../alternative-recipe.ipynb)\n",
    ":::\n",
    "\n",
    ":::{grid-item-card} Misinformation Analysis\n",
    "<span style=\"font-size: small;\">NLP and Machine Learning</span>\n",
    "^^^\n",
    "The Misinformation Analysis project investigates the pervasive impact of fake news, emphasizing its role in societal disorganization, and aims to provide innovative solutions for distinguishing fake news from true news.\n",
    "+++\n",
    "[→ Explore Project](../misinformation-analysis.ipynb)\n",
    ":::\n",
    "\n",
    ":::{grid-item-card} Three!\n",
    "Here's the third card.\n",
    ":::\n",
    ":::: -->"
   ]
  },
  {
   "cell_type": "markdown",
   "metadata": {},
   "source": [
    "::::{grid}\n",
    ":gutter: 2\n",
    "\n",
    ":::{grid-item-card} 🌿 Alternative Recipe {bdg-dark}`Python` \n",
    ":img-top: _images/analysis-comb.png\n",
    ":link: https://jlee2843.github.io/portfolio-book/alternative-recipe.html\n",
    "<!-- :text-align: center -->\n",
    "<span style=\"font-size: small; color: PaleVioletRed; text-align: center;\"><strong>Data Analysis and Web-App Development</strong></span>\n",
    "^^^\n",
    "\n",
    "Alternative Recipe is a web-based application that assesses the carbon footprints of meals, offering sustainable recipe modifications and the convenience of receiving modified recipes via email.\n",
    "+++\n",
    "<span style=\"font-size: small; color: gray;\"> Last updated: May 2023 </span>\n",
    "<!-- [→ Explore Project](../alternative-recipe.ipynb) -->\n",
    ":::\n",
    "\n",
    ":::{grid-item-card} 📰 Misinformation Analysis {bdg-dark}`Python`\n",
    ":img-top: _images/misinformation-comb.png\n",
    ":link: https://jlee2843.github.io/portfolio-book/misinformation-analysis.html\n",
    "<span style=\"font-size: small; color: PaleVioletRed; align: center\"><strong>NLP and Supervised Machine Learning</strong></span>\n",
    "^^^\n",
    "\n",
    "This project investigates the pervasive impact of fake news, emphasizing its role in societal disorganization, and aims to provide innovative solutions for distinguishing fake news from true news.\n",
    "+++\n",
    "<span style=\"font-size: small; color: gray;\"> Last updated: December 2023 </span>\n",
    ":::\n",
    "\n",
    "::::"
   ]
  },
  {
   "cell_type": "markdown",
   "metadata": {},
   "source": [
    "::::{grid} 1\n",
    ":::{grid-item-card} 🍁 Environmental Health in Canada {bdg-dark}`Python` \n",
    ":columns: 6\n",
    ":img-top: _images/environmental-health.png\n",
    ":link: https://jlee2843.github.io/portfolio-book/environmental-health.html\n",
    "<span style=\"font-size: small; color: PaleVioletRed; align: center\"><strong>Data Wrangling and Interactive Visulizations</strong></span>\n",
    "^^^\n",
    "\n",
    "This project contains extensive set of data visualizations aimed at raising awareness among Canadians about the prevailing air and water quality conditions across provinces. Prior to creating these visualizations, we undertook thorough data wrangling from multiple sources.\n",
    "+++\n",
    "<span style=\"font-size: small; color: gray;\"> Last updated: September 2022 </span>\n",
    ":::\n",
    "::::"
   ]
  },
  {
   "cell_type": "markdown",
   "metadata": {},
   "source": [
    "## Collaborative Projects"
   ]
  },
  {
   "cell_type": "markdown",
   "metadata": {},
   "source": [
    "::::{grid} 1\n",
    ":::{grid-item-card} 💳 Credit Card Fraud Detection {bdg-dark}`Python` {bdg-dark}`Docker` \n",
    ":columns: 6\n",
    ":img-top: _images/fraud-detection.png\n",
    ":link: https://ubc-mds.github.io/fraud_detection/fraud_detection_full.html\n",
    "<span style=\"font-size: small; color: PaleVioletRed; align: center\"><strong>Machine Learning and Containerization</strong></span>\n",
    "^^^\n",
    "\n",
    "In this project, we built and compared logistic regression, random forest, and gradient boost classifiers for detecting fraudulent transactions. Despite dataset imbalances, logistic regression emerged as the preferred model due to its swift implementation, interpretability, and practical suitability.\n",
    "+++\n",
    "<span style=\"font-size: small; color: gray;\"> Last updated: December 2023 </span>\n",
    ":::\n",
    "::::"
   ]
  },
  {
   "cell_type": "markdown",
   "metadata": {},
   "source": [
    "## Research Projects"
   ]
  },
  {
   "cell_type": "markdown",
   "metadata": {},
   "source": [
    "::::{grid}\n",
    ":gutter: 2\n",
    "\n",
    ":::{grid-item-card} 🥗 Climate-Friendly Food Sustainability (CFFS) Labels {bdg-dark}`Python` {bdg-dark}`SQL` \n",
    ":img-top: _images/cffs.png\n",
    ":link: https://github.com/jlee2843/CFFS-22-23\n",
    "<span style=\"font-size: small; color: PaleVioletRed; align: center\"><strong>Data Pipeline and Web-App Development</strong></span>\n",
    "^^^\n",
    "\n",
    "The CFFS project supports UBC's CAP 2030 commitment, aiming for a 50% reduction in GHG emissions by 2030. A comprehensive pipeline is established, incorporating the analysis and labeling of new ingredients added to the database, along with the development of a user-friendly web application.\n",
    "+++\n",
    "<span style=\"font-size: small; color: gray;\"> Last updated: April 2023 </span>\n",
    ":::\n",
    "\n",
    ":::{grid-item-card} 🧬 The SCOPE Algorithm {bdg-dark}`Python` {bdg-dark}`R`\n",
    ":img-top: _images/scope2.png\n",
    ":link: https://github.com/jlee2843/SCOPE-GSE98394\n",
    "<span style=\"font-size: small; color: PaleVioletRed; align: center\"><strong>LASSO Regression and Co-Expression Analysis</strong></span>\n",
    "^^^\n",
    "\n",
    "This project outlines the application of SCOPE-Stabilized Algorithm on melanocytic tumor patients dataset, including bootstrapped LASSO regression. Additionally, it involves co-expression and differential co-expression analyses, along with Pathway Enrichment through Over Representation Analysis.\n",
    "+++\n",
    "<span style=\"font-size: small; color: gray;\"> Last updated: August 2022 </span>\n",
    ":::\n",
    "\n",
    "::::"
   ]
  },
  {
   "cell_type": "markdown",
   "metadata": {},
   "source": [
    "::::{grid} 1\n",
    ":::{grid-item-card} 📖 Peer Review Analysis {bdg-dark}`Python` \n",
    ":columns: 6\n",
    ":img-top: _images/peer-review.png\n",
    ":link: https://github.com/jlee2843/Peer-Review-22-23\n",
    "<span style=\"font-size: small; color: PaleVioletRed; align: center\"><strong>Machine Learning and Containerization</strong></span>\n",
    "^^^\n",
    "\n",
    "The *ongoing* Peer Review Analysis project evaluates the influence of peer reviews on scientific papers, examining both positive and negative impacts. The project compares preprint versions to printed versions, incorporating various metric measures for comprehensive assessment.\n",
    "+++\n",
    "<span style=\"font-size: small; color: gray;\"> Last updated: June 2023 </span>\n",
    ":::\n",
    "::::"
   ]
  }
 ],
 "metadata": {
  "kernelspec": {
   "display_name": "base",
   "language": "python",
   "name": "python3"
  },
  "language_info": {
   "codemirror_mode": {
    "name": "ipython",
    "version": 3
   },
   "file_extension": ".py",
   "mimetype": "text/x-python",
   "name": "python",
   "nbconvert_exporter": "python",
   "pygments_lexer": "ipython3",
   "version": "3.11.7"
  }
 },
 "nbformat": 4,
 "nbformat_minor": 2
}