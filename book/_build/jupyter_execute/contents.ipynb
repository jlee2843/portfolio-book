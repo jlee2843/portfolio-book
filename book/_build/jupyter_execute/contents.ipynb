{
 "cells": [
  {
   "cell_type": "markdown",
   "metadata": {},
   "source": [
    "# List of Projects"
   ]
  },
  {
   "cell_type": "markdown",
   "metadata": {},
   "source": [
    "## Individual Projects"
   ]
  },
  {
   "cell_type": "markdown",
   "metadata": {},
   "source": [
    "<!-- ::::{grid}\n",
    ":gutter: 3\n",
    "\n",
    ":::{grid-item-card} Alternative Recipe\n",
    "<span style=\"font-size: small;\">Data Analysis and Web-App</span>\n",
    "^^^\n",
    "Alternative Recipe is a web-based application that assesses the carbon footprints of meals, offering sustainable recipe modifications and the convenience of receiving modified recipes via email.\n",
    "+++\n",
    "[→ Explore Project](../alternative-recipe.ipynb)\n",
    ":::\n",
    "\n",
    ":::{grid-item-card} Misinformation Analysis\n",
    "<span style=\"font-size: small;\">NLP and Machine Learning</span>\n",
    "^^^\n",
    "The Misinformation Analysis project investigates the pervasive impact of fake news, emphasizing its role in societal disorganization, and aims to provide innovative solutions for distinguishing fake news from true news.\n",
    "+++\n",
    "[→ Explore Project](../misinformation-analysis.ipynb)\n",
    ":::\n",
    "\n",
    ":::{grid-item-card} Three!\n",
    "Here's the third card.\n",
    ":::\n",
    ":::: -->"
   ]
  },
  {
   "cell_type": "markdown",
   "metadata": {},
   "source": [
    "::::{grid}\n",
    ":gutter: 2\n",
    "\n",
    ":::{grid-item-card} 🌿 Alternative Recipe\n",
    "<!-- :img-top: _images/alternative-recipe-app.png -->\n",
    "<span style=\"font-size: small; color: PaleVioletRed; align: center\"><strong>Data Analysis and Web-App Development</strong></span>\n",
    "^^^\n",
    "Alternative Recipe is a web-based application that assesses the carbon footprints of meals, offering sustainable recipe modifications and the convenience of receiving modified recipes via email.\n",
    "+++\n",
    "[→ Explore Project](../alternative-recipe.ipynb)\n",
    ":::\n",
    "\n",
    ":::{grid-item-card} 📰 Misinformation Analysis\n",
    "<!-- :img-top: _images/app_main_page.png -->\n",
    "<span style=\"font-size: small; color: PaleVioletRed; align: center\"><strong>NLP and Supervised Machine Learning</strong></span>\n",
    "^^^\n",
    "This project investigates the pervasive impact of fake news, emphasizing its role in societal disorganization, and aims to provide innovative solutions for distinguishing fake news from true news.\n",
    "+++\n",
    "[→ Explore Project](../misinformation-analysis.ipynb)\n",
    ":::\n",
    "\n",
    "::::"
   ]
  },
  {
   "cell_type": "markdown",
   "metadata": {},
   "source": [
    "## Group Projects"
   ]
  },
  {
   "cell_type": "markdown",
   "metadata": {},
   "source": [
    "::::{grid} 1\n",
    ":::{grid-item-card}\n",
    ":columns: 6\n",
    "Alternative Recipe\n",
    "<span style=\"font-size: small;\">Machine Learning and Containerization</span>\n",
    "^^^\n",
    "Alternative Recipe is a web-based application that assesses the carbon footprints of meals, offering sustainable recipe modifications and the convenience of receiving modified recipes via email.\n",
    "+++\n",
    "[→ Explore Project](../alternative-recipe.ipynb)\n",
    ":::\n",
    "::::"
   ]
  },
  {
   "cell_type": "markdown",
   "metadata": {},
   "source": []
  }
 ],
 "metadata": {
  "kernelspec": {
   "display_name": "base",
   "language": "python",
   "name": "python3"
  },
  "language_info": {
   "codemirror_mode": {
    "name": "ipython",
    "version": 3
   },
   "file_extension": ".py",
   "mimetype": "text/x-python",
   "name": "python",
   "nbconvert_exporter": "python",
   "pygments_lexer": "ipython3",
   "version": "3.11.7"
  }
 },
 "nbformat": 4,
 "nbformat_minor": 2
}