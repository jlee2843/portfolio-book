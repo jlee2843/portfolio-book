{
 "cells": [
  {
   "cell_type": "markdown",
   "metadata": {},
   "source": [
    "# List of Projects"
   ]
  },
  {
   "cell_type": "markdown",
   "metadata": {},
   "source": [
    "## Individual Projects"
   ]
  },
  {
   "cell_type": "markdown",
   "metadata": {},
   "source": [
    "<!-- ::::{grid}\n",
    ":gutter: 3\n",
    "\n",
    ":::{grid-item-card} Alternative Recipe\n",
    "<span style=\"font-size: small;\">Data Analysis and Web-App</span>\n",
    "^^^\n",
    "Alternative Recipe is a web-based application that assesses the carbon footprints of meals, offering sustainable recipe modifications and the convenience of receiving modified recipes via email.\n",
    "+++\n",
    "[→ Explore Project](../alternative-recipe.ipynb)\n",
    ":::\n",
    "\n",
    ":::{grid-item-card} Misinformation Analysis\n",
    "<span style=\"font-size: small;\">NLP and Machine Learning</span>\n",
    "^^^\n",
    "The Misinformation Analysis project investigates the pervasive impact of fake news, emphasizing its role in societal disorganization, and aims to provide innovative solutions for distinguishing fake news from true news.\n",
    "+++\n",
    "[→ Explore Project](../misinformation-analysis.ipynb)\n",
    ":::\n",
    "\n",
    ":::{grid-item-card} Three!\n",
    "Here's the third card.\n",
    ":::\n",
    ":::: -->"
   ]
  },
  {
   "cell_type": "markdown",
   "metadata": {},
   "source": []
  },
  {
   "cell_type": "markdown",
   "metadata": {},
   "source": [
    "::::{grid}\n",
    ":gutter: 2\n",
    "\n",
    ":::{grid-item-card} 🌿 Alternative Recipe {bdg-dark}`Python` \n",
    ":img-top: _images/analysis-comb.png\n",
    "<span style=\"font-size: small; color: PaleVioletRed; align: center\"><strong>Data Analysis and Web-App Development</strong></span>\n",
    "^^^\n",
    "\n",
    "Alternative Recipe is a web-based application that assesses the carbon footprints of meals, offering sustainable recipe modifications and the convenience of receiving modified recipes via email.\n",
    "+++\n",
    "[→ Explore Project](../alternative-recipe.ipynb)\n",
    ":::\n",
    "\n",
    ":::{grid-item-card} 📰 Misinformation Analysis {bdg-dark}`Python`\n",
    ":img-top: _images/misinformation-comb.png\n",
    "<span style=\"font-size: small; color: PaleVioletRed; align: center\"><strong>NLP and Supervised Machine Learning</strong></span>\n",
    "^^^\n",
    "\n",
    "This project investigates the pervasive impact of fake news, emphasizing its role in societal disorganization, and aims to provide innovative solutions for distinguishing fake news from true news.\n",
    "+++\n",
    "[→ Explore Project](../misinformation-analysis.ipynb)\n",
    ":::\n",
    "\n",
    "::::"
   ]
  },
  {
   "cell_type": "markdown",
   "metadata": {},
   "source": [
    "## Collaborative Projects"
   ]
  },
  {
   "cell_type": "markdown",
   "metadata": {},
   "source": [
    "::::{grid} 1\n",
    ":::{grid-item-card} 💳 Credit Card Fraud Detection {bdg-dark}`Python` {bdg-dark}`Docker` \n",
    ":columns: 6\n",
    ":img-top: _images/fraud-detection.png\n",
    "<span style=\"font-size: small; color: PaleVioletRed; align: center\"><strong>Machine Learning and Containerization</strong></span>\n",
    "^^^\n",
    "\n",
    "In this project, we built and compared logistic regression, random forest, and gradient boost classifiers for detecting fraudulent transactions. Despite dataset imbalances, logistic regression emerged as the preferred model due to its swift implementation, interpretability, and practical suitability.\n",
    "+++\n",
    "[→ Explore Project](https://ubc-mds.github.io/fraud_detection/fraud_detection_full.html)\n",
    ":::\n",
    "::::"
   ]
  },
  {
   "cell_type": "markdown",
   "metadata": {},
   "source": []
  }
 ],
 "metadata": {
  "kernelspec": {
   "display_name": "base",
   "language": "python",
   "name": "python3"
  },
  "language_info": {
   "codemirror_mode": {
    "name": "ipython",
    "version": 3
   },
   "file_extension": ".py",
   "mimetype": "text/x-python",
   "name": "python",
   "nbconvert_exporter": "python",
   "pygments_lexer": "ipython3",
   "version": "3.11.7"
  }
 },
 "nbformat": 4,
 "nbformat_minor": 2
}