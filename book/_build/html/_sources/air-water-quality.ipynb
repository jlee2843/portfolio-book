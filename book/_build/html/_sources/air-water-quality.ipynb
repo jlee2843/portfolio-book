{
 "cells": [
  {
   "cell_type": "markdown",
   "metadata": {},
   "source": [
    "# Environmental Health in Canada\n",
    "Jenny Lee, September 2021"
   ]
  },
  {
   "cell_type": "markdown",
   "metadata": {},
   "source": [
    "```{note}\n",
    "Kindly note that this web page solely offers a synopsis of the **Alternative Recipe** project. The comprehensive set of scripts and codes used in the project is available in the corresponding [GitHub repository](https://github.com/jlee2843/data-visualizations-portfolio/tree/main).\n",
    "```"
   ]
  },
  {
   "cell_type": "markdown",
   "metadata": {},
   "source": [
    "## Project Outline"
   ]
  },
  {
   "cell_type": "markdown",
   "metadata": {},
   "source": [
    "```{admonition} Data science toolbox used in this project\n",
    ":class: tip, dropdown\n",
    "- Data analysis\n",
    "- Data cleaning and wrangling\n",
    "- Interactive visualizations with `Plotly`\n",
    "```"
   ]
  },
  {
   "cell_type": "markdown",
   "metadata": {},
   "source": [
    "In this project, I integrated three different types of datasets: air pollutant emissions, wildfires in Canada, and Canadian population estimates. The original data sources were as follows:\n",
    "\n",
    "- **Air Pollution Emissions Across Provinces**: Canada's Air Pollutant Emissions Inventory[^ref1]\n",
    "- **Wildfires in Canada**: Canadian National Fire Database[^ref2]\n",
    "- **Canadian Population Estimates**: Population Estimates from Statistics Canada[^ref3]\n",
    "\n",
    "The Government of Canada[^ref4]  had identified sulfur oxides, nitrogen oxides, volatile organic compounds, particulate matter, carbon monoxide, ammonia, and ground-level ozone as the most common air contaminants in Canada.\n",
    "\n",
    "Canada's Air Pollutant Inventory[^ref5] listed a total of thirteen air pollutants. For this project, the focus was on sulfur oxides, nitrogen oxides, volatile organic compounds, carbon monoxide, and ammonia—the pollutants recognized as the most common in Canada."
   ]
  },
  {
   "cell_type": "markdown",
   "metadata": {},
   "source": [
    "## Overall Process"
   ]
  },
  {
   "cell_type": "markdown",
   "metadata": {},
   "source": [
    "## References\n",
    "[^ref1]: Environment and Climate Change Canada. (n.d.). Canada's Air Pollutant Emissions Inventory. Retrieved September 2021, from https://data.ec.gc.ca/data/substances/monitor/canada-s-air-pollutant-emissions-inventory/APEI_Tables_Canada_Provinces_Territories/?lang\n",
    "[^ref2]: Canadian Forest Service. (n.d.). Canadian National Fire Database. Retrieved September 2021, from https://cwfis.cfs.nrcan.gc.ca/ha/nfdb\n",
    "[^ref3]: Statistics Canada. (n.d.). Population Estimates. Retrieved September 2021, from https://www150.statcan.gc.ca/t1/tbl1/en/tv.action?pid=1710000901\n",
    "[^ref4]: Government of Canada. (n.d.). Common Contaminants - Air Pollution. Retrieved September 2021, from https://www.canada.ca/en/environment-climate-change/services/air-pollution/pollutants/common-contaminants.html\n",
    "[^ref5]: Environment and Climate Change Canada. (n.d.). Canada's Air Pollutant Inventory. Retrieved September 2021, from https://data.ec.gc.ca/data/substances/monitor/canada-s-air-pollutant-emissions-inventory/APEI_Tables_Canada_Provinces_Territories/?lang"
   ]
  },
  {
   "cell_type": "markdown",
   "metadata": {},
   "source": [
    "# Air Quality in Canada"
   ]
  }
 ],
 "metadata": {
  "kernelspec": {
   "display_name": "base",
   "language": "python",
   "name": "python3"
  },
  "language_info": {
   "name": "python",
   "version": "3.11.7"
  }
 },
 "nbformat": 4,
 "nbformat_minor": 2
}
