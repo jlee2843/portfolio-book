{
 "cells": [
  {
   "cell_type": "markdown",
   "metadata": {},
   "source": [
    "# Environmental Health in Canada"
   ]
  },
  {
   "cell_type": "markdown",
   "metadata": {},
   "source": [
    "In the **Environmental Health in Canada** project, my goal is to develop interactive visualizations enabling users to discern the trends in air and water quality changes across provinces. The project is heavily centered on data wrangling, analysis, and visualizations."
   ]
  },
  {
   "cell_type": "markdown",
   "metadata": {},
   "source": [
    "::::{grid}\n",
    ":gutter: 2\n",
    "\n",
    ":::{grid-item-card} ⛰️ Air Quality in Canada {bdg-dark}`Python` \n",
    ":link: https://jlee2843.github.io/portfolio-book/air-quality.html\n",
    "\n",
    "Visualizations or analysis created to inspect the water quality in Canada includes:\n",
    "- Stacked bar graph with dropdown menu\n",
    "- Pie graph with dropdown menu\n",
    "- Stacked line graph with subplots for comparison of values\n",
    "- Correlation Anslysis\n",
    "+++\n",
    "<span style=\"font-size: small; color: gray;\"> Last updated: September 2022 </span>\n",
    "<!-- [→ Explore Project](../alternative-recipe.ipynb) -->\n",
    ":::\n",
    "\n",
    ":::{grid-item-card} 🚰 Water Quality in Canada {bdg-dark}`Python`\n",
    "\n",
    "Visualizations or analysis created to inspect the water quality in Canada includes:\n",
    "- Stacked line graph with dropdown menu\n",
    "- Geological heatmap for density comparison\n",
    "- Combined geological heatmap with dropdown menu using `ipywidget`\n",
    "+++\n",
    "<span style=\"font-size: small; color: gray;\"> Last updated: September 2022 </span>\n",
    ":::\n",
    "\n",
    "::::"
   ]
  },
  {
   "cell_type": "markdown",
   "metadata": {},
   "source": [
    "More visualizations may be added in the future."
   ]
  }
 ],
 "metadata": {
  "language_info": {
   "name": "python"
  }
 },
 "nbformat": 4,
 "nbformat_minor": 2
}
